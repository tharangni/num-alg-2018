{
 "cells": [
  {
   "cell_type": "markdown",
   "metadata": {},
   "source": [
    "Please **submit this Jupyter notebook through Canvas** no later than **Monday November 5 12:59**, before the start of the lecture.\n",
    "\n",
    "Homework is in **groups of two**, and you are expected to hand in original work. Work that is copied from another group will not be accepted."
   ]
  },
  {
   "cell_type": "markdown",
   "metadata": {},
   "source": [
    "# Exercise 0\n",
    "Write down the names + student ID of the people in your group."
   ]
  },
  {
   "cell_type": "markdown",
   "metadata": {},
   "source": [
    "Tharangni H Sivaji (11611065)"
   ]
  },
  {
   "cell_type": "code",
   "execution_count": 1,
   "metadata": {},
   "outputs": [],
   "source": [
    "import numpy as np\n",
    "import matplotlib.pyplot as plt\n",
    "\n",
    "from prettytable import PrettyTable"
   ]
  },
  {
   "cell_type": "markdown",
   "metadata": {},
   "source": [
    "-----\n",
    "# Exercise 1\n",
    "Compute a solution to the equation\n",
    "\n",
    "$$ 600 x^4 - 550 x^3 + 200 x^2 - 20 x - 1 = 0, \\quad x \\in [0.1, 1.0], $$\n",
    "\n",
    "using each of the following methods."
   ]
  },
  {
   "cell_type": "code",
   "execution_count": 2,
   "metadata": {},
   "outputs": [],
   "source": [
    "def f(x):\n",
    "    y = 600*x**4 - 550*x**3 + 200*x**2 - 20*x - 1\n",
    "    return y"
   ]
  },
  {
   "cell_type": "code",
   "execution_count": 3,
   "metadata": {},
   "outputs": [],
   "source": [
    "def f_x(x):\n",
    "    y = 2400*x**3 - 1650*x**2 + 400*x -20\n",
    "    return y"
   ]
  },
  {
   "cell_type": "markdown",
   "metadata": {},
   "source": [
    "## (a)\n",
    "Using the interval bisection method."
   ]
  },
  {
   "cell_type": "code",
   "execution_count": 4,
   "metadata": {},
   "outputs": [],
   "source": [
    "def interval_bisection(a, b, tol):\n",
    "    \n",
    "    print(\"Interval Bisection: \\na: {}, b: {}\".format(a, b))\n",
    "\n",
    "    t = PrettyTable(['k', 'a', 'f(a)', 'b', 'f(b)'])\n",
    "    c = 0.0\n",
    "    k = np.ceil(np.log2((b-a)/tol))\n",
    "    data = {}\n",
    "\n",
    "    while((b-a) > tol):\n",
    "           \n",
    "        t.add_row([c, a, f(a), b, f(b)])\n",
    "        #data[c] = a\n",
    "        data[c] = b\n",
    "        m = a + (b-a)/2\n",
    "             \n",
    "        if (np.sign(f(a)) == np.sign(f(m))):\n",
    "            a = m\n",
    "        else:\n",
    "            b = m\n",
    "\n",
    "        c = c + 1\n",
    "    \n",
    "    print(t)\n",
    "    print(\"\\nNumber of iterations observed for tol {} is: {}\".format(tol, c))    \n",
    "    print(\"Number of iterations required for tol {} is: {}\".format(tol, k))\n",
    "    return data"
   ]
  },
  {
   "cell_type": "code",
   "execution_count": 5,
   "metadata": {
    "scrolled": false
   },
   "outputs": [
    {
     "name": "stdout",
     "output_type": "stream",
     "text": [
      "Interval Bisection: \n",
      "a: 0.1, b: 1.0\n",
      "+------+---------------------+------------------------+---------------------+-----------------------+\n",
      "|  k   |          a          |          f(a)          |          b          |          f(b)         |\n",
      "+------+---------------------+------------------------+---------------------+-----------------------+\n",
      "| 0.0  |         0.1         |  -1.4899999999999998   |         1.0         |         229.0         |\n",
      "| 1.0  |         0.1         |  -1.4899999999999998   |         0.55        |        11.8975        |\n",
      "| 2.0  |         0.1         |  -1.4899999999999998   | 0.32500000000000007 |   1.438515624999999   |\n",
      "| 3.0  | 0.21250000000000002 |  -0.2729345703124988   | 0.32500000000000007 |   1.438515624999999   |\n",
      "| 4.0  | 0.21250000000000002 |  -0.2729345703124988   | 0.26875000000000004 |   0.5243295288085932  |\n",
      "| 5.0  | 0.21250000000000002 |  -0.2729345703124988   | 0.24062500000000003 |  0.11629644393920824  |\n",
      "| 6.0  | 0.22656250000000003 |  -0.0805102884769422   | 0.24062500000000003 |  0.11629644393920824  |\n",
      "| 7.0  | 0.22656250000000003 |  -0.0805102884769422   | 0.23359375000000004 |  0.017347389683127545 |\n",
      "| 8.0  | 0.23007812500000002 |  -0.03171676135156254  | 0.23359375000000004 |  0.017347389683127545 |\n",
      "| 9.0  | 0.23183593750000003 | -0.007218566652444913  | 0.23359375000000004 |  0.017347389683127545 |\n",
      "| 10.0 | 0.23183593750000003 | -0.007218566652444913  | 0.23271484375000004 |  0.005055927188423404 |\n",
      "| 11.0 | 0.23227539062500002 | -0.0010834387127900413 | 0.23271484375000004 |  0.005055927188423404 |\n",
      "| 12.0 | 0.23227539062500002 | -0.0010834387127900413 | 0.23249511718750004 | 0.0019857142509822623 |\n",
      "| 13.0 | 0.23227539062500002 | -0.0010834387127900413 | 0.23238525390625003 | 0.0004510053039021855 |\n",
      "| 14.0 | 0.23233032226562503 | -0.0003162498169171357 | 0.23238525390625003 | 0.0004510053039021855 |\n",
      "| 15.0 | 0.23233032226562503 | -0.0003162498169171357 | 0.23235778808593754 | 6.736946490093487e-05 |\n",
      "| 16.0 | 0.23234405517578127 | -0.0001244422455961569 | 0.23235778808593754 | 6.736946490093487e-05 |\n",
      "+------+---------------------+------------------------+---------------------+-----------------------+\n",
      "\n",
      "Number of iterations observed for tol 1e-05 is: 17.0\n",
      "Number of iterations required for tol 1e-05 is: 17.0\n"
     ]
    }
   ],
   "source": [
    "bisect = interval_bisection(0.1, 1.0, 1e-5)"
   ]
  },
  {
   "cell_type": "markdown",
   "metadata": {},
   "source": [
    "## (b)\n",
    "Using newton's method."
   ]
  },
  {
   "cell_type": "code",
   "execution_count": 6,
   "metadata": {},
   "outputs": [],
   "source": [
    "def newton_method(x0, tol):\n",
    "    \n",
    "    print(\"Newton method: \\nx0: {}\".format(x0))\n",
    "    t = PrettyTable(['k', 'x_k' ,'f(x_k)', 'f`(x_k) ', 'h_k'])\n",
    "    h_k = 1\n",
    "    k = 0\n",
    "    data = {}\n",
    "    \n",
    "    while ( abs(f(x0)) > tol and abs(h_k)/abs(f(x0)) > tol ):\n",
    "        \n",
    "        h_k = -f(x0)/f_x(x0)\n",
    "        x1 = x0 + h_k\n",
    "        \n",
    "        t.add_row([k, x0, f(x0), f_x(x0), h_k])\n",
    "        data[k] = x0\n",
    "        \n",
    "        x0 = x1\n",
    "        k = k+1\n",
    "    \n",
    "    print(t)\n",
    "    print(\"\\nNumber of iterations required for tol {} is: {}\".format(tol, k))\n",
    "    return data"
   ]
  },
  {
   "cell_type": "code",
   "execution_count": 7,
   "metadata": {},
   "outputs": [
    {
     "name": "stdout",
     "output_type": "stream",
     "text": [
      "Newton method: \n",
      "x0: 1\n",
      "+---+---------------------+-----------------------+--------------------+------------------------+\n",
      "| k |         x_k         |         f(x_k)        |      f`(x_k)       |          h_k           |\n",
      "+---+---------------------+-----------------------+--------------------+------------------------+\n",
      "| 0 |          1          |          229          |        1130        |  -0.20265486725663717  |\n",
      "| 1 |  0.7973451327433628 |   73.91309836600178   | 466.5421980224505  |  -0.15842746632416088  |\n",
      "| 2 |  0.638917666419202  |   24.39992755239094   | 187.97008557478358 |  -0.12980750355983356  |\n",
      "| 3 |  0.5091101628593684 |   8.388255233507152   | 72.67424459052648  |   -0.115422668385061   |\n",
      "| 4 |  0.3936874944743074 |   2.9776699943754794  | 28.183907727456415 |  -0.1056514243223508   |\n",
      "| 5 |  0.2880360701519566 |   0.8188600501022085  | 15.674981318926982 | -0.052239937862858195  |\n",
      "| 6 |  0.2357961322890984 |  0.04822241526860882  | 14.043288278016568 | -0.0034338407297453562 |\n",
      "| 7 | 0.23236229155935303 | 0.0001302717417122068 | 13.967552060044866 | -9.32674108907444e-06  |\n",
      "+---+---------------------+-----------------------+--------------------+------------------------+\n",
      "\n",
      "Number of iterations required for tol 1e-05 is: 8\n"
     ]
    }
   ],
   "source": [
    "newton = newton_method(1, 1e-5)"
   ]
  },
  {
   "cell_type": "markdown",
   "metadata": {},
   "source": [
    "## (c)\n",
    "Using the secant method."
   ]
  },
  {
   "cell_type": "code",
   "execution_count": 8,
   "metadata": {},
   "outputs": [],
   "source": [
    "def secant_method(x0, x1, tol):\n",
    "    \n",
    "    print(\"Secant method: \\nx0: {}, x1: {}\".format(x0, x1))\n",
    "    t = PrettyTable(['k', 'x_k' ,'f(x_k)', 'h_k'])\n",
    "    k = 0\n",
    "    h_k = 1\n",
    "    data = {}\n",
    "    \n",
    "    while ( abs(f(x1)) > tol ):\n",
    "        \n",
    "        h_k = - f(x1)*(x1 - x0)/(f(x1) - f(x0))\n",
    "        x2 = x1 + h_k\n",
    "        t.add_row([k, x1, f(x1), h_k])\n",
    "        data[k] = x1\n",
    "        \n",
    "        x0 = x1\n",
    "        x1 = x2\n",
    "        k = k+1\n",
    "        \n",
    "    print(t)\n",
    "    print(\"\\nNumber of iterations required for tol {} is: {}\".format(tol, k))    \n",
    "    return data"
   ]
  },
  {
   "cell_type": "code",
   "execution_count": 9,
   "metadata": {},
   "outputs": [
    {
     "name": "stdout",
     "output_type": "stream",
     "text": [
      "Secant method: \n",
      "x0: 3, x1: 1\n",
      "+----+---------------------+-----------------------+-------------------------+\n",
      "| k  |         x_k         |         f(x_k)        |           h_k           |\n",
      "+----+---------------------+-----------------------+-------------------------+\n",
      "| 0  |          1          |          229          |  -0.012989222915484969  |\n",
      "| 1  |  0.987010777084515  |   214.68088864602456  |   -0.19474238654785206  |\n",
      "| 2  |  0.792268390536663  |   71.57464090255063   |   -0.09740047416136557  |\n",
      "| 3  |  0.6948679163752974 |   37.021371972520804  |   -0.10435768585397061  |\n",
      "| 4  |  0.5905102305213268 |   16.63448974884675   |   -0.08514969756068957  |\n",
      "| 5  |  0.5053605329606372 |   8.119838805307314   |   -0.08120142834957618  |\n",
      "| 6  | 0.42415910461106104 |   3.948800035814795   |   -0.07687490356605614  |\n",
      "| 7  |  0.3472842010450049 |   1.866541848801866   |   -0.06891087067089083  |\n",
      "| 8  | 0.27837333037411405 |   0.6694606485333914  |   -0.03853800073043398  |\n",
      "| 9  | 0.23983532964368007 |  0.10512826429630184  |  -0.007179161145815145  |\n",
      "| 10 |  0.2326561684978649 |  0.004235961156239476 |  -0.0003014169247959333 |\n",
      "| 11 | 0.23235475157306898 | 2.495721465756162e-05 | -1.7863974952082999e-06 |\n",
      "+----+---------------------+-----------------------+-------------------------+\n",
      "\n",
      "Number of iterations required for tol 1e-05 is: 12\n"
     ]
    }
   ],
   "source": [
    "secant = secant_method(3, 1, 1e-5)"
   ]
  },
  {
   "cell_type": "markdown",
   "metadata": {},
   "source": [
    "## (d)\n",
    "Compare the speed of convergence you observe for the three methods. Plot your results and briefly explain."
   ]
  },
  {
   "cell_type": "code",
   "execution_count": 22,
   "metadata": {
    "scrolled": false
   },
   "outputs": [
    {
     "data": {
      "image/png": "[encoded data removed]",
      "text/plain": [
       "<Figure size 1152x720 with 1 Axes>"
      ]
     },
     "metadata": {},
     "output_type": "display_data"
    }
   ],
   "source": [
    "plt.rcParams[\"figure.figsize\"] = (16, 10)\n",
    "plt.plot(bisect.keys(), bisect.values(), label = \"Interval Bisection\")\n",
    "plt.plot(len(bisect)-1, bisect[len(bisect)-1], \"b|\", markersize = 14, markeredgewidth = 2.5)\n",
    "plt.plot(newton.keys(), newton.values(), label = \"Newton Method\")\n",
    "plt.plot(len(newton)-1, newton[len(newton)-1], \"|\", color=\"orange\", markersize = 14, markeredgewidth = 2.5)\n",
    "plt.plot(secant.keys(), secant.values(), label = \"Secant Method\")\n",
    "plt.plot(len(secant)-1, secant[len(secant)-1], \"g|\", markersize = 14, markeredgewidth = 2.5)\n",
    "plt.xlabel(r'$k$ iterations', fontsize = 14)\n",
    "plt.ylabel(r'$x_k$ value at each iteration', fontsize = 14)\n",
    "plt.title(r'Speed of convergence for different methods', fontsize = 14)\n",
    "plt.legend() \n",
    "plt.show()"
   ]
  },
  {
   "cell_type": "markdown",
   "metadata": {},
   "source": [
    "All the three methods have the same starting point ($x_k = 1$) for uniform comparison. It can be seen that Newton method converges the fastest. Reasons for this are as follows:\n",
    "\n",
    "1. **Interval Bisection** : It takes the longest time to converge since it doesn't take the magnitude of the function value but rather only the sign for updating in the next iteration.\n",
    "2. **Newton Method** : It is so far the fastest method for convergence. It has a quaratic convergence rate. This means that the number of correct digits in the approximate solution is doubled at each iteration. \n",
    "3. **Secant Method** : The approximate solution produced by the secant method depends on the previous two iterates and thereby its convergence behaviour is somewhat complicated (hence a bit slower than Newton). It has a convergence rate of $\\approx 1.618$ and is superlinearly convergent. "
   ]
  },
  {
   "cell_type": "markdown",
   "metadata": {},
   "source": [
    "--------\n",
    "# Exercise 2\n",
    "Consider the following boundary value problem involving a nonlinear ordinary differential equation:\n",
    "\n",
    "$$y''(x) + \\exp(y(x)) = 0, \\quad 0 < x < 1, \\quad y(0) = y(1) = 0.$$\n",
    "\n",
    "We can approximate the solution by discretizing the differential equation and solving the resulting system of nonlinear equations. Suppose we use $n+2$ discretization points for $x$ (denoted $x_k = kh$ for $k \\in \\{0, \\ldots, n+1\\}$ and $h = 1/(n+1)$, the approximate solution is denoted $y_k = y(x_k)$.\n",
    "\n",
    "We will use a _central finite difference_ approximation for the second derivative: \n",
    "\n",
    "$$y''(t_k) \\approx (y_{k+1} - 2 y_k + y_{k-1})/h^2.$$\n",
    "\n",
    "From the boundary values, we conclude that $y_0 = y_{n+1} = 0$. The result is a set of $n$ nonlinear equations\n",
    "\n",
    "$$ \\frac{y_{k+1} + y_{k-1} - 2 y_k}{h^2} + \\exp y_k = 0, \\quad k = 1, \\ldots, n.$$"
   ]
  },
  {
   "cell_type": "markdown",
   "metadata": {},
   "source": [
    "## (a)\n",
    "Write this set of equations as $\\mathbf{f}(\\mathbf x) = \\mathbf{0}$, where $\\mathbf f$ is a function from $\\mathbf x \\in \\mathbb R^{n}$ to $\\mathbf f(\\mathbf x) \\in \\mathbb R^{n}$. What is $\\mathbf x$, and what is $\\mathbf f$?"
   ]
  },
  {
   "cell_type": "markdown",
   "metadata": {},
   "source": []
  },
  {
   "cell_type": "markdown",
   "metadata": {},
   "source": [
    "## (b)\n",
    "What is the Jacobian corresponding to this set of equations?"
   ]
  },
  {
   "cell_type": "markdown",
   "metadata": {},
   "source": []
  },
  {
   "cell_type": "markdown",
   "metadata": {},
   "source": [
    "## (c)\n",
    "Using Newton's method, solve the system of equations. Try various initial guesses, including zero (i.e., $y_k = 0$ for all $k$). Show the solutions you find, and discuss the convergence that you observe."
   ]
  },
  {
   "cell_type": "code",
   "execution_count": null,
   "metadata": {},
   "outputs": [],
   "source": []
  }
 ],
 "metadata": {
  "kernelspec": {
   "display_name": "Python 3",
   "language": "python",
   "name": "python3"
  },
  "language_info": {
   "codemirror_mode": {
    "name": "ipython",
    "version": 3
   },
   "file_extension": ".py",
   "mimetype": "text/x-python",
   "name": "python",
   "nbconvert_exporter": "python",
   "pygments_lexer": "ipython3",
   "version": "3.6.5"
  }
 },
 "nbformat": 4,
 "nbformat_minor": 2
}
