{
 "cells": [
  {
   "cell_type": "markdown",
   "metadata": {},
   "source": [
    "Please **submit this Jupyter notebook through Canvas** no later than **Monday November 5 12:59**, before the start of the lecture.\n",
    "\n",
    "Homework is in **groups of two**, and you are expected to hand in original work. Work that is copied from another group will not be accepted."
   ]
  },
  {
   "cell_type": "markdown",
   "metadata": {},
   "source": [
    "# Exercise 0\n",
    "Write down the names + student ID of the people in your group."
   ]
  },
  {
   "cell_type": "markdown",
   "metadata": {},
   "source": [
    "Tharangni H Sivaji (11611065)"
   ]
  },
  {
   "cell_type": "code",
   "execution_count": 15,
   "metadata": {},
   "outputs": [],
   "source": [
    "import numpy as np\n",
    "import matplotlib.pyplot as plt\n",
    "\n",
    "from prettytable import PrettyTable"
   ]
  },
  {
   "cell_type": "markdown",
   "metadata": {},
   "source": [
    "-----\n",
    "# Exercise 1\n",
    "Compute a solution to the equation\n",
    "\n",
    "$$ 600 x^4 - 550 x^3 + 200 x^2 - 20 x - 1 = 0, \\quad x \\in [0.1, 1.0], $$\n",
    "\n",
    "using each of the following methods."
   ]
  },
  {
   "cell_type": "code",
   "execution_count": 2,
   "metadata": {},
   "outputs": [],
   "source": [
    "def f(x):\n",
    "    y = 600*x**4 - 550*x**3 + 200*x**2 - 20*x - 1\n",
    "    return y"
   ]
  },
  {
   "cell_type": "code",
   "execution_count": 40,
   "metadata": {},
   "outputs": [],
   "source": [
    "def f_x(x):\n",
    "    y = 2400*x**3 - 1500*x**2 + 400*x -20\n",
    "    return y"
   ]
  },
  {
   "cell_type": "markdown",
   "metadata": {},
   "source": [
    "## (a)\n",
    "Using the interval bisection method."
   ]
  },
  {
   "cell_type": "code",
   "execution_count": 41,
   "metadata": {},
   "outputs": [],
   "source": [
    "def interval_bisection(a, b, tol):\n",
    "    t = PrettyTable(['a', 'f(a)', 'b', 'f(b)'])\n",
    "    c = 0.0\n",
    "    k = np.ceil(np.log2((b-a)/tol))\n",
    "\n",
    "    while((b-a) > tol):\n",
    "           \n",
    "        t.add_row([a, f(a), b, f(b)])\n",
    "        \n",
    "        m = a + (b-a)/2\n",
    "             \n",
    "        if (np.sign(f(a)) == np.sign(f(m))):\n",
    "            a = m\n",
    "        else:\n",
    "            b = m\n",
    "        c = c + 1\n",
    "    \n",
    "    print(\"Interval Bisection:\")\n",
    "    print(t)\n",
    "    print(\"\\nNumber of iterations observed for tol {} is: {}\".format(tol, c))    \n",
    "    print(\"Number of iterations required for tol {} is: {}\".format(tol, k))"
   ]
  },
  {
   "cell_type": "code",
   "execution_count": 42,
   "metadata": {
    "scrolled": false
   },
   "outputs": [
    {
     "name": "stdout",
     "output_type": "stream",
     "text": [
      "Interval Bisection:\n",
      "+---------------------+------------------------+---------------------+-----------------------+\n",
      "|          a          |          f(a)          |          b          |          f(b)         |\n",
      "+---------------------+------------------------+---------------------+-----------------------+\n",
      "|         0.1         |  -1.4899999999999998   |         1.0         |         229.0         |\n",
      "|         0.1         |  -1.4899999999999998   |         0.55        |        11.8975        |\n",
      "|         0.1         |  -1.4899999999999998   | 0.32500000000000007 |   1.438515624999999   |\n",
      "| 0.21250000000000002 |  -0.2729345703124988   | 0.32500000000000007 |   1.438515624999999   |\n",
      "| 0.21250000000000002 |  -0.2729345703124988   | 0.26875000000000004 |   0.5243295288085932  |\n",
      "| 0.21250000000000002 |  -0.2729345703124988   | 0.24062500000000003 |  0.11629644393920824  |\n",
      "| 0.22656250000000003 |  -0.0805102884769422   | 0.24062500000000003 |  0.11629644393920824  |\n",
      "| 0.22656250000000003 |  -0.0805102884769422   | 0.23359375000000004 |  0.017347389683127545 |\n",
      "| 0.23007812500000002 |  -0.03171676135156254  | 0.23359375000000004 |  0.017347389683127545 |\n",
      "| 0.23183593750000003 | -0.007218566652444913  | 0.23359375000000004 |  0.017347389683127545 |\n",
      "| 0.23183593750000003 | -0.007218566652444913  | 0.23271484375000004 |  0.005055927188423404 |\n",
      "| 0.23227539062500002 | -0.0010834387127900413 | 0.23271484375000004 |  0.005055927188423404 |\n",
      "| 0.23227539062500002 | -0.0010834387127900413 | 0.23249511718750004 | 0.0019857142509822623 |\n",
      "| 0.23227539062500002 | -0.0010834387127900413 | 0.23238525390625003 | 0.0004510053039021855 |\n",
      "+---------------------+------------------------+---------------------+-----------------------+\n",
      "\n",
      "Number of iterations observed for tol 0.0001 is: 14.0\n",
      "Number of iterations required for tol 0.0001 is: 14.0\n"
     ]
    }
   ],
   "source": [
    "interval_bisection(0.1, 1.0, 1e-4)"
   ]
  },
  {
   "cell_type": "markdown",
   "metadata": {},
   "source": [
    "## (b)\n",
    "Using newton's method."
   ]
  },
  {
   "cell_type": "code",
   "execution_count": null,
   "metadata": {},
   "outputs": [],
   "source": [
    "def newton_method(x0):\n",
    "    k = 0\n",
    "    "
   ]
  },
  {
   "cell_type": "markdown",
   "metadata": {},
   "source": [
    "## (c)\n",
    "Using the secant method."
   ]
  },
  {
   "cell_type": "code",
   "execution_count": null,
   "metadata": {},
   "outputs": [],
   "source": []
  },
  {
   "cell_type": "markdown",
   "metadata": {},
   "source": [
    "## (d)\n",
    "Compare the speed of convergence you observe for the three methods. Plot your results and briefly explain."
   ]
  },
  {
   "cell_type": "code",
   "execution_count": null,
   "metadata": {},
   "outputs": [],
   "source": []
  },
  {
   "cell_type": "markdown",
   "metadata": {},
   "source": [
    "--------\n",
    "# Exercise 2\n",
    "Consider the following boundary value problem involving a nonlinear ordinary differential equation:\n",
    "\n",
    "$$y''(x) + \\exp(y(x)) = 0, \\quad 0 < x < 1, \\quad y(0) = y(1) = 0.$$\n",
    "\n",
    "We can approximate the solution by discretizing the differential equation and solving the resulting system of nonlinear equations. Suppose we use $n+2$ discretization points for $x$ (denoted $x_k = kh$ for $k \\in \\{0, \\ldots, n+1\\}$ and $h = 1/(n+1)$, the approximate solution is denoted $y_k = y(x_k)$.\n",
    "\n",
    "We will use a _central finite difference_ approximation for the second derivative: \n",
    "\n",
    "$$y''(t_k) \\approx (y_{k+1} - 2 y_k + y_{k-1})/h^2.$$\n",
    "\n",
    "From the boundary values, we conclude that $y_0 = y_{n+1} = 0$. The result is a set of $n$ nonlinear equations\n",
    "\n",
    "$$ \\frac{y_{k+1} + y_{k-1} - 2 y_k}{h^2} + \\exp y_k = 0, \\quad k = 1, \\ldots, n.$$"
   ]
  },
  {
   "cell_type": "markdown",
   "metadata": {},
   "source": [
    "## (a)\n",
    "Write this set of equations as $\\mathbf{f}(\\mathbf x) = \\mathbf{0}$, where $\\mathbf f$ is a function from $\\mathbf x \\in \\mathbb R^{n+1}$ to $\\mathbf f(\\mathbf x) \\in \\mathbb R^{n+1}$. What is $\\mathbf x$, and what is $\\mathbf f$?"
   ]
  },
  {
   "cell_type": "markdown",
   "metadata": {},
   "source": []
  },
  {
   "cell_type": "markdown",
   "metadata": {},
   "source": [
    "## (b)\n",
    "What is the Jacobian corresponding to this set of equations?"
   ]
  },
  {
   "cell_type": "markdown",
   "metadata": {},
   "source": []
  },
  {
   "cell_type": "markdown",
   "metadata": {},
   "source": [
    "## (c)\n",
    "Using Newton's method, solve the system of equations. Try various initial guesses, including zero (i.e., $y_k = 0$ for all $k$). Show the solutions you find, and discuss the convergence that you observe."
   ]
  },
  {
   "cell_type": "code",
   "execution_count": null,
   "metadata": {},
   "outputs": [],
   "source": []
  }
 ],
 "metadata": {
  "kernelspec": {
   "display_name": "Python 3",
   "language": "python",
   "name": "python3"
  },
  "language_info": {
   "codemirror_mode": {
    "name": "ipython",
    "version": 3
   },
   "file_extension": ".py",
   "mimetype": "text/x-python",
   "name": "python",
   "nbconvert_exporter": "python",
   "pygments_lexer": "ipython3",
   "version": "3.6.5"
  }
 },
 "nbformat": 4,
 "nbformat_minor": 2
}
