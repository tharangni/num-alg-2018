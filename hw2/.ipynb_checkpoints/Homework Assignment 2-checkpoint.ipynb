{
 "cells": [
  {
   "cell_type": "markdown",
   "metadata": {},
   "source": [
    "Please **submit this Jupyter notebook through Canvas** no later than **Monday November 12, 12:59**, before the start of the lecture.\n",
    "\n",
    "Homework is in **groups of two**, and you are expected to hand in original work. Work that is copied from another group will not be accepted."
   ]
  },
  {
   "cell_type": "markdown",
   "metadata": {},
   "source": [
    "# Exercise 0\n",
    "Write down the names + student ID of the people in your group."
   ]
  },
  {
   "cell_type": "markdown",
   "metadata": {},
   "source": [
    "Tharangni H Sivaji (11611065)"
   ]
  },
  {
   "cell_type": "code",
   "execution_count": 1,
   "metadata": {},
   "outputs": [],
   "source": [
    "import sys\n",
    "import matplotlib\n",
    "import numpy as np\n",
    "import scipy.linalg as la\n",
    "import matplotlib.pyplot as plt\n",
    "\n",
    "pgf_with_rc_fonts = {\"pgf.texsystem\": \"pdflatex\"}\n",
    "matplotlib.rcParams.update(pgf_with_rc_fonts)"
   ]
  },
  {
   "cell_type": "code",
   "execution_count": 2,
   "metadata": {},
   "outputs": [
    {
     "data": {
      "text/plain": [
       "2.220446049250313e-16"
      ]
     },
     "execution_count": 2,
     "metadata": {},
     "output_type": "execute_result"
    }
   ],
   "source": [
    "sys.float_info.epsilon"
   ]
  },
  {
   "cell_type": "markdown",
   "metadata": {},
   "source": [
    "-----\n",
    "# Exercise 1"
   ]
  },
  {
   "cell_type": "markdown",
   "metadata": {},
   "source": [
    "## (a)\n",
    "Let $A$ be the matrix $\\begin{bmatrix} 1 & -1 & \\alpha \\\\ 2 & 2 & 1 \\\\ 0 & \\alpha & -3/2 \\end{bmatrix}$. For which values of $\\alpha$ is $A$ singular?"
   ]
  },
  {
   "cell_type": "markdown",
   "metadata": {},
   "source": [
    "Singular matrix $\\Rightarrow$ det(A) = 0. Therefore, solving for det(A) = 0,\n",
    "\n",
    "$ 1(-3 - \\alpha) + (-3 - 0) + \\alpha(2\\alpha - 0) = 0 $\n",
    "\n",
    "$ 2\\alpha^2 - \\alpha -6 = 0 $\n",
    "\n",
    "$ 2\\alpha(\\alpha-2) + 3(\\alpha-2) = 0 $\n",
    "\n",
    "$ \\Rightarrow \\alpha = 2, \\frac{-3}{2} $"
   ]
  },
  {
   "cell_type": "markdown",
   "metadata": {},
   "source": [
    "---\n",
    "\n",
    "## (b)\n",
    "Consider the following linear system of equations:\n",
    "$$\n",
    "\\begin{align*}\n",
    "2x + y + z & = 3 \\\\\n",
    "2x - y + 3z &= 5 \\\\\n",
    "-2x + \\alpha y + 3z &= 1.\n",
    "\\end{align*}\n",
    "$$\n",
    "For what values of $\\alpha$ does this system have an infinite number of solutions?"
   ]
  },
  {
   "cell_type": "markdown",
   "metadata": {},
   "source": [
    "Representing the given set of equations as matrix A, we have $A = \\begin{bmatrix} 2 & 1 & 1 \\\\ 2 & -1 & 3 \\\\ -2 & \\alpha & 3 \\end{bmatrix}$ and $b = \\begin{bmatrix} 3 \\\\ 5 \\\\ 1 \\end{bmatrix}$\n",
    "\n",
    "Singular matrices are invertible and have an infinite number of solutions. Moreover, singular matrices have a large condition number.\n",
    "\n",
    "$\\therefore \\text{det}(A) = 0 \\Rightarrow 2(-3 - 3\\alpha) - 1(6 + 6) + 1(2\\alpha - 2) = 0 $\n",
    "\n",
    "$ -20 - 4\\alpha = 0 $\n",
    "\n",
    "$ \\alpha = -5 $\n",
    "\n",
    "$ \\therefore A =  \\begin{bmatrix} 2 & 1 & 1 \\\\ 2 & -1 & 3 \\\\ -2 & \\textbf{-5} & 3 \\end{bmatrix}$"
   ]
  },
  {
   "cell_type": "code",
   "execution_count": 3,
   "metadata": {},
   "outputs": [],
   "source": [
    "A = np.matrix([[2, 1, 1], [2, -1, 3], [-2, -5, 3]])\n",
    "b = np.matrix([[3], [5], [1]])"
   ]
  },
  {
   "cell_type": "code",
   "execution_count": 4,
   "metadata": {},
   "outputs": [
    {
     "data": {
      "text/plain": [
       "inf"
      ]
     },
     "execution_count": 4,
     "metadata": {},
     "output_type": "execute_result"
    }
   ],
   "source": [
    "np.linalg.cond(A, p = 1) #1-norm has an infinite condition number"
   ]
  },
  {
   "cell_type": "code",
   "execution_count": 5,
   "metadata": {},
   "outputs": [
    {
     "name": "stdout",
     "output_type": "stream",
     "text": [
      "LinAlgError: Singular Matrix\n"
     ]
    }
   ],
   "source": [
    "# checking if the matrix is invertible or not. \n",
    "# If a matrix is not invertible, then there are zero or infinite solutions\n",
    "try:\n",
    "    np.linalg.solve(A, b) # singular matrices don't have a unique solution. so this throws an error\n",
    "    np.linalg.inv(A) # singular matrices don't have an inverse. therefore, this also results in an error\n",
    "except:\n",
    "    print(\"LinAlgError: Singular Matrix\")"
   ]
  },
  {
   "cell_type": "markdown",
   "metadata": {},
   "source": [
    "## (c)\n",
    "Denote the columns of an $n \\times n$ matrix $A$ as $A_k$ for $k=1,\\ldots,n$. We define the function $||A||_* = \\max_k ||A_k||_2$. Show that $||A||_*$ is a norm, in that it satisfies the first three properties of a matrix norm (cf. §2.3.2)."
   ]
  },
  {
   "cell_type": "markdown",
   "metadata": {},
   "source": []
  },
  {
   "cell_type": "markdown",
   "metadata": {},
   "source": [
    "----\n",
    "# Exercise 2\n",
    "For solving linear systems such as $Ax = b$, it is unnecessary (and often unstable) to compute the inverse $A^{-1}$. Nonetheless, there can be situations where it is useful to compute $A^{-1}$ explicitly. One way to do so is by using the LU-decomposition of $A$."
   ]
  },
  {
   "cell_type": "markdown",
   "metadata": {},
   "source": [
    "## (a)\n",
    "Write an algorithm to compute $A^{-1}$ for a non-singular matrix $A$ using its LU-decomposition. You can use `scipy.linalg.lu` (which returns an LU-decomposition with _partial pivoting_, i.e., with a permutation matrix $P$) and the other `scipy.linalg.lu_*` functions, but not `scipy.linalg.inv` (or other methods for computing matrix inverses directly)."
   ]
  },
  {
   "cell_type": "code",
   "execution_count": 6,
   "metadata": {},
   "outputs": [],
   "source": [
    "A = np.matrix([[2, 4, -2], [4, 9, -3], [-2, -1, 7]])\n",
    "b = np.matrix([[2], [8], [10]])"
   ]
  },
  {
   "cell_type": "code",
   "execution_count": 7,
   "metadata": {},
   "outputs": [],
   "source": [
    "def lu_inv(A):\n",
    "    # inverse can be computed only for square matrices\n",
    "    assert A.shape[0] == A.shape[1], \"Input is not a square matrix\"\n",
    "    \n",
    "    # calculate n, L, U for A\n",
    "    # L matrix undergoes permutation to enforce larger pivots which produce smaller multipliers and hence smaller errors\n",
    "    n = A.shape[0]    \n",
    "    L, U = la.lu(A, permute_l = True)\n",
    "    A_inv, d, temp = np.eye(n, dtype = float), np.eye(n, dtype = float), np.eye(n, dtype = float)\n",
    "    \n",
    "    for i in range(n):\n",
    "        # solve the lower tri sys by fwd substitution\n",
    "        d[:, i] = la.solve(L, temp[:, i])\n",
    "\n",
    "        # solve the upper tri sys by bkwd substitution \n",
    "        A_inv[:, i] = la.solve(U, d[:, i])\n",
    "        \n",
    "    return (A_inv)"
   ]
  },
  {
   "cell_type": "markdown",
   "metadata": {},
   "source": [
    "## (b)\n",
    "What is the computational complexity of your algorithm, given that the input matrix has size $n \\times n$?"
   ]
  },
  {
   "cell_type": "markdown",
   "metadata": {},
   "source": []
  },
  {
   "cell_type": "markdown",
   "metadata": {},
   "source": [
    "## (c)\n",
    "Apply your Python code to compute the inverse of the Hilbert matrix $H_n$ for $n=1, \\ldots, 12$ (see https://en.wikipedia.org/wiki/Hilbert_matrix) -- you can use `scipy.linalg.hilbert`. This matrix is _very_ ill-conditioned, so computing its inverse is very hard for large $n$.\n",
    "\n",
    "Compare the inverse with the \"true\" inverse given by `scipy.linalg.invhilbert`. Output a (`plt.semilogy`) graph showing how the $\\infty$-norm of their difference progresses for $n$."
   ]
  },
  {
   "cell_type": "code",
   "execution_count": 8,
   "metadata": {},
   "outputs": [],
   "source": [
    "N = 12\n",
    "temp = np.zeros((N,1))"
   ]
  },
  {
   "cell_type": "code",
   "execution_count": 9,
   "metadata": {},
   "outputs": [],
   "source": [
    "def hilbert_compare(n):\n",
    "    \n",
    "    H = la.hilbert(n)\n",
    "    H_inv_true = la.invhilbert(n)\n",
    "    H_inv = lu_inv(H)\n",
    "    \n",
    "    inf_norm = np.linalg.norm(H_inv, np.inf, keepdims= True)\n",
    "    inf_norm_true = np.linalg.norm(H_inv_true, np.inf, keepdims= True)\n",
    "    \n",
    "    return H_inv, H_inv_true, inf_norm, inf_norm_true"
   ]
  },
  {
   "cell_type": "code",
   "execution_count": 10,
   "metadata": {
    "scrolled": false
   },
   "outputs": [
    {
     "name": "stderr",
     "output_type": "stream",
     "text": [
      "/home/tharangni/anaconda3/lib/python3.6/site-packages/ipykernel_launcher.py:16: LinAlgWarning: scipy.linalg.solve\n",
      "Ill-conditioned matrix detected. Result is not guaranteed to be accurate.\n",
      "Reciprocal condition number7.916007e-17\n",
      "  app.launch_new_instance()\n"
     ]
    }
   ],
   "source": [
    "t = np.arange(1, N+1, 1)\n",
    "vals = [hilbert_compare(n) for n in t]\n",
    "vals = np.array(vals)"
   ]
  },
  {
   "cell_type": "code",
   "execution_count": 11,
   "metadata": {},
   "outputs": [
    {
     "data": {
      "text/plain": [
       "array([[ 8.88178420e-16, -1.77635684e-15],\n",
       "       [-1.77635684e-15,  3.55271368e-15]])"
      ]
     },
     "execution_count": 11,
     "metadata": {},
     "output_type": "execute_result"
    }
   ],
   "source": [
    "vals[1][0] - vals[1][1]"
   ]
  },
  {
   "cell_type": "code",
   "execution_count": 12,
   "metadata": {},
   "outputs": [],
   "source": [
    "for i in range(N):\n",
    "    temp[i] = np.linalg.norm(vals[i][0] - vals[i][1], np.inf)"
   ]
  },
  {
   "cell_type": "code",
   "execution_count": 21,
   "metadata": {
    "scrolled": false
   },
   "outputs": [
    {
     "data": {
      "image/png": "[encoded data removed]",
      "text/plain": [
       "<Figure size 720x432 with 1 Axes>"
      ]
     },
     "metadata": {},
     "output_type": "display_data"
    }
   ],
   "source": [
    "plt.figure(figsize = (10, 6))\n",
    "plt.semilogy(t, temp)\n",
    "plt.xlabel(\"n\", fontsize = 14)\n",
    "plt.ylabel(r'|| H_inv - H_inv_true ||$ _{\\infty}$',  fontsize = 14)\n",
    "plt.title(r'${\\infty}$-norm performance',  fontsize = 16)\n",
    "plt.show()"
   ]
  },
  {
   "cell_type": "markdown",
   "metadata": {},
   "source": [
    "## (d)\n",
    "It is known that the $2$-condition number $cond_2(H_n)$ of the Hilbert matrix grows like $\\mathcal O\\left(\\frac{(1+\\sqrt{2})^{4n}}{\\sqrt{n}}\\right)$. Does the $\\infty$-condition number (defined in Example 2.5) of $H_n$ grow in a similar way?\n",
    "For the matrix inverse, try both your own matrix inversion routine, and `scipy.linalg.invhilbert`. Output a (`plt.semilogy`) graph showing your results."
   ]
  },
  {
   "cell_type": "code",
   "execution_count": null,
   "metadata": {},
   "outputs": [],
   "source": []
  }
 ],
 "metadata": {
  "kernelspec": {
   "display_name": "Python 3",
   "language": "python",
   "name": "python3"
  },
  "language_info": {
   "codemirror_mode": {
    "name": "ipython",
    "version": 3
   },
   "file_extension": ".py",
   "mimetype": "text/x-python",
   "name": "python",
   "nbconvert_exporter": "python",
   "pygments_lexer": "ipython3",
   "version": "3.6.5"
  }
 },
 "nbformat": 4,
 "nbformat_minor": 2
}
