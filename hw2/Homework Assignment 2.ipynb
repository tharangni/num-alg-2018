{
 "cells": [
  {
   "cell_type": "markdown",
   "metadata": {},
   "source": [
    "Please **submit this Jupyter notebook through Canvas** no later than **Monday November 12, 12:59**, before the start of the lecture.\n",
    "\n",
    "Homework is in **groups of two**, and you are expected to hand in original work. Work that is copied from another group will not be accepted."
   ]
  },
  {
   "cell_type": "markdown",
   "metadata": {},
   "source": [
    "# Exercise 0\n",
    "Write down the names + student ID of the people in your group."
   ]
  },
  {
   "cell_type": "markdown",
   "metadata": {},
   "source": [
    "Tharangni H Sivaji (11611065)"
   ]
  },
  {
   "cell_type": "code",
   "execution_count": 1,
   "metadata": {},
   "outputs": [],
   "source": [
    "import sys\n",
    "import matplotlib\n",
    "import numpy as np\n",
    "import scipy.linalg as la\n",
    "import matplotlib.pyplot as plt"
   ]
  },
  {
   "cell_type": "code",
   "execution_count": 2,
   "metadata": {},
   "outputs": [
    {
     "data": {
      "text/plain": [
       "2.220446049250313e-16"
      ]
     },
     "execution_count": 2,
     "metadata": {},
     "output_type": "execute_result"
    }
   ],
   "source": [
    "sys.float_info.epsilon"
   ]
  },
  {
   "cell_type": "markdown",
   "metadata": {},
   "source": [
    "-----\n",
    "# Exercise 1"
   ]
  },
  {
   "cell_type": "markdown",
   "metadata": {},
   "source": [
    "## (a)\n",
    "Let $A$ be the matrix $\\begin{bmatrix} 1 & -1 & \\alpha \\\\ 2 & 2 & 1 \\\\ 0 & \\alpha & -3/2 \\end{bmatrix}$. For which values of $\\alpha$ is $A$ singular?"
   ]
  },
  {
   "cell_type": "markdown",
   "metadata": {},
   "source": [
    "Singular matrix $\\Rightarrow$ det(A) = 0. Therefore, solving for det(A) = 0,\n",
    "\n",
    "$ 1(-3 - \\alpha) + (-3 - 0) + \\alpha(2\\alpha - 0) = 0 $\n",
    "\n",
    "$ 2\\alpha^2 - \\alpha -6 = 0 $\n",
    "\n",
    "$ 2\\alpha(\\alpha-2) + 3(\\alpha-2) = 0 $\n",
    "\n",
    "$ \\Rightarrow \\alpha = 2, \\frac{-3}{2} $"
   ]
  },
  {
   "cell_type": "code",
   "execution_count": 3,
   "metadata": {},
   "outputs": [],
   "source": [
    "A = np.matrix([[1, -1, -3/2], [2, 2, 1], [0, -3/2, -3/2]])"
   ]
  },
  {
   "cell_type": "code",
   "execution_count": 4,
   "metadata": {},
   "outputs": [
    {
     "data": {
      "text/plain": [
       "0.0"
      ]
     },
     "execution_count": 4,
     "metadata": {},
     "output_type": "execute_result"
    }
   ],
   "source": [
    "np.linalg.det(A)"
   ]
  },
  {
   "cell_type": "markdown",
   "metadata": {},
   "source": [
    "---\n",
    "\n",
    "## (b)\n",
    "Consider the following linear system of equations:\n",
    "$$\n",
    "\\begin{align*}\n",
    "2x + y + z & = 3 \\\\\n",
    "2x - y + 3z &= 5 \\\\\n",
    "-2x + \\alpha y + 3z &= 1.\n",
    "\\end{align*}\n",
    "$$\n",
    "For what values of $\\alpha$ does this system have an infinite number of solutions?"
   ]
  },
  {
   "cell_type": "markdown",
   "metadata": {},
   "source": [
    "Representing the given set of equations as matrix A, we have $A = \\begin{bmatrix} 2 & 1 & 1 \\\\ 2 & -1 & 3 \\\\ -2 & \\alpha & 3 \\end{bmatrix}$ and $b = \\begin{bmatrix} 3 \\\\ 5 \\\\ 1 \\end{bmatrix}$\n",
    "\n",
    "Singular matrices are invertible and have an infinite number of solutions. Moreover, singular matrices have a large condition number.\n",
    "\n",
    "$\\therefore \\text{det}(A) = 0 \\Rightarrow 2(-3 - 3\\alpha) - 1(6 + 6) + 1(2\\alpha - 2) = 0 $\n",
    "\n",
    "$ -20 - 4\\alpha = 0 $\n",
    "\n",
    "$ \\alpha = -5 $\n",
    "\n",
    "$ \\therefore A =  \\begin{bmatrix} 2 & 1 & 1 \\\\ 2 & -1 & 3 \\\\ -2 & \\textbf{-5} & 3 \\end{bmatrix}$"
   ]
  },
  {
   "cell_type": "code",
   "execution_count": 5,
   "metadata": {},
   "outputs": [],
   "source": [
    "A = np.matrix([[2, 1, 1], [2, -1, 3], [-2, -5, 3]])\n",
    "b = np.matrix([[3], [5], [1]])"
   ]
  },
  {
   "cell_type": "code",
   "execution_count": 6,
   "metadata": {},
   "outputs": [
    {
     "data": {
      "text/plain": [
       "inf"
      ]
     },
     "execution_count": 6,
     "metadata": {},
     "output_type": "execute_result"
    }
   ],
   "source": [
    "np.linalg.cond(A, p = 1) #1-norm has an infinite condition number for singular matrices"
   ]
  },
  {
   "cell_type": "code",
   "execution_count": 7,
   "metadata": {},
   "outputs": [
    {
     "name": "stdout",
     "output_type": "stream",
     "text": [
      "0.0\n",
      "0.0\n",
      "LinAlgError: Singular Matrix\n"
     ]
    }
   ],
   "source": [
    "# checking if the matrix is invertible or not. \n",
    "# If a matrix is not invertible, then there are zero or infinite solutions\n",
    "try:\n",
    "    print(np.linalg.det(A))\n",
    "    print(np.linalg.solve(A, b)) # singular matrices don't have a unique solution. so this throws an error\n",
    "    print(np.linalg.inv(A)) # singular matrices don't have an inverse. therefore, this also results in an error\n",
    "except:\n",
    "    print(np.linalg.det(A))\n",
    "    print(\"LinAlgError: Singular Matrix\")"
   ]
  },
  {
   "cell_type": "markdown",
   "metadata": {},
   "source": [
    "## (c)\n",
    "Denote the columns of an $n \\times n$ matrix $A$ as $A_k$ for $k=1,\\ldots,n$. We define the function $||A||_* = \\max_k ||A_k||_2$. Show that $||A||_*$ is a norm, in that it satisfies the first three properties of a matrix norm (cf. §2.3.2)."
   ]
  },
  {
   "cell_type": "markdown",
   "metadata": {},
   "source": [
    "Columns are from: k = 1, ..., n and rows are from: i = 1, ..., n\n",
    "\n",
    "1. Property of positivity\n",
    "\n",
    "    We need to prove that:\n",
    "    \n",
    "    $||A||_* > 0$ if $A \\neq 0$ ```<or>``` $||A||_* = 0$ if $A = 0$\n",
    "    \n",
    "    $\\Rightarrow ||A||_* = 0$, if max(set of positive numbers) = 0\n",
    "    \n",
    "    $\\Rightarrow ||A_k||_2 = 0, \\forall k$\n",
    "    \n",
    "    $\\therefore \\max_k ||A_k y||_2 = 0, \\forall y \\in \\mathbb{R}$\n",
    "    \n",
    "    $\\Rightarrow ||Ay||_* = 0$\n",
    "    \n",
    "    Hence proved.\n",
    "    \n",
    "\n",
    "2. Property of homogenity\n",
    "\n",
    "    We need to prove that:\n",
    "    \n",
    "    $||\\alpha A||_* = |\\alpha| \\cdot ||A||_*$, for any scalar $\\alpha$\n",
    "    \n",
    "    We know that,\n",
    "    \n",
    "    $||\\alpha A||_* = \\max_k ||\\alpha A_k||_2$ (from the definition)\n",
    "    \n",
    "    $\\hspace{2.4em} = \\max_k \\sqrt{\\alpha^2 \\sum_{i} A_{ik}^2}$\n",
    "\n",
    "    $\\hspace{2.4em} = |\\alpha| \\max_k \\sqrt{\\sum_{i} A_{ik}^2}$\n",
    "    \n",
    "    $\\hspace{2.4em} = |\\alpha| \\max_k ||A_k||_2$\n",
    "    \n",
    "    $\\hspace{2.4em} = |\\alpha| \\cdot ||A||_*$\n",
    "    \n",
    "    Hence proved.\n",
    "    \n",
    "\n",
    "\n",
    "3. Triangle inequality\n",
    "    \n",
    "    We need to prove that:\n",
    "    \n",
    "    $||A + B||_* \\leq ||A||_* + ||B||_*$\n",
    "    \n",
    "    We know that,\n",
    "    \n",
    "     $||A + B||_* = \\max_k ||(A + B)_k||_2$ (from the definition)\n",
    "     \n",
    "     $\\hspace{3.4em} = \\max_k \\sqrt{\\sum_i (A + B)_{ik}^2} $\n",
    "     \n",
    "     From the triangle inequality for real numbers and $ x^2 = |x|^2, \\forall x \\in \\mathbb{R}$ we get:\n",
    "     \n",
    "     $\\hspace{3.4em} \\leq \\max_k \\sqrt{\\sum_i (A)_{ik}^2 + \\sum_i (B)_{ik}^2 + \\sum_{i} 2 \\cdot |A|_{ik} \\cdot |B|_{ik}} $\n",
    "     \n",
    "     $\\hspace{3.4em} \\leq \\max_k \\sqrt{\\sum_i |A|_{ik}^2 + \\sum_i |B|_{ik}^2 + \\sum_{i} 2 \\cdot |A|_{ik} \\cdot |B|_{ik}} $\n",
    "     \n",
    "     $\\hspace{3.4em} \\leq \\max_k \\sqrt{\\sum_i (|A|_{ik} + |B|_{ik})^2 } $\n",
    "     \n",
    "     $\\hspace{3.4em} \\leq \\max_k (|| (|A|_{k} + |B|_{k})||_2) $\n",
    "     \n",
    "     $\\hspace{3.4em} \\leq \\max_k || A_{k} ||_2 + \\max_k  || B_{k}||_2 $\n",
    "     \n",
    "     $\\hspace{3.4em} \\leq ||A||_* + ||B||_* $\n",
    "     \n",
    "     Hence proved.\n",
    "     "
   ]
  },
  {
   "cell_type": "markdown",
   "metadata": {},
   "source": [
    "----\n",
    "# Exercise 2\n",
    "For solving linear systems such as $Ax = b$, it is unnecessary (and often unstable) to compute the inverse $A^{-1}$. Nonetheless, there can be situations where it is useful to compute $A^{-1}$ explicitly. One way to do so is by using the LU-decomposition of $A$."
   ]
  },
  {
   "cell_type": "markdown",
   "metadata": {},
   "source": [
    "## (a)\n",
    "Write an algorithm to compute $A^{-1}$ for a non-singular matrix $A$ using its LU-decomposition. You can use `scipy.linalg.lu` (which returns an LU-decomposition with _partial pivoting_, i.e., with a permutation matrix $P$) and the other `scipy.linalg.lu_*` functions, but not `scipy.linalg.inv` (or other methods for computing matrix inverses directly)."
   ]
  },
  {
   "cell_type": "code",
   "execution_count": 8,
   "metadata": {},
   "outputs": [],
   "source": [
    "A = np.matrix([[2, 4, -2], [4, 9, -3], [-2, -1, 7]])\n",
    "b = np.matrix([[2], [8], [10]])"
   ]
  },
  {
   "cell_type": "code",
   "execution_count": 9,
   "metadata": {},
   "outputs": [],
   "source": [
    "def lu_inv(A):\n",
    "    # inverse can be computed only for square matrices\n",
    "    assert A.shape[0] == A.shape[1], \"Input is not a square matrix\"\n",
    "    \n",
    "    # calculate n, L, U for A\n",
    "    # L matrix undergoes permutation to enforce larger pivots which produce smaller multipliers and hence smaller errors\n",
    "    n = A.shape[0]    \n",
    "    L, U = la.lu(A, permute_l = True)\n",
    "    A_inv, d, temp = np.eye(n, dtype = float), np.eye(n, dtype = float), np.eye(n, dtype = float)\n",
    "    \n",
    "    for i in range(n):\n",
    "        # solve the lower tri sys by fwd substitution\n",
    "        d[:, i] = la.solve(L, temp[:, i])\n",
    "\n",
    "        # solve the upper tri sys by bkwd substitution \n",
    "        A_inv[:, i] = la.solve(U, d[:, i])\n",
    "        \n",
    "    return (A_inv)"
   ]
  },
  {
   "cell_type": "markdown",
   "metadata": {},
   "source": [
    "## (b)\n",
    "What is the computational complexity of your algorithm, given that the input matrix has size $n \\times n$?"
   ]
  },
  {
   "cell_type": "markdown",
   "metadata": {},
   "source": [
    "The complexity of inversion using LU factorization is O(n$^2$)."
   ]
  },
  {
   "cell_type": "markdown",
   "metadata": {},
   "source": [
    "## (c)\n",
    "Apply your Python code to compute the inverse of the Hilbert matrix $H_n$ for $n=1, \\ldots, 12$ (see https://en.wikipedia.org/wiki/Hilbert_matrix) -- you can use `scipy.linalg.hilbert`. This matrix is _very_ ill-conditioned, so computing its inverse is very hard for large $n$.\n",
    "\n",
    "Compare the inverse with the \"true\" inverse given by `scipy.linalg.invhilbert`. Output a (`plt.semilogy`) graph showing how the $\\infty$-norm of their difference progresses for $n$."
   ]
  },
  {
   "cell_type": "code",
   "execution_count": 10,
   "metadata": {},
   "outputs": [],
   "source": [
    "'''\n",
    "N = 1 to N (range) of matrix sizes\n",
    "cond_matrix[:, 0] = 2-condition number of Hn\n",
    "cond_matrix[:, 1] = inf-condition number of Hn\n",
    "cond_matrix[:, 2] = 2-condition number of H_inv (computed inverse)\n",
    "cond_matrix[:, 3] = inf-condition number of H_inv\n",
    "cond_matrix[:, 4] = 2-condition number of H_inv_true (true inverse from library)\n",
    "cond_matrix[:, 5] = inf-condition number of H_inv_true\n",
    "inf_norm_diff = progress of inf-norm of difference between H_inv and H_inv_true\n",
    "'''\n",
    "\n",
    "N = 30\n",
    "inf_norm_diff, cond_matrix = np.zeros((N,1)), np.zeros((N,6))"
   ]
  },
  {
   "cell_type": "code",
   "execution_count": 11,
   "metadata": {},
   "outputs": [],
   "source": [
    "def hilbert_compare(n):\n",
    "    \n",
    "    H = la.hilbert(n)\n",
    "    H_inv_true = la.invhilbert(n, exact=False)\n",
    "    H_inv = lu_inv(H)\n",
    "    \n",
    "#     inf_norm = np.linalg.norm(H_inv, np.inf, keepdims= True)\n",
    "#     inf_norm_true = np.linalg.norm(H_inv_true, np.inf, keepdims= True)\n",
    "    \n",
    "    return H_inv, H_inv_true, H"
   ]
  },
  {
   "cell_type": "code",
   "execution_count": 12,
   "metadata": {
    "scrolled": false
   },
   "outputs": [
    {
     "name": "stderr",
     "output_type": "stream",
     "text": [
      "/home/tharangni/anaconda3/lib/python3.6/site-packages/ipykernel_launcher.py:16: LinAlgWarning: scipy.linalg.solve\n",
      "Ill-conditioned matrix detected. Result is not guaranteed to be accurate.\n",
      "Reciprocal condition number7.916007e-17\n",
      "  app.launch_new_instance()\n",
      "/home/tharangni/anaconda3/lib/python3.6/site-packages/ipykernel_launcher.py:16: LinAlgWarning: scipy.linalg.solve\n",
      "Ill-conditioned matrix detected. Result is not guaranteed to be accurate.\n",
      "Reciprocal condition number3.849515e-18\n",
      "  app.launch_new_instance()\n",
      "/home/tharangni/anaconda3/lib/python3.6/site-packages/ipykernel_launcher.py:16: LinAlgWarning: scipy.linalg.solve\n",
      "Ill-conditioned matrix detected. Result is not guaranteed to be accurate.\n",
      "Reciprocal condition number2.032504e-18\n",
      "  app.launch_new_instance()\n",
      "/home/tharangni/anaconda3/lib/python3.6/site-packages/ipykernel_launcher.py:16: LinAlgWarning: scipy.linalg.solve\n",
      "Ill-conditioned matrix detected. Result is not guaranteed to be accurate.\n",
      "Reciprocal condition number3.094729e-18\n",
      "  app.launch_new_instance()\n",
      "/home/tharangni/anaconda3/lib/python3.6/site-packages/ipykernel_launcher.py:16: LinAlgWarning: scipy.linalg.solve\n",
      "Ill-conditioned matrix detected. Result is not guaranteed to be accurate.\n",
      "Reciprocal condition number2.399802e-18\n",
      "  app.launch_new_instance()\n",
      "/home/tharangni/anaconda3/lib/python3.6/site-packages/ipykernel_launcher.py:16: LinAlgWarning: scipy.linalg.solve\n",
      "Ill-conditioned matrix detected. Result is not guaranteed to be accurate.\n",
      "Reciprocal condition number1.936106e-18\n",
      "  app.launch_new_instance()\n",
      "/home/tharangni/anaconda3/lib/python3.6/site-packages/ipykernel_launcher.py:16: LinAlgWarning: scipy.linalg.solve\n",
      "Ill-conditioned matrix detected. Result is not guaranteed to be accurate.\n",
      "Reciprocal condition number1.607136e-18\n",
      "  app.launch_new_instance()\n",
      "/home/tharangni/anaconda3/lib/python3.6/site-packages/ipykernel_launcher.py:16: LinAlgWarning: scipy.linalg.solve\n",
      "Ill-conditioned matrix detected. Result is not guaranteed to be accurate.\n",
      "Reciprocal condition number2.180518e-18\n",
      "  app.launch_new_instance()\n",
      "/home/tharangni/anaconda3/lib/python3.6/site-packages/ipykernel_launcher.py:16: LinAlgWarning: scipy.linalg.solve\n",
      "Ill-conditioned matrix detected. Result is not guaranteed to be accurate.\n",
      "Reciprocal condition number4.541928e-19\n",
      "  app.launch_new_instance()\n",
      "/home/tharangni/anaconda3/lib/python3.6/site-packages/ipykernel_launcher.py:16: LinAlgWarning: scipy.linalg.solve\n",
      "Ill-conditioned matrix detected. Result is not guaranteed to be accurate.\n",
      "Reciprocal condition number8.262998e-19\n",
      "  app.launch_new_instance()\n",
      "/home/tharangni/anaconda3/lib/python3.6/site-packages/ipykernel_launcher.py:16: LinAlgWarning: scipy.linalg.solve\n",
      "Ill-conditioned matrix detected. Result is not guaranteed to be accurate.\n",
      "Reciprocal condition number2.546701e-19\n",
      "  app.launch_new_instance()\n",
      "/home/tharangni/anaconda3/lib/python3.6/site-packages/ipykernel_launcher.py:16: LinAlgWarning: scipy.linalg.solve\n",
      "Ill-conditioned matrix detected. Result is not guaranteed to be accurate.\n",
      "Reciprocal condition number3.353024e-19\n",
      "  app.launch_new_instance()\n",
      "/home/tharangni/anaconda3/lib/python3.6/site-packages/ipykernel_launcher.py:16: LinAlgWarning: scipy.linalg.solve\n",
      "Ill-conditioned matrix detected. Result is not guaranteed to be accurate.\n",
      "Reciprocal condition number2.666961e-19\n",
      "  app.launch_new_instance()\n",
      "/home/tharangni/anaconda3/lib/python3.6/site-packages/ipykernel_launcher.py:16: LinAlgWarning: scipy.linalg.solve\n",
      "Ill-conditioned matrix detected. Result is not guaranteed to be accurate.\n",
      "Reciprocal condition number1.557424e-18\n",
      "  app.launch_new_instance()\n",
      "/home/tharangni/anaconda3/lib/python3.6/site-packages/ipykernel_launcher.py:16: LinAlgWarning: scipy.linalg.solve\n",
      "Ill-conditioned matrix detected. Result is not guaranteed to be accurate.\n",
      "Reciprocal condition number4.159714e-19\n",
      "  app.launch_new_instance()\n",
      "/home/tharangni/anaconda3/lib/python3.6/site-packages/ipykernel_launcher.py:16: LinAlgWarning: scipy.linalg.solve\n",
      "Ill-conditioned matrix detected. Result is not guaranteed to be accurate.\n",
      "Reciprocal condition number7.364383e-19\n",
      "  app.launch_new_instance()\n",
      "/home/tharangni/anaconda3/lib/python3.6/site-packages/ipykernel_launcher.py:16: LinAlgWarning: scipy.linalg.solve\n",
      "Ill-conditioned matrix detected. Result is not guaranteed to be accurate.\n",
      "Reciprocal condition number3.958772e-20\n",
      "  app.launch_new_instance()\n",
      "/home/tharangni/anaconda3/lib/python3.6/site-packages/ipykernel_launcher.py:16: LinAlgWarning: scipy.linalg.solve\n",
      "Ill-conditioned matrix detected. Result is not guaranteed to be accurate.\n",
      "Reciprocal condition number2.971853e-19\n",
      "  app.launch_new_instance()\n",
      "/home/tharangni/anaconda3/lib/python3.6/site-packages/ipykernel_launcher.py:16: LinAlgWarning: scipy.linalg.solve\n",
      "Ill-conditioned matrix detected. Result is not guaranteed to be accurate.\n",
      "Reciprocal condition number6.970122e-19\n",
      "  app.launch_new_instance()\n"
     ]
    }
   ],
   "source": [
    "t = np.arange(1, N+1, 1)\n",
    "hilbert = [hilbert_compare(n) for n in t]\n",
    "hilbert = np.array(hilbert)"
   ]
  },
  {
   "cell_type": "code",
   "execution_count": 13,
   "metadata": {},
   "outputs": [],
   "source": [
    "for i in range(N):\n",
    "    inf_norm_diff[i] = np.linalg.norm(hilbert[i][0] - hilbert[i][1], np.inf)\n",
    "    \n",
    "    cond_matrix[i][0] = np.linalg.cond(hilbert[i][2], p = 2)\n",
    "    cond_matrix[i][1] = np.linalg.cond(hilbert[i][2], p = np.inf)\n",
    "    cond_matrix[i][2] = np.linalg.cond(hilbert[i][0], p = 2)\n",
    "    cond_matrix[i][3] = np.linalg.cond(hilbert[i][0], p = np.inf)\n",
    "    cond_matrix[i][4] = np.linalg.cond(hilbert[i][1], p = 2)\n",
    "    cond_matrix[i][5] = np.linalg.cond(hilbert[i][1], p = np.inf)"
   ]
  },
  {
   "cell_type": "code",
   "execution_count": 14,
   "metadata": {
    "scrolled": false
   },
   "outputs": [
    {
     "data": {
      "image/png": "[encoded data removed]",
      "text/plain": [
       "<Figure size 720x432 with 1 Axes>"
      ]
     },
     "metadata": {},
     "output_type": "display_data"
    }
   ],
   "source": [
    "plt.figure(figsize = (10, 6))\n",
    "plt.semilogy(t[0:12], inf_norm_diff[0:12])\n",
    "plt.xlabel(\"Size (n)\", fontsize = 14)\n",
    "plt.ylabel(r'|| H_inv - H_inv_true ||$ _{\\infty}$',  fontsize = 14)\n",
    "plt.title(r'${\\infty}$-norm performance',  fontsize = 16)\n",
    "plt.show()"
   ]
  },
  {
   "cell_type": "markdown",
   "metadata": {},
   "source": [
    "## (d)\n",
    "It is known that the $2$-condition number $cond_2(H_n)$ of the Hilbert matrix grows like $\\mathcal O\\left(\\frac{(1+\\sqrt{2})^{4n}}{\\sqrt{n}}\\right)$. Does the $\\infty$-condition number (defined in Example 2.5) of $H_n$ grow in a similar way?\n",
    "For the matrix inverse, try both your own matrix inversion routine, and `scipy.linalg.invhilbert`. Output a (`plt.semilogy`) graph showing your results."
   ]
  },
  {
   "cell_type": "code",
   "execution_count": 15,
   "metadata": {},
   "outputs": [],
   "source": [
    "plt.rcParams[\"figure.figsize\"] = (16, 5)"
   ]
  },
  {
   "cell_type": "code",
   "execution_count": 16,
   "metadata": {},
   "outputs": [
    {
     "data": {
      "image/png": "[encoded data removed]",
      "text/plain": [
       "<Figure size 1152x360 with 3 Axes>"
      ]
     },
     "metadata": {},
     "output_type": "display_data"
    }
   ],
   "source": [
    "fig, ax = plt.subplots(1, 3, True)\n",
    "\n",
    "ax[0].semilogy(t, cond_matrix[:, 0], label = \"cond-2\")\n",
    "ax[0].semilogy(t, cond_matrix[:, 1], label = r'cond-${\\infty}$')\n",
    "ax[0].set_xlabel(\"Size (n)\", fontsize = 12)\n",
    "ax[0].set_ylabel(r'Condition number growth',  fontsize = 12)\n",
    "ax[0].set_title(r'True Hilbert matrix, H$_n$')\n",
    "ax[0].legend()\n",
    "\n",
    "ax[1].semilogy(t, cond_matrix[:, 2], label = \"cond-2\")\n",
    "ax[1].semilogy(t, cond_matrix[:, 3], label = r'cond-${\\infty}$')\n",
    "ax[1].set_xlabel(\"Size (n)\", fontsize = 12)\n",
    "ax[1].set_ylabel(r'Condition number growth',  fontsize = 12)\n",
    "ax[1].set_title(r'Hilbert Inverse from LU-fac, H_inv')\n",
    "ax[1].legend()\n",
    "\n",
    "ax[2].semilogy(t, cond_matrix[:, 4], label = \"cond-2\")\n",
    "ax[2].semilogy(t, cond_matrix[:, 5], label = r'cond-${\\infty}$')\n",
    "ax[2].set_xlabel(\"Size (n)\", fontsize = 12)\n",
    "ax[2].set_ylabel(r'Condition number growth',  fontsize = 12)\n",
    "ax[2].set_title(r'True Hilbert Inverse, H_true_inv')\n",
    "ax[2].legend()\n",
    "\n",
    "fig.suptitle(r'Comparision of cond-2 and cond-${\\infty}$ for Hilbert matrices')\n",
    "plt.show()"
   ]
  },
  {
   "cell_type": "markdown",
   "metadata": {},
   "source": [
    "From the above graph, it can be observed that the cond-2 and cond-$\\infty$ numbers grow in a similar way for Hilbert matrix, $H_n$ with inf-cond always performing slightly worse (otherwise negligible difference) than 2-cond till a certain threshold at $n \\approx 14$. At n > 14, both the condition numbers stop increasiing linearly and display an erratic behaviour.\n",
    "\n",
    "It can also be seen from these 3 graphs that the comparision between condition number growth in 2-cond and inf-cond remains the **same across** Hn, H_inv and H_true_inv till $n \\approx 14$. This is anticipated due to the definition of condition number given by: \n",
    "$\\begin{align*} \\text{cond}(A) &= ||A|| \\cdot ||A||^{-1}\\end{align*}$.\n",
    "\n",
    "At n > 14, there is an erratic and unstable growth in the condition number. One reason for this could be because after n > 14, some entries in the inverse exceed the upper limit of 64 bit integers.  It could also possibly be that from this point, `scipy.linalg.invhilbert(h)` involves round-off errors and `np.linalg.cond(..., p = 2 or inf)` begins to loose robustness. This could also be the reason why the condition number does not continue to grow after N=14 for Hn and H_inv.\n",
    "\n",
    "However, the condition number growth for H_true_inv is quiet different from the rest. It is observed from comparing values between H_inv and H_true_inv that the inbuilt inverse function round-offs its values. Thereby, as n increases this \"rounding\" also increases linearly (exponentially). "
   ]
  }
 ],
 "metadata": {
  "kernelspec": {
   "display_name": "Python 3",
   "language": "python",
   "name": "python3"
  },
  "language_info": {
   "codemirror_mode": {
    "name": "ipython",
    "version": 3
   },
   "file_extension": ".py",
   "mimetype": "text/x-python",
   "name": "python",
   "nbconvert_exporter": "python",
   "pygments_lexer": "ipython3",
   "version": "3.6.5"
  }
 },
 "nbformat": 4,
 "nbformat_minor": 2
}
