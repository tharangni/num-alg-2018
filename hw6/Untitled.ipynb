{
 "cells": [
  {
   "cell_type": "code",
   "execution_count": 1,
   "metadata": {},
   "outputs": [],
   "source": [
    "import numpy as np"
   ]
  },
  {
   "cell_type": "code",
   "execution_count": 17,
   "metadata": {},
   "outputs": [],
   "source": [
    "num_list = [1, 2, 17, 4]"
   ]
  },
  {
   "cell_type": "code",
   "execution_count": 18,
   "metadata": {},
   "outputs": [],
   "source": [
    "inp_num_list = sorted(num_list)"
   ]
  },
  {
   "cell_type": "code",
   "execution_count": 19,
   "metadata": {},
   "outputs": [],
   "source": [
    "N = len(inp_num_list)"
   ]
  },
  {
   "cell_type": "code",
   "execution_count": 20,
   "metadata": {},
   "outputs": [
    {
     "data": {
      "text/plain": [
       "[1, 2, 4, 17]"
      ]
     },
     "execution_count": 20,
     "metadata": {},
     "output_type": "execute_result"
    }
   ],
   "source": [
    "inp_num_list"
   ]
  },
  {
   "cell_type": "code",
   "execution_count": 31,
   "metadata": {},
   "outputs": [],
   "source": [
    "inp_matrix = np.zeros((N+1, N+1), dtype=int)\n",
    "result = []\n",
    "\n",
    "for i in range(1, N+1):\n",
    "    inp_matrix[0, i] = inp_num_list[i-1]\n",
    "    inp_matrix[i, 0] = inp_num_list[i-1]\n",
    "\n",
    "\n",
    "for i in range(1, N+1):\n",
    "    for j in range(1, N+1):\n",
    "        i0 = inp_matrix[i, 0]\n",
    "        zj = inp_matrix[0, j]\n",
    "        j0 = inp_matrix[j, 0]\n",
    "        zi = inp_matrix[0, i]\n",
    "        \n",
    "        if i0 % zj == 0 and i!=j:\n",
    "            inp_matrix[i, j] += 1\n",
    "            temp = inp_num_list[i-1]\n",
    "            temp2 = inp_num_list[j-1]\n",
    "            if (temp, temp2) not in result:\n",
    "                result.append((temp, temp2))\n",
    "        \n",
    "        elif j0 % zi == 0 and i!=j:\n",
    "            inp_matrix[j, i] += 1\n",
    "            temp = inp_num_list[j-1]\n",
    "            temp2 = inp_num_list[i-1]\n",
    "            if (temp, temp2) not in result:\n",
    "                result.append((temp, temp2))\n",
    "                \n",
    "result.sort()\n",
    "ans = list(set(result))"
   ]
  },
  {
   "cell_type": "code",
   "execution_count": 33,
   "metadata": {},
   "outputs": [
    {
     "data": {
      "text/plain": [
       "array([[ 0,  1,  2,  4, 17],\n",
       "       [ 1,  0,  0,  0,  0],\n",
       "       [ 2,  2,  0,  0,  0],\n",
       "       [ 4,  2,  2,  0,  0],\n",
       "       [17,  2,  0,  0,  0]])"
      ]
     },
     "execution_count": 33,
     "metadata": {},
     "output_type": "execute_result"
    }
   ],
   "source": [
    "inp_matrix"
   ]
  },
  {
   "cell_type": "code",
   "execution_count": 34,
   "metadata": {
    "scrolled": true
   },
   "outputs": [
    {
     "data": {
      "text/plain": [
       "[(4, 2), (4, 1), (17, 1), (2, 1)]"
      ]
     },
     "execution_count": 34,
     "metadata": {},
     "output_type": "execute_result"
    }
   ],
   "source": [
    "ans"
   ]
  },
  {
   "cell_type": "code",
   "execution_count": 29,
   "metadata": {},
   "outputs": [],
   "source": [
    "inp_matrix = np.zeros((N+1, N+1), dtype=int)\n",
    "result = []\n",
    "\n",
    "for i in range(1, N+1):\n",
    "    inp_matrix[0, i] = inp_num_list[i-1]\n",
    "    inp_matrix[i, 0] = inp_num_list[i-1]\n",
    "\n",
    "\n",
    "for i in range(1, N+1):\n",
    "    for j in range(1, N+1):\n",
    "        i0 = inp_matrix[i, 0]\n",
    "        zj = inp_matrix[0, j]\n",
    "        j0 = inp_matrix[j, 0]\n",
    "        zi = inp_matrix[0, i]\n",
    "        \n",
    "        if i0 % zj == 0 and i!=j:\n",
    "            inp_matrix[i, j] = 1\n",
    "            temp = inp_num_list[i-1]\n",
    "            temp2 = inp_num_list[j-1]\n",
    "            if temp not in result or temp2 not in result:\n",
    "                result.append(temp)\n",
    "                result.append(temp2)\n",
    "        \n",
    "        elif j0 % zi == 0 and i!=j:\n",
    "            inp_matrix[j, i] = 1\n",
    "            temp = inp_num_list[j-1]\n",
    "            temp2 = inp_num_list[i-1]\n",
    "            if temp not in result or temp2 not in result:\n",
    "                result.append(temp)\n",
    "                result.append(temp2)\n",
    "                \n",
    "result.sort()\n",
    "ans = list(set(result))"
   ]
  },
  {
   "cell_type": "code",
   "execution_count": 30,
   "metadata": {},
   "outputs": [
    {
     "data": {
      "text/plain": [
       "[1, 2, 4, 17]"
      ]
     },
     "execution_count": 30,
     "metadata": {},
     "output_type": "execute_result"
    }
   ],
   "source": [
    "ans"
   ]
  }
 ],
 "metadata": {
  "kernelspec": {
   "display_name": "Python 3",
   "language": "python",
   "name": "python3"
  },
  "language_info": {
   "codemirror_mode": {
    "name": "ipython",
    "version": 3
   },
   "file_extension": ".py",
   "mimetype": "text/x-python",
   "name": "python",
   "nbconvert_exporter": "python",
   "pygments_lexer": "ipython3",
   "version": "3.7.0"
  }
 },
 "nbformat": 4,
 "nbformat_minor": 2
}
