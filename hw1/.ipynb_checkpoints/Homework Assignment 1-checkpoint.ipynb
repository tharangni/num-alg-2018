{
 "cells": [
  {
   "cell_type": "markdown",
   "metadata": {},
   "source": [
    "Please **submit this Jupyter notebook through Canvas** no later than **Monday November 5 12:59**, before the start of the lecture.\n",
    "\n",
    "Homework is in **groups of two**, and you are expected to hand in original work. Work that is copied from another group will not be accepted."
   ]
  },
  {
   "cell_type": "markdown",
   "metadata": {},
   "source": [
    "# Exercise 0\n",
    "Write down the names + student ID of the people in your group."
   ]
  },
  {
   "cell_type": "markdown",
   "metadata": {},
   "source": [
    "Tharangni H Sivaji (11611065)"
   ]
  },
  {
   "cell_type": "markdown",
   "metadata": {},
   "source": [
    "-----\n",
    "# Exercise 1\n",
    "Consider the function $f(x) = \\tan(x)$. Because $\\tan(x) = \\sin(x) / \\cos(x)$, we can approximate $f(x)$ using Taylor approximations for $\\sin(x)$ and $\\cos(x)$:\n",
    "$$\n",
    "  \\sin(x) \\approx x - \\frac{1}{6} x^3, \\quad \\text{and} \\quad \\cos(x) \\approx 1 - \\frac{1}{2} x^2.\n",
    "$$\n",
    "This gives the approximation\n",
    "$$\n",
    "\\hat f(x) = \\frac{x - \\frac{1}{6} x^3}{1 - \\frac{1}{2} x^2}.\n",
    "$$"
   ]
  },
  {
   "cell_type": "markdown",
   "metadata": {},
   "source": [
    "## (a)\n",
    "Evaluate $f(x)$ and $\\hat f(x)$ at $x = 1$ and $x = 1.4$. Compute the absolute forward error and absolute backward error."
   ]
  },
  {
   "cell_type": "code",
   "execution_count": 1,
   "metadata": {},
   "outputs": [],
   "source": [
    "import math\n",
    "import numpy as np\n",
    "import matplotlib.pyplot as plt\n",
    "from scipy.misc import derivative"
   ]
  },
  {
   "cell_type": "code",
   "execution_count": 2,
   "metadata": {},
   "outputs": [],
   "source": [
    "def y(x):\n",
    "    return round(np.tan(x), 5)\n",
    "\n",
    "def y_hat(x):\n",
    "    return round((x - (x**3)/6)/(1 - (x**2)/2), 5)\n",
    "\n",
    "def x_real(x):\n",
    "    return x\n",
    "\n",
    "def x_hat(y_error):\n",
    "    return round(np.arctan(y_error), 5)\n",
    "\n",
    "def abs_fe(y, y_hat):\n",
    "    return round(abs(y - y_hat), 5)\n",
    "\n",
    "def abs_be(x, x_hat):\n",
    "    return round(abs(x - x_hat), 5)"
   ]
  },
  {
   "cell_type": "code",
   "execution_count": 3,
   "metadata": {},
   "outputs": [
    {
     "name": "stdout",
     "output_type": "stream",
     "text": [
      "For x = 1, \n",
      "y = 1.55741, y_hat = 1.66667, x_hat = 1.03038 \n",
      "Absolute forward error: 0.10926\n",
      "Absolute backward error: 0.03038\n",
      "---\n",
      "For x = 1.4, \n",
      "y = 5.79788, y_hat = 47.13333, x_hat = 1.54958 \n",
      "Absolute forward error: 41.33545\n",
      "Absolute backward error: 0.14958\n"
     ]
    }
   ],
   "source": [
    "print(\"For x = {}, \".format(1))\n",
    "print(\"y = {}, y_hat = {}, x_hat = {} \".format( y(1), y_hat(1), x_hat(y_hat(1)) ))\n",
    "print(\"Absolute forward error: {}\".format( abs_fe(y(1), y_hat(1)) ))\n",
    "print(\"Absolute backward error: {}\".format( abs_be(x_real(1), x_hat(y_hat(1))) ))\n",
    "print(\"---\")\n",
    "print(\"For x = {}, \".format(1.4))\n",
    "print(\"y = {}, y_hat = {}, x_hat = {} \".format( y(1.4), y_hat(1.4), x_hat(y_hat(1.4)) ))\n",
    "print(\"Absolute forward error: {}\".format( abs_fe(y(1.4), y_hat(1.4)) ))\n",
    "print(\"Absolute backward error: {}\".format( abs_be(x_real(1.4), x_hat(y_hat(1.4))) ))"
   ]
  },
  {
   "cell_type": "markdown",
   "metadata": {},
   "source": [
    "Given,\n",
    "\n",
    "$$\n",
    "y = f(x) = \\tan(x)\n",
    "$$\n",
    "\n",
    "$$\n",
    "\\hat y = \\hat f(x) = \\frac{x - \\frac{1}{6} x^3}{1 - \\frac{1}{2} x^2}\n",
    "$$\n",
    "\n",
    "---\n",
    "\n",
    "At x = 1 (computing in radians),\n",
    "\n",
    "$$\n",
    "y = f(1) = \\tan(1) \\approx 1.5574\n",
    "$$\n",
    "\n",
    "$$\n",
    "\\hat y = \\hat f(1) = \\frac{1 - \\frac{1}{6} 1^3}{1 - \\frac{1}{2} 1^2} = \\frac{5}{3} \\approx 1.6667\n",
    "$$\n",
    "\n",
    "$\\therefore$ Absolute forward error = $|\\hat y - y| = 0.1093$\n",
    "\n",
    "$$\n",
    "x = 1 \n",
    "$$\n",
    "To compute $\\hat x$, \n",
    "$$\n",
    "y = f(x) = \\tan(x) \\quad \\Rightarrow \\quad \\hat y = f(\\hat x) = \\tan(\\hat x) \\\\\n",
    "\\Rightarrow \\hat x = \\tan^{-1}(\\hat y) \\\\\n",
    "\\Rightarrow \\hat x = \\tan^{-1}(1.6667) \\\\\n",
    "\\therefore \\hat x \\approx 1.03047\n",
    "$$\n",
    "\n",
    "$\\therefore$ Absolute backward error = $|\\hat x - x| = 0.0303$\n",
    "\n",
    "---\n",
    "\n",
    "At x = 1.4 (computing in radians),\n",
    "\n",
    "$$\n",
    "y = f(1) = \\tan(1.4) \\approx 5.79788\n",
    "$$\n",
    "\n",
    "$$\n",
    "\\hat y = \\hat f(1.4) = \\frac{1 - \\frac{1}{6} 1.4^3}{1 - \\frac{1}{2} 1.4^2} = \\frac{707}{15} \\approx 47.13334\n",
    "$$\n",
    "\n",
    "$\\therefore$ Absolute forward error = $|\\hat y - y| = 41.33546$\n",
    "\n",
    "$$\n",
    "x = 1.4 \n",
    "$$\n",
    "To compute $\\hat x$, \n",
    "$$\n",
    "y = f(x) = \\tan(x) \\quad \\Rightarrow \\quad \\hat y = f(\\hat x) = \\tan(\\hat x) \\\\\n",
    "\\Rightarrow \\hat x = \\tan^{-1}(\\hat y) \\\\\n",
    "\\Rightarrow \\hat x = \\tan^{-1}(47.13334) \\\\\n",
    "\\therefore \\hat x \\approx 1.54958\n",
    "$$\n",
    "\n",
    "$\\therefore$ Absolute backward error = $|\\hat x - x| = 0.14958$"
   ]
  },
  {
   "cell_type": "markdown",
   "metadata": {},
   "source": [
    "## (b)\n",
    "Ignore $\\hat f(x)$ for now. Compute the relative condition number of $f(x)$ near $x=1$ and near $x=1.4$."
   ]
  },
  {
   "cell_type": "code",
   "execution_count": 4,
   "metadata": {},
   "outputs": [],
   "source": [
    "def rfe(y, y_hat):\n",
    "    return round(abs( abs_fe(y, y_hat)/y ), 5)\n",
    "\n",
    "def rbe(x, x_hat):\n",
    "    return round(abs( abs_be(x, x_hat)/x ), 5)\n",
    "\n",
    "def rcn(r_fe, r_be):\n",
    "    return round(abs(r_fe/r_be), 5)"
   ]
  },
  {
   "cell_type": "code",
   "execution_count": 5,
   "metadata": {},
   "outputs": [
    {
     "name": "stdout",
     "output_type": "stream",
     "text": [
      "For x = 1, \n",
      "Relative forward error: 1.0\n",
      "Relative backward error: 0.03038\n",
      "Relative condition number: 32.91639\n"
     ]
    }
   ],
   "source": [
    "# x = 1\n",
    "x_ = x_real(1)\n",
    "y_real = y(x_)\n",
    "y_error = y_hat(x_)\n",
    "x_error = x_hat(y_error)\n",
    "\n",
    "# ignoring f_hat(x) by setting it to 0\n",
    "rfe_ign_x1 = rfe(y_real, 0)\n",
    "rbe_ign_x1 = rbe(x_, x_error)\n",
    "rcn_ign_x1 = rcn(rfe_ign_x1, rbe_ign_x1)\n",
    "\n",
    "print(\"For x = {}, \".format(1))\n",
    "print(\"Relative forward error: {}\".format(rfe_ign_x1))\n",
    "print(\"Relative backward error: {}\".format(rbe_ign_x1))\n",
    "print(\"Relative condition number: {}\".format(rcn_ign_x1))"
   ]
  },
  {
   "cell_type": "code",
   "execution_count": 6,
   "metadata": {},
   "outputs": [
    {
     "name": "stdout",
     "output_type": "stream",
     "text": [
      "For x = 1.4, \n",
      "Relative forward error: 1.0\n",
      "Relative backward error: 0.10684\n",
      "Relative condition number: 9.35979\n"
     ]
    }
   ],
   "source": [
    "# x = 1.4\n",
    "x_ = x_real(1.4)\n",
    "y_real = y(x_)\n",
    "y_error = y_hat(x_)\n",
    "x_error = x_hat(y_error)\n",
    "\n",
    "# ignoring f_hat(x) by setting it to 0\n",
    "rfe_ign_x14 = rfe(y_real, 0)\n",
    "rbe_ign_x14 = rbe(x_, x_error)\n",
    "rcn_ign_x14 = rcn(rfe_ign_x14, rbe_ign_x14)\n",
    "\n",
    "print(\"For x = {}, \".format(1.4))\n",
    "print(\"Relative forward error: {}\".format(rfe_ign_x14))\n",
    "print(\"Relative backward error: {}\".format(rbe_ign_x14))\n",
    "print(\"Relative condition number: {}\".format(rcn_ign_x14))"
   ]
  },
  {
   "cell_type": "markdown",
   "metadata": {},
   "source": [
    "Igoring $\\hat f(x)$ by setting $\\hat y = 0$,\n",
    "\n",
    "Relative forward error (RFE) = $|\\frac{\\hat y - y}{y}|$ = 1 (for both x near 1 and 1.4)\n",
    "\n",
    "Relative backward error (RBE) = $|\\frac{\\hat x - x}{x}|$ \n",
    "\n",
    "Relative condition number = $\\frac{(RFE)}{(RBE)}$ = $ \\frac{1}{RBE} $ = $\\left |\\frac{x}{\\hat x - x}\\right |$\n",
    "\n",
    "---\n",
    "At x = 1,\n",
    "\n",
    "Relative condition number = $\\left |\\frac{x}{\\hat x - x}\\right |$ \n",
    "\n",
    "= $\\left | \\frac{1}{1 - 1.03047} \\right |$ \n",
    "\n",
    "$\\approx$ 32.8947\n",
    "\n",
    "---\n",
    "\n",
    "At x = 1.4,\n",
    "\n",
    "Relative condition number = $\\left |\\frac{x}{\\hat x - x}\\right |$ \n",
    "\n",
    "= $\\left |\\frac{1.4}{1.54958 - 1.4}\\right |$\n",
    "\n",
    "= $\\frac{1.4}{0.14958}$\n",
    "\n",
    "$\\approx$ 9.3645"
   ]
  },
  {
   "cell_type": "markdown",
   "metadata": {},
   "source": [
    "## (c)\n",
    "Compute the relative condition number of $\\hat f(x)$ near $x=1$ and near $x=1.4$."
   ]
  },
  {
   "cell_type": "code",
   "execution_count": 7,
   "metadata": {},
   "outputs": [
    {
     "name": "stdout",
     "output_type": "stream",
     "text": [
      "For x = 1, \n",
      "Relative forward error: 0.07015\n",
      "Relative backward error: 0.03038\n",
      "Relative condition number: 2.30908\n"
     ]
    }
   ],
   "source": [
    "# x = 1\n",
    "x_ = x_real(1)\n",
    "y_real = y(x_)\n",
    "y_error = y_hat(x_)\n",
    "x_error = x_hat(y_error)\n",
    "\n",
    "rfe_x1 = rfe(y_real, y_error)\n",
    "rbe_x1 = rbe(x_, x_error)\n",
    "rcn_x1 = rcn(rfe_x1, rbe_x1)\n",
    "\n",
    "print(\"For x = {}, \".format(1))\n",
    "print(\"Relative forward error: {}\".format(rfe_x1))\n",
    "print(\"Relative backward error: {}\".format(rbe_x1))\n",
    "print(\"Relative condition number: {}\".format(rcn_x1))"
   ]
  },
  {
   "cell_type": "code",
   "execution_count": 8,
   "metadata": {},
   "outputs": [
    {
     "name": "stdout",
     "output_type": "stream",
     "text": [
      "For x = 1.4, \n",
      "Relative forward error: 7.12941\n",
      "Relative backward error: 0.10684\n",
      "Relative condition number: 66.72978\n"
     ]
    }
   ],
   "source": [
    "# x = 1.4\n",
    "x_ = x_real(1.4)\n",
    "y_real = y(x_)\n",
    "y_error = y_hat(x_)\n",
    "x_error = x_hat(y_error)\n",
    "\n",
    "rfe_x14 = rfe(y_real, y_error)\n",
    "rbe_x14 = rbe(x_, x_error)\n",
    "rcn_x14 = rcn(rfe_x14, rbe_x14)\n",
    "\n",
    "print(\"For x = {}, \".format(1.4))\n",
    "print(\"Relative forward error: {}\".format(rfe_x14))\n",
    "print(\"Relative backward error: {}\".format(rbe_x14))\n",
    "print(\"Relative condition number: {}\".format(rcn_x14))"
   ]
  },
  {
   "cell_type": "markdown",
   "metadata": {},
   "source": [
    "At x = 1,\n",
    "\n",
    "Relative forward error = $\\left |\\frac{\\hat y - y}{y}\\right |$ = $\\left |\\frac{1.6667 - 1.5574}{1.5574}\\right |$ = 0.07018\n",
    "\n",
    "Relative backward error = $\\left |\\frac{\\hat x - x}{x}\\right |$ = $\\left |\\frac{1.03047 - 1}{1}\\right |$ = 0.0303\n",
    "\n",
    "Relative condition number = $\\frac{0.07018}{0.0303}$ $\\approx$ 2.31617\n",
    "\n",
    "---\n",
    "\n",
    "At x = 1.4,\n",
    "\n",
    "Relative forward error = $\\left |\\frac{\\hat y - y}{y}\\right |$ = $\\left |\\frac{47.13334 - 5.79788}{5.79788}\\right |$ = 7.1294\n",
    "\n",
    "Relative backward error = $\\left |\\frac{\\hat x - x}{x}\\right |$ = $\\frac{0.14958}{1.4}$ = 0.10678\n",
    "\n",
    "Relative condition number = $\\frac{7.1294}{0.10678}$ $\\approx$ 66.7671"
   ]
  },
  {
   "cell_type": "markdown",
   "metadata": {},
   "source": [
    "--------\n",
    "# Exercise 2\n",
    "Consider the following finite difference approximations of the second derivative of a function $f(x)$:\n",
    "$$\n",
    "\\text{Centered FD:} \\quad f''(x) \\approx \\frac{f(x+h) - 2f(x) + f(x-h)}{h^2},\n",
    "$$\n",
    "$$\n",
    "\\text{Forward FD:} \\quad f''(x) \\approx \\frac{f(x+2h) - 2f(x+h) + f(x)}{h^2}.\n",
    "$$"
   ]
  },
  {
   "cell_type": "markdown",
   "metadata": {},
   "source": [
    "## (a)\n",
    "Consider the function $f(x) = \\exp(-2x)$ evaluated at $x = 0.5$. Compute both finite difference approximations for the range $h \\in \\{1, 10^{-1}, \\ldots, 10^{-16}\\}$."
   ]
  },
  {
   "cell_type": "code",
   "execution_count": 140,
   "metadata": {},
   "outputs": [],
   "source": [
    "def f(x):\n",
    "#     return np.sin(x)\n",
    "    return np.exp(-2*x)\n",
    "\n",
    "def f2(x):\n",
    "#     return -np.sin(x)\n",
    "    return 4*np.exp(-2*x)\n",
    "\n",
    "def centered_fd(x, h):\n",
    "#     nr = f(x+h) + f(x-h) - 2*f(x)\n",
    "    nr = f(x+h) - f(x-h)\n",
    "    dr = h**2\n",
    "    return (nr/dr)\n",
    "\n",
    "def forward_fd(x, h):\n",
    "    nr = f(x+2*h) - 2*f(x+h) + f(x)\n",
    "#     nr = f(x+h) - f(x)\n",
    "    dr = h**2\n",
    "    return (nr/dr)"
   ]
  },
  {
   "cell_type": "code",
   "execution_count": 141,
   "metadata": {},
   "outputs": [],
   "source": [
    "a = 1\n",
    "r = 10\n",
    "length = 17\n",
    "h = [a * r ** (1-n) for n in range(length, 0, -1)]\n",
    "c_fd_list, f_fd_list, t2dx_c, t2dx_f = [], [], [], []"
   ]
  },
  {
   "cell_type": "code",
   "execution_count": 142,
   "metadata": {},
   "outputs": [
    {
     "name": "stdout",
     "output_type": "stream",
     "text": [
      "x \th \tc_fd \t\t\tf_fd \t\t\ttrue_error-c \t\t\tte_forward\n",
      "1 \t1e-16 \t-2775557561562891.5 \t-8326672684688675.0 \t2775557561562892.0 \t8326672684688676.0\n",
      "1 \t1e-15 \t-555111512312578.25 \t55511151231257.82 \t555111512312578.8 \t-55511151231257.28\n",
      "1 \t1e-14 \t-54123372450476.38 \t277555756156.2891 \t54123372450476.92 \t-277555756155.7478\n",
      "1 \t1e-13 \t-5412337245047.638 \t-2775557561.562891 \t5412337245048.179 \t2775557562.1042323\n",
      "1 \t1e-12 \t-541344746807.2264 \t55511151.23125783 \t541344746807.7677 \t-55511150.6899167\n",
      "1 \t1e-11 \t-54134197124.966484 \t277555.75615628914 \t54134197125.50783 \t-277555.2148151562\n",
      "1 \t1e-10 \t-5413411385.823962 \t0.0 \t5413411386.365303 \t0.5413411329464508\n",
      "1 \t1e-09 \t-541341138.5823963 \t55.51115123125782 \t541341139.1237375 \t-54.96981009831137\n",
      "1 \t1e-08 \t-54134113.30312811 \t0.2775557561562891 \t54134113.84446924 \t0.26378537679016173\n",
      "1 \t1e-07 \t-5413411.327537255 \t0.5467848396278897 \t5413411.868878388 \t-0.005443706681438898\n",
      "1 \t1e-06 \t-541341.1329202589 \t0.5412892356559951 \t541341.6742613919 \t5.189729045573799e-05\n",
      "1 \t1e-05 \t-54134.11329840966 \t0.5413311465751746 \t54134.65463954261 \t9.98637127624935e-06\n",
      "1 \t0.0001 \t-5413.41136555129 \t0.54123287518415 \t5413.952706684237 \t0.00010825776230083406\n",
      "1 \t0.001 \t-541.3414938405803 \t0.5402597126613617 \t541.8828349735267 \t0.001081420285089063\n",
      "1 \t0.01 \t-54.13772230771107 \t0.5306395479517945 \t54.67906344065752 \t0.010701584994656343\n",
      "1 \t0.1 \t-5.449572985925265 \t0.4446919801357473 \t5.990914118871716 \t0.09664915281070352\n",
      "1 \t1 \t-0.9816843611112658 \t0.1011827576358107 \t1.5230254940577166 \t0.4401583753106401\n"
     ]
    }
   ],
   "source": [
    "print(\"{} \\t{} \\t{} \\t\\t\\t{} \\t\\t\\t{} \\t\\t\\t{}\".format('x', 'h', 'c_fd', 'f_fd', 'true_error-c', 'te_forward'))\n",
    "true_secd_d = f2(1)\n",
    "\n",
    "for i in h:\n",
    "    c_fd = centered_fd(1, i)\n",
    "    f_fd = forward_fd(1, i)\n",
    "    \n",
    "    te_c = true_secd_d - c_fd\n",
    "    te_f = true_secd_d - f_fd\n",
    "    \n",
    "    c_fd_list.append(c_fd)\n",
    "    f_fd_list.append(f_fd)\n",
    "    t2dx_c.append(te_c)\n",
    "    t2dx_f.append(te_f)\n",
    "    \n",
    "    if(c_fd == 0):\n",
    "        print(\"{} \\t{} \\t{} \\t\\t\\t{} \\t\\t\\t{} \\t{}\".format(1, i, c_fd, f_fd, te_c, te_f))\n",
    "    else:\n",
    "        print(\"{} \\t{} \\t{} \\t{} \\t{} \\t{}\".format(1, i, c_fd, f_fd, te_c, te_f))"
   ]
  },
  {
   "cell_type": "markdown",
   "metadata": {},
   "source": [
    "## (b)\n",
    "Using the true second derivative $f''(x)$ at $x=0.5$, plot the total error of the two approximations as a function of $h$, like Figure 1.1 of the book by Heath."
   ]
  },
  {
   "cell_type": "code",
   "execution_count": 143,
   "metadata": {},
   "outputs": [],
   "source": [
    "def truncation_error(true, approx, dec, M, h):\n",
    "    tens = 10**dec\n",
    "    \n",
    "    h = np.array(h)\n",
    "    approx = np.array(approx)\n",
    "    \n",
    "    t = np.trunc(true*tens)/tens\n",
    "    a = np.trunc(approx*tens)/tens\n",
    "    \n",
    "    diff = np.trunc((t-a)*tens)/tens + M*h/2\n",
    "    \n",
    "    print(diff)\n",
    "    return list(diff)"
   ]
  },
  {
   "cell_type": "code",
   "execution_count": 144,
   "metadata": {},
   "outputs": [],
   "source": [
    "def rounding_error(approx, r, h):\n",
    "    eps = 1e-16\n",
    "    \n",
    "    h = np.array(h)\n",
    "    approx = np.array(approx)\n",
    "    r_app = np.around(approx, r)\n",
    "    \n",
    "    diff = approx - r_app + 2*eps/h\n",
    "    \n",
    "    print(diff)\n",
    "    return list(diff)"
   ]
  },
  {
   "cell_type": "code",
   "execution_count": 145,
   "metadata": {},
   "outputs": [],
   "source": [
    "def computation_error(tre, re):\n",
    "    add = np.array(tre) + np.array(re)\n",
    "    print(add)\n",
    "    return list(add)"
   ]
  },
  {
   "cell_type": "code",
   "execution_count": 146,
   "metadata": {},
   "outputs": [
    {
     "name": "stdout",
     "output_type": "stream",
     "text": [
      "[ 3.00000000e+00  2.00000000e-01  2.00000000e-02  2.00905991e-03\n",
      "  1.57837164e-04 -2.37108683e-05  2.00000000e-06 -4.85687422e-05\n",
      " -4.42238437e-05 -1.51583721e-05 -1.07641440e-05  3.11465952e-05\n",
      "  3.28751861e-05 -4.02873384e-05  3.95479518e-05 -8.01986425e-06\n",
      " -1.72423642e-05]\n"
     ]
    }
   ],
   "source": [
    "re = rounding_error(f_fd_list, 4, h)"
   ]
  },
  {
   "cell_type": "code",
   "execution_count": 147,
   "metadata": {},
   "outputs": [
    {
     "name": "stdout",
     "output_type": "stream",
     "text": [
      "[2.77555756e+15 5.55111512e+14 5.41233725e+13 5.41233725e+12\n",
      " 5.41344747e+11 5.41341971e+10 5.41341139e+09 5.41341139e+08\n",
      " 5.41341138e+07 5.41341187e+06 5.41341674e+05 5.41346545e+04\n",
      " 5.41395255e+03 5.41883200e+02 5.46840000e+01 6.04070000e+00\n",
      " 2.02290000e+00]\n"
     ]
    }
   ],
   "source": [
    "tre = truncation_error(true_secd_d, c_fd_list, 4, 1, h)"
   ]
  },
  {
   "cell_type": "code",
   "execution_count": 148,
   "metadata": {},
   "outputs": [
    {
     "name": "stdout",
     "output_type": "stream",
     "text": [
      "[2.77555756e+15 5.55111512e+14 5.41233725e+13 5.41233725e+12\n",
      " 5.41344747e+11 5.41341971e+10 5.41341139e+09 5.41341139e+08\n",
      " 5.41341138e+07 5.41341187e+06 5.41341674e+05 5.41346545e+04\n",
      " 5.41395258e+03 5.41883160e+02 5.46840395e+01 6.04069198e+00\n",
      " 2.02288276e+00]\n"
     ]
    }
   ],
   "source": [
    "c_ce = computation_error(tre, re)"
   ]
  },
  {
   "cell_type": "code",
   "execution_count": 149,
   "metadata": {},
   "outputs": [
    {
     "data": {
      "text/plain": [
       "2.0228827576358106"
      ]
     },
     "execution_count": 149,
     "metadata": {},
     "output_type": "execute_result"
    }
   ],
   "source": [
    "min(c_ce)"
   ]
  },
  {
   "cell_type": "code",
   "execution_count": 150,
   "metadata": {},
   "outputs": [
    {
     "data": {
      "text/plain": [
       "1372080290410281.0"
      ]
     },
     "execution_count": 150,
     "metadata": {},
     "output_type": "execute_result"
    }
   ],
   "source": [
    "(max(c_ce) - min(c_ce))/min(c_ce)"
   ]
  },
  {
   "cell_type": "code",
   "execution_count": 151,
   "metadata": {},
   "outputs": [],
   "source": [
    "temp2 = np.linspace(min(c_ce), max(c_ce), num=len(h))"
   ]
  },
  {
   "cell_type": "code",
   "execution_count": 152,
   "metadata": {},
   "outputs": [
    {
     "data": {
      "text/plain": [
       "array([2.02288276e+00, 1.73472348e+14, 3.46944695e+14, 5.20417043e+14,\n",
       "       6.93889390e+14, 8.67361738e+14, 1.04083409e+15, 1.21430643e+15,\n",
       "       1.38777878e+15, 1.56125113e+15, 1.73472348e+15, 1.90819582e+15,\n",
       "       2.08166817e+15, 2.25514052e+15, 2.42861287e+15, 2.60208521e+15,\n",
       "       2.77555756e+15])"
      ]
     },
     "execution_count": 152,
     "metadata": {},
     "output_type": "execute_result"
    }
   ],
   "source": [
    "temp2"
   ]
  },
  {
   "cell_type": "code",
   "execution_count": 153,
   "metadata": {},
   "outputs": [],
   "source": [
    "plt.rcParams[\"figure.figsize\"] = (16, 12)"
   ]
  },
  {
   "cell_type": "code",
   "execution_count": 154,
   "metadata": {},
   "outputs": [],
   "source": [
    "temp = np.arange(len(h))"
   ]
  },
  {
   "cell_type": "code",
   "execution_count": 165,
   "metadata": {},
   "outputs": [
    {
     "data": {
      "text/plain": [
       "[<matplotlib.lines.Line2D at 0x7f4c169ec1d0>]"
      ]
     },
     "execution_count": 165,
     "metadata": {},
     "output_type": "execute_result"
    },
    {
     "data": {
      "image/png": "[encoded data removed]",
      "text/plain": [
       "<Figure size 1152x864 with 1 Axes>"
      ]
     },
     "metadata": {},
     "output_type": "display_data"
    }
   ],
   "source": [
    "plt.loglog(h, t2dx_c)\n",
    "# plt.loglog(h, t2dx_f, 'g-')"
   ]
  },
  {
   "cell_type": "code",
   "execution_count": 160,
   "metadata": {},
   "outputs": [],
   "source": [
    "# plt.plot(h, t2dx)"
   ]
  },
  {
   "cell_type": "code",
   "execution_count": 67,
   "metadata": {},
   "outputs": [],
   "source": [
    "# fig, ax = plt.subplots(1, 1)\n",
    "# ax.plot(temp, re, 'bo-')\n",
    "# plt.loglog(h, t2dx)\n",
    "# ax.plot(temp, c_ce, 'y.-')\n",
    "# ax.set_yticks(temp2)\n",
    "# ax.set_yticklabels(temp2, minor = False)\n",
    "# ax.set_xticks(temp)\n",
    "# ax.set_xticklabels(h, minor=False)"
   ]
  },
  {
   "cell_type": "markdown",
   "metadata": {},
   "source": [
    "## (c)\n",
    "Explain, in words, what you see. How do these approximations compare?"
   ]
  },
  {
   "cell_type": "markdown",
   "metadata": {},
   "source": []
  },
  {
   "cell_type": "markdown",
   "metadata": {},
   "source": [
    "----\n",
    "# Exercise 3 (Computer exercise 1.13 from the book)\n",
    "If an amount $a$ is invested at interest rate $r$ compounded $n$ times per year, then the final value $f$ at the end of one year is given by\n",
    "$$\n",
    "  f = a (1 + r/n)^n.\n",
    "$$\n",
    "This is the familiar formula for _compound interest_. When simple interest, $n=1$. Typically, compounding is done quarterly ($n=4$) or daily ($n=365$). Obviously, the more frequent the compounding, the greater the final amount. But how much difference does this frequency actually make?"
   ]
  },
  {
   "cell_type": "markdown",
   "metadata": {},
   "source": [
    "## (a)\n",
    "Write a program that implements the compound interest formula. Test your program using an initial investment of $a=100$, interest rate of 5 percent (so $r=0.05$), and the following values for $n$: $1, 4, 12, 365$.\n",
    "Do not use Pythons `pow` function, but compute $f$ as $a (1 + r/n) \\cdot (1+r/n) \\cdot \\ldots \\cdot (1+r/n)$."
   ]
  },
  {
   "cell_type": "code",
   "execution_count": 25,
   "metadata": {},
   "outputs": [],
   "source": [
    "def compound_interest(a, r, n):\n",
    "    term = (1.0 + float(r/n))**n\n",
    "    return (a * term)"
   ]
  },
  {
   "cell_type": "code",
   "execution_count": 26,
   "metadata": {},
   "outputs": [
    {
     "name": "stdout",
     "output_type": "stream",
     "text": [
      "Compound interest with a: 100, n: 1, r: 0.05 is: 105.0\n",
      "Compound interest with a: 100, n: 4, r: 0.05 is: 105.09453369140623\n",
      "Compound interest with a: 100, n: 12, r: 0.05 is: 105.1161897881733\n",
      "Compound interest with a: 100, n: 365, r: 0.05 is: 105.12674964674473\n"
     ]
    }
   ],
   "source": [
    "print(\"Compound interest with a: {}, n: {}, r: {} is: {}\".format(100, 1, 0.05, compound_interest(100, 0.05, 1)) )\n",
    "print(\"Compound interest with a: {}, n: {}, r: {} is: {}\".format(100, 4, 0.05, compound_interest(100, 0.05, 4)) )\n",
    "print(\"Compound interest with a: {}, n: {}, r: {} is: {}\".format(100, 12, 0.05, compound_interest(100, 0.05, 12)) )\n",
    "print(\"Compound interest with a: {}, n: {}, r: {} is: {}\".format(100, 365, 0.05, compound_interest(100, 0.05, 365)) )"
   ]
  },
  {
   "cell_type": "markdown",
   "metadata": {},
   "source": [
    "## (b)\n",
    "We can rewrite $f$ as $f = a \\exp(n \\log(1 + r/n))$. Using this formula, do the same as in (a)."
   ]
  },
  {
   "cell_type": "code",
   "execution_count": 27,
   "metadata": {},
   "outputs": [],
   "source": [
    "def exp_ci(a, r, n):\n",
    "    return (a * np.exp(n * np.log(1.0 + r/n)))"
   ]
  },
  {
   "cell_type": "code",
   "execution_count": 28,
   "metadata": {},
   "outputs": [
    {
     "name": "stdout",
     "output_type": "stream",
     "text": [
      "Compound interest with a: 100, n: 0.05, r: 1 is: 105.0\n",
      "Compound interest with a: 100, n: 0.05, r: 4 is: 105.09453369140623\n",
      "Compound interest with a: 100, n: 0.05, r: 12 is: 105.1161897881733\n",
      "Compound interest with a: 100, n: 0.05, r: 365 is: 105.12674964674473\n"
     ]
    }
   ],
   "source": [
    "print(\"Compound interest with a: {}, n: {}, r: {} is: {}\".format(100, 0.05, 1, exp_ci(100, 0.05, 1 )) )\n",
    "print(\"Compound interest with a: {}, n: {}, r: {} is: {}\".format(100, 0.05, 4, exp_ci(100, 0.05, 4)) )\n",
    "print(\"Compound interest with a: {}, n: {}, r: {} is: {}\".format(100, 0.05, 12, exp_ci(100, 0.05, 12)) )\n",
    "print(\"Compound interest with a: {}, n: {}, r: {} is: {}\".format(100, 0.05, 365, exp_ci(100, 0.05, 365)) )"
   ]
  },
  {
   "cell_type": "markdown",
   "metadata": {},
   "source": [
    "## (c)\n",
    "Can you find a value of $n$ such that the formula of (a) becomes unstable? Explain this phenomenon in words."
   ]
  },
  {
   "cell_type": "code",
   "execution_count": 29,
   "metadata": {
    "scrolled": false
   },
   "outputs": [
    {
     "name": "stdout",
     "output_type": "stream",
     "text": [
      "107.19107892336255\n",
      "100.0\n"
     ]
    }
   ],
   "source": [
    "print(compound_interest(100, 0.05, 1.9**52))\n",
    "print(compound_interest(100, 0.05,  2**52))"
   ]
  },
  {
   "cell_type": "code",
   "execution_count": 30,
   "metadata": {},
   "outputs": [],
   "source": [
    "# TODO: Revise answer"
   ]
  },
  {
   "cell_type": "markdown",
   "metadata": {},
   "source": [
    "The value of *n* becomes unstable with any value after $\\approx$ 450 trillion (4.50 $\\times 10^{14} \\approx 2^{52}$).\n",
    "\n",
    "For values greater than $ 2^{52}$, the formula in (a) always results in 100.\n",
    "\n",
    "This is due the limitations of machine approximation of the floating point numbers for an IEEE double precision system. This limitation results in an *overflow* where the number cannot be represented by its exact value but rather its closest approximation."
   ]
  },
  {
   "cell_type": "code",
   "execution_count": 31,
   "metadata": {},
   "outputs": [],
   "source": [
    "import sys"
   ]
  },
  {
   "cell_type": "code",
   "execution_count": 32,
   "metadata": {},
   "outputs": [
    {
     "data": {
      "text/plain": [
       "sys.float_info(max=1.7976931348623157e+308, max_exp=1024, max_10_exp=308, min=2.2250738585072014e-308, min_exp=-1021, min_10_exp=-307, dig=15, mant_dig=53, epsilon=2.220446049250313e-16, radix=2, rounds=1)"
      ]
     },
     "execution_count": 32,
     "metadata": {},
     "output_type": "execute_result"
    }
   ],
   "source": [
    "sys.float_info"
   ]
  },
  {
   "cell_type": "code",
   "execution_count": 33,
   "metadata": {},
   "outputs": [
    {
     "data": {
      "text/plain": [
       "finfo(resolution=1e-15, min=-1.7976931348623157e+308, max=1.7976931348623157e+308, dtype=float64)"
      ]
     },
     "execution_count": 33,
     "metadata": {},
     "output_type": "execute_result"
    }
   ],
   "source": [
    "np.finfo(np.float)"
   ]
  }
 ],
 "metadata": {
  "kernelspec": {
   "display_name": "Python 3",
   "language": "python",
   "name": "python3"
  },
  "language_info": {
   "codemirror_mode": {
    "name": "ipython",
    "version": 3
   },
   "file_extension": ".py",
   "mimetype": "text/x-python",
   "name": "python",
   "nbconvert_exporter": "python",
   "pygments_lexer": "ipython3",
   "version": "3.6.5"
  }
 },
 "nbformat": 4,
 "nbformat_minor": 2
}
