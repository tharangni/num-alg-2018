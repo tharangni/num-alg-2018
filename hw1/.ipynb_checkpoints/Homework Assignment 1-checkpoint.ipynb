{
 "cells": [
  {
   "cell_type": "markdown",
   "metadata": {},
   "source": [
    "Please **submit this Jupyter notebook through Canvas** no later than **Monday November 5 12:59**, before the start of the lecture.\n",
    "\n",
    "Homework is in **groups of two**, and you are expected to hand in original work. Work that is copied from another group will not be accepted."
   ]
  },
  {
   "cell_type": "markdown",
   "metadata": {},
   "source": [
    "# Exercise 0\n",
    "Write down the names + student ID of the people in your group."
   ]
  },
  {
   "cell_type": "markdown",
   "metadata": {},
   "source": [
    "Tharangni H Sivaji (11611065)"
   ]
  },
  {
   "cell_type": "markdown",
   "metadata": {},
   "source": [
    "-----\n",
    "# Exercise 1\n",
    "Consider the function $f(x) = \\tan(x)$. Because $\\tan(x) = \\sin(x) / \\cos(x)$, we can approximate $f(x)$ using Taylor approximations for $\\sin(x)$ and $\\cos(x)$:\n",
    "$$\n",
    "  \\sin(x) \\approx x - \\frac{1}{6} x^3, \\quad \\text{and} \\quad \\cos(x) \\approx 1 - \\frac{1}{2} x^2.\n",
    "$$\n",
    "This gives the approximation\n",
    "$$\n",
    "\\hat f(x) = \\frac{x - \\frac{1}{6} x^3}{1 - \\frac{1}{2} x^2}.\n",
    "$$"
   ]
  },
  {
   "cell_type": "markdown",
   "metadata": {},
   "source": [
    "## (a)\n",
    "Evaluate $f(x)$ and $\\hat f(x)$ at $x = 1$ and $x = 1.4$. Compute the absolute forward error and absolute backward error."
   ]
  },
  {
   "cell_type": "code",
   "execution_count": 1,
   "metadata": {},
   "outputs": [],
   "source": [
    "import sys\n",
    "import math\n",
    "import numpy as np\n",
    "import matplotlib.pyplot as plt\n",
    "\n",
    "from scipy.misc import derivative"
   ]
  },
  {
   "cell_type": "code",
   "execution_count": 2,
   "metadata": {},
   "outputs": [],
   "source": [
    "def y(x):\n",
    "    return round(np.tan(x), 5)\n",
    "\n",
    "def y_hat(x):\n",
    "    return round((x - (x**3)/6)/(1 - (x**2)/2), 5)\n",
    "\n",
    "def x_real(x):\n",
    "    return x\n",
    "\n",
    "def x_hat(y_error):\n",
    "    return round(np.arctan(y_error), 5)\n",
    "\n",
    "def abs_fe(y, y_hat):\n",
    "    return round(abs(y - y_hat), 5)\n",
    "\n",
    "def abs_be(x, x_hat):\n",
    "    return round(abs(x - x_hat), 5)"
   ]
  },
  {
   "cell_type": "code",
   "execution_count": 3,
   "metadata": {},
   "outputs": [
    {
     "name": "stdout",
     "output_type": "stream",
     "text": [
      "For x = 1, \n",
      "y = 1.55741, y_hat = 1.66667, x_hat = 1.03038 \n",
      "Absolute forward error: 0.10926\n",
      "Absolute backward error: 0.03038\n",
      "---\n",
      "For x = 1.4, \n",
      "y = 5.79788, y_hat = 47.13333, x_hat = 1.54958 \n",
      "Absolute forward error: 41.33545\n",
      "Absolute backward error: 0.14958\n"
     ]
    }
   ],
   "source": [
    "print(\"For x = {}, \".format(1))\n",
    "print(\"y = {}, y_hat = {}, x_hat = {} \".format( y(1), y_hat(1), x_hat(y_hat(1)) ))\n",
    "print(\"Absolute forward error: {}\".format( abs_fe(y(1), y_hat(1)) ))\n",
    "print(\"Absolute backward error: {}\".format( abs_be(x_real(1), x_hat(y_hat(1))) ))\n",
    "print(\"---\")\n",
    "print(\"For x = {}, \".format(1.4))\n",
    "print(\"y = {}, y_hat = {}, x_hat = {} \".format( y(1.4), y_hat(1.4), x_hat(y_hat(1.4)) ))\n",
    "print(\"Absolute forward error: {}\".format( abs_fe(y(1.4), y_hat(1.4)) ))\n",
    "print(\"Absolute backward error: {}\".format( abs_be(x_real(1.4), x_hat(y_hat(1.4))) ))"
   ]
  },
  {
   "cell_type": "markdown",
   "metadata": {},
   "source": [
    "Given,\n",
    "\n",
    "$$\n",
    "y = f(x) = \\tan(x)\n",
    "$$\n",
    "\n",
    "$$\n",
    "\\hat y = \\hat f(x) = \\frac{x - \\frac{1}{6} x^3}{1 - \\frac{1}{2} x^2}\n",
    "$$\n",
    "\n",
    "---\n",
    "\n",
    "At x = 1 (computing in radians),\n",
    "\n",
    "$$\n",
    "y = f(1) = \\tan(1) \\approx 1.5574\n",
    "$$\n",
    "\n",
    "$$\n",
    "\\hat y = \\hat f(1) = \\frac{1 - \\frac{1}{6} 1^3}{1 - \\frac{1}{2} 1^2} = \\frac{5}{3} \\approx 1.6667\n",
    "$$\n",
    "\n",
    "$\\therefore$ Absolute forward error = $|\\hat y - y| = 0.1093$\n",
    "\n",
    "$$\n",
    "x = 1 \n",
    "$$\n",
    "To compute $\\hat x$, \n",
    "$$\n",
    "y = f(x) = \\tan(x) \\quad \\Rightarrow \\quad \\hat y = f(\\hat x) = \\tan(\\hat x) \\\\\n",
    "\\Rightarrow \\hat x = \\tan^{-1}(\\hat y) \\\\\n",
    "\\Rightarrow \\hat x = \\tan^{-1}(1.6667) \\\\\n",
    "\\therefore \\hat x \\approx 1.03047\n",
    "$$\n",
    "\n",
    "$\\therefore$ Absolute backward error = $|\\hat x - x| = 0.0303$\n",
    "\n",
    "---\n",
    "\n",
    "At x = 1.4 (computing in radians),\n",
    "\n",
    "$$\n",
    "y = f(1) = \\tan(1.4) \\approx 5.79788\n",
    "$$\n",
    "\n",
    "$$\n",
    "\\hat y = \\hat f(1.4) = \\frac{1 - \\frac{1}{6} 1.4^3}{1 - \\frac{1}{2} 1.4^2} = \\frac{707}{15} \\approx 47.13334\n",
    "$$\n",
    "\n",
    "$\\therefore$ Absolute forward error = $|\\hat y - y| = 41.33546$\n",
    "\n",
    "$$\n",
    "x = 1.4 \n",
    "$$\n",
    "To compute $\\hat x$, \n",
    "$$\n",
    "y = f(x) = \\tan(x) \\quad \\Rightarrow \\quad \\hat y = f(\\hat x) = \\tan(\\hat x) \\\\\n",
    "\\Rightarrow \\hat x = \\tan^{-1}(\\hat y) \\\\\n",
    "\\Rightarrow \\hat x = \\tan^{-1}(47.13334) \\\\\n",
    "\\therefore \\hat x \\approx 1.54958\n",
    "$$\n",
    "\n",
    "$\\therefore$ Absolute backward error = $|\\hat x - x| = 0.14958$"
   ]
  },
  {
   "cell_type": "markdown",
   "metadata": {},
   "source": [
    "## (b)\n",
    "Ignore $\\hat f(x)$ for now. Compute the relative condition number of $f(x)$ near $x=1$ and near $x=1.4$."
   ]
  },
  {
   "cell_type": "code",
   "execution_count": 4,
   "metadata": {},
   "outputs": [],
   "source": [
    "def rfe(y, y_hat):\n",
    "    return round(abs( abs_fe(y, y_hat)/y ), 5)\n",
    "\n",
    "def rbe(x, x_hat):\n",
    "    return round(abs( abs_be(x, x_hat)/x ), 5)\n",
    "\n",
    "def rcn(r_fe, r_be):\n",
    "    return round(abs(r_fe/r_be), 5)"
   ]
  },
  {
   "cell_type": "code",
   "execution_count": 5,
   "metadata": {},
   "outputs": [
    {
     "name": "stdout",
     "output_type": "stream",
     "text": [
      "For x = 1, \n",
      "Relative forward error: 1.0\n",
      "Relative backward error: 0.03038\n",
      "Relative condition number: 32.91639\n"
     ]
    }
   ],
   "source": [
    "# x = 1\n",
    "x_ = x_real(1)\n",
    "y_real = y(x_)\n",
    "y_error = y_hat(x_)\n",
    "x_error = x_hat(y_error)\n",
    "\n",
    "# ignoring f_hat(x) by setting it to 0\n",
    "rfe_ign_x1 = rfe(y_real, 0)\n",
    "rbe_ign_x1 = rbe(x_, x_error)\n",
    "rcn_ign_x1 = rcn(rfe_ign_x1, rbe_ign_x1)\n",
    "\n",
    "print(\"For x = {}, \".format(1))\n",
    "print(\"Relative forward error: {}\".format(rfe_ign_x1))\n",
    "print(\"Relative backward error: {}\".format(rbe_ign_x1))\n",
    "print(\"Relative condition number: {}\".format(rcn_ign_x1))"
   ]
  },
  {
   "cell_type": "code",
   "execution_count": 6,
   "metadata": {},
   "outputs": [
    {
     "name": "stdout",
     "output_type": "stream",
     "text": [
      "For x = 1.4, \n",
      "Relative forward error: 1.0\n",
      "Relative backward error: 0.10684\n",
      "Relative condition number: 9.35979\n"
     ]
    }
   ],
   "source": [
    "# x = 1.4\n",
    "x_ = x_real(1.4)\n",
    "y_real = y(x_)\n",
    "y_error = y_hat(x_)\n",
    "x_error = x_hat(y_error)\n",
    "\n",
    "# ignoring f_hat(x) by setting it to 0\n",
    "rfe_ign_x14 = rfe(y_real, 0)\n",
    "rbe_ign_x14 = rbe(x_, x_error)\n",
    "rcn_ign_x14 = rcn(rfe_ign_x14, rbe_ign_x14)\n",
    "\n",
    "print(\"For x = {}, \".format(1.4))\n",
    "print(\"Relative forward error: {}\".format(rfe_ign_x14))\n",
    "print(\"Relative backward error: {}\".format(rbe_ign_x14))\n",
    "print(\"Relative condition number: {}\".format(rcn_ign_x14))"
   ]
  },
  {
   "cell_type": "markdown",
   "metadata": {},
   "source": [
    "Igoring $\\hat f(x)$ by setting $\\hat y = 0$,\n",
    "\n",
    "Relative forward error (RFE) = $|\\frac{\\hat y - y}{y}|$ = 1 (for both x near 1 and 1.4)\n",
    "\n",
    "Relative backward error (RBE) = $|\\frac{\\hat x - x}{x}|$ \n",
    "\n",
    "Relative condition number = $\\frac{(RFE)}{(RBE)}$ = $ \\frac{1}{RBE} $ = $\\left |\\frac{x}{\\hat x - x}\\right |$\n",
    "\n",
    "---\n",
    "At x = 1,\n",
    "\n",
    "Relative condition number = $\\left |\\frac{x}{\\hat x - x}\\right |$ \n",
    "\n",
    "= $\\left | \\frac{1}{1 - 1.03047} \\right |$ \n",
    "\n",
    "$\\approx$ 32.8947\n",
    "\n",
    "---\n",
    "\n",
    "At x = 1.4,\n",
    "\n",
    "Relative condition number = $\\left |\\frac{x}{\\hat x - x}\\right |$ \n",
    "\n",
    "= $\\left |\\frac{1.4}{1.54958 - 1.4}\\right |$\n",
    "\n",
    "= $\\frac{1.4}{0.14958}$\n",
    "\n",
    "$\\approx$ 9.3645"
   ]
  },
  {
   "cell_type": "markdown",
   "metadata": {},
   "source": [
    "## (c)\n",
    "Compute the relative condition number of $\\hat f(x)$ near $x=1$ and near $x=1.4$."
   ]
  },
  {
   "cell_type": "code",
   "execution_count": 7,
   "metadata": {},
   "outputs": [
    {
     "name": "stdout",
     "output_type": "stream",
     "text": [
      "For x = 1, \n",
      "Relative forward error: 0.07015\n",
      "Relative backward error: 0.03038\n",
      "Relative condition number: 2.30908\n"
     ]
    }
   ],
   "source": [
    "# x = 1\n",
    "x_ = x_real(1)\n",
    "y_real = y(x_)\n",
    "y_error = y_hat(x_)\n",
    "x_error = x_hat(y_error)\n",
    "\n",
    "rfe_x1 = rfe(y_real, y_error)\n",
    "rbe_x1 = rbe(x_, x_error)\n",
    "rcn_x1 = rcn(rfe_x1, rbe_x1)\n",
    "\n",
    "print(\"For x = {}, \".format(1))\n",
    "print(\"Relative forward error: {}\".format(rfe_x1))\n",
    "print(\"Relative backward error: {}\".format(rbe_x1))\n",
    "print(\"Relative condition number: {}\".format(rcn_x1))"
   ]
  },
  {
   "cell_type": "code",
   "execution_count": 8,
   "metadata": {},
   "outputs": [
    {
     "name": "stdout",
     "output_type": "stream",
     "text": [
      "For x = 1.4, \n",
      "Relative forward error: 7.12941\n",
      "Relative backward error: 0.10684\n",
      "Relative condition number: 66.72978\n"
     ]
    }
   ],
   "source": [
    "# x = 1.4\n",
    "x_ = x_real(1.4)\n",
    "y_real = y(x_)\n",
    "y_error = y_hat(x_)\n",
    "x_error = x_hat(y_error)\n",
    "\n",
    "rfe_x14 = rfe(y_real, y_error)\n",
    "rbe_x14 = rbe(x_, x_error)\n",
    "rcn_x14 = rcn(rfe_x14, rbe_x14)\n",
    "\n",
    "print(\"For x = {}, \".format(1.4))\n",
    "print(\"Relative forward error: {}\".format(rfe_x14))\n",
    "print(\"Relative backward error: {}\".format(rbe_x14))\n",
    "print(\"Relative condition number: {}\".format(rcn_x14))"
   ]
  },
  {
   "cell_type": "markdown",
   "metadata": {},
   "source": [
    "At x = 1,\n",
    "\n",
    "Relative forward error = $\\left |\\frac{\\hat y - y}{y}\\right |$ = $\\left |\\frac{1.6667 - 1.5574}{1.5574}\\right |$ = 0.07018\n",
    "\n",
    "Relative backward error = $\\left |\\frac{\\hat x - x}{x}\\right |$ = $\\left |\\frac{1.03047 - 1}{1}\\right |$ = 0.0303\n",
    "\n",
    "Relative condition number = $\\frac{0.07018}{0.0303}$ $\\approx$ 2.31617\n",
    "\n",
    "---\n",
    "\n",
    "At x = 1.4,\n",
    "\n",
    "Relative forward error = $\\left |\\frac{\\hat y - y}{y}\\right |$ = $\\left |\\frac{47.13334 - 5.79788}{5.79788}\\right |$ = 7.1294\n",
    "\n",
    "Relative backward error = $\\left |\\frac{\\hat x - x}{x}\\right |$ = $\\frac{0.14958}{1.4}$ = 0.10678\n",
    "\n",
    "Relative condition number = $\\frac{7.1294}{0.10678}$ $\\approx$ 66.7671"
   ]
  },
  {
   "cell_type": "markdown",
   "metadata": {},
   "source": [
    "--------\n",
    "# Exercise 2\n",
    "Consider the following finite difference approximations of the second derivative of a function $f(x)$:\n",
    "$$\n",
    "\\text{Centered FD:} \\quad f''(x) \\approx \\frac{f(x+h) - 2f(x) + f(x-h)}{h^2},\n",
    "$$\n",
    "$$\n",
    "\\text{Forward FD:} \\quad f''(x) \\approx \\frac{f(x+2h) - 2f(x+h) + f(x)}{h^2}.\n",
    "$$"
   ]
  },
  {
   "cell_type": "markdown",
   "metadata": {},
   "source": [
    "## (a)\n",
    "Consider the function $f(x) = \\exp(-2x)$ evaluated at $x = 0.5$. Compute both finite difference approximations for the range $h \\in \\{1, 10^{-1}, \\ldots, 10^{-16}\\}$."
   ]
  },
  {
   "cell_type": "code",
   "execution_count": 9,
   "metadata": {},
   "outputs": [],
   "source": [
    "def f(x, method):\n",
    "    if method == \"first\":\n",
    "        return np.sin(x)\n",
    "    return np.exp(-2*x)\n",
    "\n",
    "def f_xx(x, method):\n",
    "    if method == \"first\":\n",
    "        return np.cos(x)\n",
    "    return 4*np.exp(-2*x)\n",
    "\n",
    "def centered_fd(x, h, method):\n",
    "    if method == \"first\":\n",
    "        nr = f(x+h, method) - f(x-h, method)\n",
    "        dr = 2*h\n",
    "    else:    \n",
    "        nr = f(x+h, method) + f(x-h, method) - 2*f(x, method)\n",
    "        dr = h**2\n",
    "    return (nr/dr)\n",
    "\n",
    "def forward_fd(x, h, method):\n",
    "    if method == \"first\":\n",
    "        nr = f(x+h, method) - f(x, method)\n",
    "        dr = h\n",
    "    else:\n",
    "        nr = f(x+2*h, method) - 2*f(x+h, method) + f(x, method)\n",
    "        dr = h**2\n",
    "    return (nr/dr)"
   ]
  },
  {
   "cell_type": "code",
   "execution_count": 10,
   "metadata": {},
   "outputs": [],
   "source": [
    "a = 1\n",
    "r = 10\n",
    "length = 17"
   ]
  },
  {
   "cell_type": "code",
   "execution_count": 11,
   "metadata": {},
   "outputs": [],
   "source": [
    "val = 0.5"
   ]
  },
  {
   "cell_type": "code",
   "execution_count": 12,
   "metadata": {},
   "outputs": [],
   "source": [
    "h = [a * r ** (1-n) for n in range(1, length+1)]"
   ]
  },
  {
   "cell_type": "code",
   "execution_count": 13,
   "metadata": {},
   "outputs": [],
   "source": [
    "true_fxx = f_xx(val, method=\"second\")"
   ]
  },
  {
   "cell_type": "code",
   "execution_count": 14,
   "metadata": {},
   "outputs": [],
   "source": [
    "L = np.zeros((length, 6))"
   ]
  },
  {
   "cell_type": "code",
   "execution_count": 15,
   "metadata": {},
   "outputs": [],
   "source": [
    "'''\n",
    "L[:, 0] : Value of x\n",
    "L[:, 1] : Value of h, step size\n",
    "L[:, 2] : Centered finite difference approximation for second derivative\n",
    "L[:, 3] : Forward finite difference approximation for second derivative\n",
    "L[:, 4] : Total error in C-FD\n",
    "L[:, 5] : Total error in F-FD\n",
    "'''\n",
    "\n",
    "for i, step in enumerate(h):\n",
    "    L[i][0] = val\n",
    "    L[i][1] = step\n",
    "    L[i][2] = centered_fd(val, step, method=\"second\") \n",
    "    L[i][3] = forward_fd(val, step, method=\"second\") \n",
    "    L[i][4] = abs(true_fxx - L[i][2])\n",
    "    L[i][5] = abs(true_fxx - L[i][3])"
   ]
  },
  {
   "cell_type": "code",
   "execution_count": 16,
   "metadata": {},
   "outputs": [
    {
     "name": "stdout",
     "output_type": "stream",
     "text": [
      "[[ 2.03231001e+00  2.75043251e-01]\n",
      " [ 1.47642937e+00  1.20879813e+00]\n",
      " [ 1.47156682e+00  1.44242784e+00]\n",
      " [ 1.47151826e+00  1.46857816e+00]\n",
      " [ 1.47151777e+00  1.47122349e+00]\n",
      " [ 1.47151846e+00  1.47148738e+00]\n",
      " [ 1.47148960e+00  1.47165613e+00]\n",
      " [ 1.47659662e+00  1.45994328e+00]\n",
      " [ 0.00000000e+00  2.77555756e+00]\n",
      " [ 0.00000000e+00  0.00000000e+00]\n",
      " [ 0.00000000e+00  5.55111512e+03]\n",
      " [ 0.00000000e+00  5.55111512e+05]\n",
      " [ 0.00000000e+00  0.00000000e+00]\n",
      " [ 0.00000000e+00  1.11022302e+10]\n",
      " [ 0.00000000e+00  5.55111512e+11]\n",
      " [ 0.00000000e+00 -5.55111512e+13]\n",
      " [ 0.00000000e+00  5.55111512e+15]]\n"
     ]
    }
   ],
   "source": [
    "print(L[:,2:4]) # Centerd FD and Forward FD respectively"
   ]
  },
  {
   "cell_type": "markdown",
   "metadata": {},
   "source": [
    "## (b)\n",
    "Using the true second derivative $f''(x)$ at $x=0.5$, plot the total error of the two approximations as a function of $h$, like Figure 1.1 of the book by Heath."
   ]
  },
  {
   "cell_type": "code",
   "execution_count": 17,
   "metadata": {},
   "outputs": [],
   "source": [
    "# modify the bounds\n",
    "M = 1\n",
    "eps = 1e-16\n",
    "A = np.zeros((length, 7))"
   ]
  },
  {
   "cell_type": "code",
   "execution_count": 18,
   "metadata": {},
   "outputs": [],
   "source": [
    "'''\n",
    "A[:, 0] : Value of x\n",
    "A[:, 1] : Value of h, step size\n",
    "A[:, 2] : Centered finite difference approximation for second derivative\n",
    "A[:, 3] : Forward finite difference approximation for second derivative\n",
    "A[:, 4] : Truncation Error F-FD\n",
    "A[:, 5] : Rounding Error C-FD\n",
    "A[:, 6] : Computational Error\n",
    "'''\n",
    "for i, step in enumerate(h):\n",
    "    A[i][0] = val\n",
    "    A[i][1] = step\n",
    "    A[i][2] = centered_fd(val, step, method=\"second\") \n",
    "    A[i][3] = forward_fd(val, step, method=\"second\") \n",
    "    A[i][4] = abs(true_fxx - int(A[i][2] * 10000)/10000.0 + M*step/2)\n",
    "    A[i][5] = abs(A[i][2] - round(A[i][2], 4) + 2*eps/step)\n",
    "    A[i][6] = abs(A[i][4]+A[i][5])"
   ]
  },
  {
   "cell_type": "code",
   "execution_count": 19,
   "metadata": {},
   "outputs": [
    {
     "data": {
      "text/plain": [
       "array([1.00144840e-05, 2.93686539e-05, 3.31840685e-05, 1.82552474e-05,\n",
       "       1.77743005e-05, 1.84626568e-05, 1.04029618e-05, 3.37524854e-06,\n",
       "       2.00000000e-08, 2.00000000e-07, 2.00000000e-06, 2.00000000e-05,\n",
       "       2.00000000e-04, 2.00000000e-03, 2.00000000e-02, 2.00000000e-01,\n",
       "       2.00000000e+00])"
      ]
     },
     "execution_count": 19,
     "metadata": {},
     "output_type": "execute_result"
    }
   ],
   "source": [
    "A[:, 5]"
   ]
  },
  {
   "cell_type": "code",
   "execution_count": 20,
   "metadata": {},
   "outputs": [],
   "source": [
    "plt.rcParams[\"figure.figsize\"] = (8, 6)"
   ]
  },
  {
   "cell_type": "code",
   "execution_count": 21,
   "metadata": {},
   "outputs": [],
   "source": [
    "temp = np.arange(len(h))"
   ]
  },
  {
   "cell_type": "code",
   "execution_count": 22,
   "metadata": {},
   "outputs": [
    {
     "data": {
      "image/png": "[encoded data removed]",
      "text/plain": [
       "<Figure size 1152x864 with 1 Axes>"
      ]
     },
     "metadata": {},
     "output_type": "display_data"
    }
   ],
   "source": [
    "fig1, ax1 = plt.subplots(1, 1)\n",
    "ax1.loglog(A[:, 1], A[:, 4], 'bo-', label = \"Truncation Error\")\n",
    "ax1.loglog(A[:, 1], A[:, 5], 'yD-', label = \"Rounding Error\")\n",
    "# ax1.loglog(A[:, 1], A[:, 6], 'r*-', label = \"Computational Error\")\n",
    "ax1.set_xlabel(\"Step Size\")\n",
    "ax1.set_ylabel(\"Total Error\")\n",
    "ax1.legend()\n",
    "fig1.tight_layout()"
   ]
  },
  {
   "cell_type": "code",
   "execution_count": 23,
   "metadata": {},
   "outputs": [
    {
     "data": {
      "image/png": "[encoded data removed]",
      "text/plain": [
       "<Figure size 1152x864 with 1 Axes>"
      ]
     },
     "metadata": {},
     "output_type": "display_data"
    }
   ],
   "source": [
    "fig, ax = plt.subplots(1, 1)\n",
    "ax.loglog(L[:, 1], L[:, 4], 'mo-', label = \"Centered Approximation\")\n",
    "ax.loglog(L[:, 1], L[:, 5], 'cD-', label = \"Forward Approximation\")\n",
    "ax.set_xlabel(\"Step Size\")\n",
    "ax.set_ylabel(\"Total Error\")\n",
    "ax.legend()\n",
    "fig.tight_layout()"
   ]
  },
  {
   "cell_type": "markdown",
   "metadata": {},
   "source": [
    "## (c)\n",
    "Explain, in words, what you see. How do these approximations compare?"
   ]
  },
  {
   "cell_type": "markdown",
   "metadata": {},
   "source": [
    "## TODO"
   ]
  },
  {
   "cell_type": "markdown",
   "metadata": {},
   "source": [
    "----\n",
    "# Exercise 3 (Computer exercise 1.13 from the book)\n",
    "If an amount $a$ is invested at interest rate $r$ compounded $n$ times per year, then the final value $f$ at the end of one year is given by\n",
    "$$\n",
    "  f = a (1 + r/n)^n.\n",
    "$$\n",
    "This is the familiar formula for _compound interest_. When simple interest, $n=1$. Typically, compounding is done quarterly ($n=4$) or daily ($n=365$). Obviously, the more frequent the compounding, the greater the final amount. But how much difference does this frequency actually make?"
   ]
  },
  {
   "cell_type": "markdown",
   "metadata": {},
   "source": [
    "## (a)\n",
    "Write a program that implements the compound interest formula. Test your program using an initial investment of $a=100$, interest rate of 5 percent (so $r=0.05$), and the following values for $n$: $1, 4, 12, 365$.\n",
    "Do not use Pythons `pow` function, but compute $f$ as $a (1 + r/n) \\cdot (1+r/n) \\cdot \\ldots \\cdot (1+r/n)$."
   ]
  },
  {
   "cell_type": "code",
   "execution_count": 24,
   "metadata": {},
   "outputs": [],
   "source": [
    "def compound_interest(a, r, n):\n",
    "    term = (1.0 + float(r/n))**n\n",
    "    return (a * term)"
   ]
  },
  {
   "cell_type": "code",
   "execution_count": 25,
   "metadata": {},
   "outputs": [
    {
     "name": "stdout",
     "output_type": "stream",
     "text": [
      "Compound interest with a: 100, n: 1, r: 0.05 is: 105.0\n",
      "Compound interest with a: 100, n: 4, r: 0.05 is: 105.09453369140623\n",
      "Compound interest with a: 100, n: 12, r: 0.05 is: 105.1161897881733\n",
      "Compound interest with a: 100, n: 365, r: 0.05 is: 105.12674964674473\n"
     ]
    }
   ],
   "source": [
    "print(\"Compound interest with a: {}, n: {}, r: {} is: {}\".format(100, 1, 0.05, compound_interest(100, 0.05, 1)) )\n",
    "print(\"Compound interest with a: {}, n: {}, r: {} is: {}\".format(100, 4, 0.05, compound_interest(100, 0.05, 4)) )\n",
    "print(\"Compound interest with a: {}, n: {}, r: {} is: {}\".format(100, 12, 0.05, compound_interest(100, 0.05, 12)) )\n",
    "print(\"Compound interest with a: {}, n: {}, r: {} is: {}\".format(100, 365, 0.05, compound_interest(100, 0.05, 365)) )"
   ]
  },
  {
   "cell_type": "markdown",
   "metadata": {},
   "source": [
    "## (b)\n",
    "We can rewrite $f$ as $f = a \\exp(n \\log(1 + r/n))$. Using this formula, do the same as in (a)."
   ]
  },
  {
   "cell_type": "code",
   "execution_count": 26,
   "metadata": {},
   "outputs": [],
   "source": [
    "def exp_ci(a, r, n):\n",
    "    return (a * np.exp(n * np.log(1.0 + r/n)))"
   ]
  },
  {
   "cell_type": "code",
   "execution_count": 27,
   "metadata": {},
   "outputs": [
    {
     "name": "stdout",
     "output_type": "stream",
     "text": [
      "Compound interest with a: 100, n: 0.05, r: 1 is: 105.0\n",
      "Compound interest with a: 100, n: 0.05, r: 4 is: 105.09453369140623\n",
      "Compound interest with a: 100, n: 0.05, r: 12 is: 105.1161897881733\n",
      "Compound interest with a: 100, n: 0.05, r: 365 is: 105.12674964674473\n"
     ]
    }
   ],
   "source": [
    "print(\"Compound interest with a: {}, n: {}, r: {} is: {}\".format(100, 0.05, 1, exp_ci(100, 0.05, 1 )) )\n",
    "print(\"Compound interest with a: {}, n: {}, r: {} is: {}\".format(100, 0.05, 4, exp_ci(100, 0.05, 4)) )\n",
    "print(\"Compound interest with a: {}, n: {}, r: {} is: {}\".format(100, 0.05, 12, exp_ci(100, 0.05, 12)) )\n",
    "print(\"Compound interest with a: {}, n: {}, r: {} is: {}\".format(100, 0.05, 365, exp_ci(100, 0.05, 365)) )"
   ]
  },
  {
   "cell_type": "markdown",
   "metadata": {},
   "source": [
    "## (c)\n",
    "Can you find a value of $n$ such that the formula of (a) becomes unstable? Explain this phenomenon in words."
   ]
  },
  {
   "cell_type": "code",
   "execution_count": 28,
   "metadata": {
    "scrolled": false
   },
   "outputs": [
    {
     "name": "stdout",
     "output_type": "stream",
     "text": [
      "107.19107892336255\n",
      "100.0\n"
     ]
    }
   ],
   "source": [
    "print(compound_interest(100, 0.05, 1.9**52))\n",
    "print(compound_interest(100, 0.05,  2**52))"
   ]
  },
  {
   "cell_type": "markdown",
   "metadata": {},
   "source": [
    "The value of *n* becomes unstable with any value after $\\approx$ 450 trillion (4.50 $\\times 10^{14} \\approx 2^{52}$).\n",
    "\n",
    "For values greater than $ 2^{52}$, the formula in (a) always results in 100. (a = 100, *term* = 1)\n",
    "\n",
    "This is due the limitations of machine approximation of the floating point numbers for an IEEE double precision system. This limitation results in an *overflow* where the number cannot be represented by its exact value but rather its closest approximation. "
   ]
  },
  {
   "cell_type": "code",
   "execution_count": 29,
   "metadata": {},
   "outputs": [
    {
     "data": {
      "text/plain": [
       "sys.float_info(max=1.7976931348623157e+308, max_exp=1024, max_10_exp=308, min=2.2250738585072014e-308, min_exp=-1021, min_10_exp=-307, dig=15, mant_dig=53, epsilon=2.220446049250313e-16, radix=2, rounds=1)"
      ]
     },
     "execution_count": 29,
     "metadata": {},
     "output_type": "execute_result"
    }
   ],
   "source": [
    "sys.float_info"
   ]
  }
 ],
 "metadata": {
  "kernelspec": {
   "display_name": "Python 3",
   "language": "python",
   "name": "python3"
  },
  "language_info": {
   "codemirror_mode": {
    "name": "ipython",
    "version": 3
   },
   "file_extension": ".py",
   "mimetype": "text/x-python",
   "name": "python",
   "nbconvert_exporter": "python",
   "pygments_lexer": "ipython3",
   "version": "3.6.5"
  }
 },
 "nbformat": 4,
 "nbformat_minor": 2
}
