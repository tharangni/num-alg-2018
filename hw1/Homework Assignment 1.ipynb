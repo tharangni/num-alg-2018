{
 "cells": [
  {
   "cell_type": "markdown",
   "metadata": {},
   "source": [
    "Please **submit this Jupyter notebook through Canvas** no later than **Monday November 5 12:59**, before the start of the lecture.\n",
    "\n",
    "Homework is in **groups of two**, and you are expected to hand in original work. Work that is copied from another group will not be accepted."
   ]
  },
  {
   "cell_type": "markdown",
   "metadata": {},
   "source": [
    "# Exercise 0\n",
    "Write down the names + student ID of the people in your group."
   ]
  },
  {
   "cell_type": "markdown",
   "metadata": {},
   "source": [
    "Tharangni H Sivaji (11611065)"
   ]
  },
  {
   "cell_type": "markdown",
   "metadata": {},
   "source": [
    "-----\n",
    "# Exercise 1\n",
    "Consider the function $f(x) = \\tan(x)$. Because $\\tan(x) = \\sin(x) / \\cos(x)$, we can approximate $f(x)$ using Taylor approximations for $\\sin(x)$ and $\\cos(x)$:\n",
    "$$\n",
    "  \\sin(x) \\approx x - \\frac{1}{6} x^3, \\quad \\text{and} \\quad \\cos(x) \\approx 1 - \\frac{1}{2} x^2.\n",
    "$$\n",
    "This gives the approximation\n",
    "$$\n",
    "\\hat f(x) = \\frac{x - \\frac{1}{6} x^3}{1 - \\frac{1}{2} x^2}.\n",
    "$$"
   ]
  },
  {
   "cell_type": "markdown",
   "metadata": {},
   "source": [
    "## (a)\n",
    "Evaluate $f(x)$ and $\\hat f(x)$ at $x = 1$ and $x = 1.4$. Compute the absolute forward error and absolute backward error."
   ]
  },
  {
   "cell_type": "markdown",
   "metadata": {},
   "source": [
    "Given,\n",
    "\n",
    "$$\n",
    "y = f(x) = \\tan(x)\n",
    "$$\n",
    "\n",
    "$$\n",
    "\\hat y = \\hat f(x) = \\frac{x - \\frac{1}{6} x^3}{1 - \\frac{1}{2} x^2}\n",
    "$$\n",
    "\n",
    "---\n",
    "\n",
    "At x = 1 (computing in radians),\n",
    "\n",
    "$$\n",
    "y = f(1) = \\tan(1) \\approx 1.5574\n",
    "$$\n",
    "\n",
    "$$\n",
    "\\hat y = \\hat f(1) = \\frac{1 - \\frac{1}{6} 1^3}{1 - \\frac{1}{2} 1^2} = \\frac{5}{3} \\approx 1.6667\n",
    "$$\n",
    "\n",
    "$\\therefore$ Absolute forward error = $|\\hat y - y| = 0.1093$\n",
    "\n",
    "$$\n",
    "x = 1 \n",
    "$$\n",
    "To compute $\\hat x$, \n",
    "$$\n",
    "y = f(x) = \\tan(x) \\quad \\Rightarrow \\quad \\hat y = f(\\hat x) = \\tan(\\hat x) \\\\\n",
    "\\Rightarrow \\hat x = \\tan^{-1}(\\hat y) \\\\\n",
    "\\Rightarrow \\hat x = \\tan^{-1}(1.6667) \\\\\n",
    "\\therefore \\hat x \\approx 1.03047\n",
    "$$\n",
    "\n",
    "$\\therefore$ Absolute backward error = $|\\hat x - x| = 0.0303$\n",
    "\n",
    "---\n",
    "\n",
    "At x = 1.4 (computing in radians),\n",
    "\n",
    "$$\n",
    "y = f(1) = \\tan(1.4) \\approx 5.79788\n",
    "$$\n",
    "\n",
    "$$\n",
    "\\hat y = \\hat f(1.4) = \\frac{1 - \\frac{1}{6} 1.4^3}{1 - \\frac{1}{2} 1.4^2} = \\frac{707}{15} \\approx 47.13334\n",
    "$$\n",
    "\n",
    "$\\therefore$ Absolute forward error = $|\\hat y - y| = 41.33546$\n",
    "\n",
    "$$\n",
    "x = 1.4 \n",
    "$$\n",
    "To compute $\\hat x$, \n",
    "$$\n",
    "y = f(x) = \\tan(x) \\quad \\Rightarrow \\quad \\hat y = f(\\hat x) = \\tan(\\hat x) \\\\\n",
    "\\Rightarrow \\hat x = \\tan^{-1}(\\hat y) \\\\\n",
    "\\Rightarrow \\hat x = \\tan^{-1}(47.13334) \\\\\n",
    "\\therefore \\hat x \\approx 1.54958\n",
    "$$\n",
    "\n",
    "$\\therefore$ Absolute backward error = $|\\hat x - x| = 0.14958$"
   ]
  },
  {
   "cell_type": "markdown",
   "metadata": {},
   "source": [
    "## (b)\n",
    "Ignore $\\hat f(x)$ for now. Compute the relative condition number of $f(x)$ near $x=1$ and near $x=1.4$."
   ]
  },
  {
   "cell_type": "markdown",
   "metadata": {},
   "source": [
    "Igoring $\\hat f(x)$ by setting $\\hat y = 0$,\n",
    "\n",
    "Relative forward error (RFE) = $|\\frac{\\hat y - y}{y}|$ = 1 (for both x near 1 and 1.4)\n",
    "\n",
    "Relative backward error (RBE) = $|\\frac{\\hat x - x}{x}|$ \n",
    "\n",
    "Relative condition number = $\\frac{(RFE)}{(RBE)}$ = $ \\frac{1}{RBE} $ = $\\left |\\frac{x}{\\hat x - x}\\right |$\n",
    "\n",
    "---\n",
    "At x = 1,\n",
    "\n",
    "Relative condition number = $\\left |\\frac{x}{\\hat x - x}\\right |$ \n",
    "\n",
    "= $\\left | \\frac{1}{1 - 1.03047} \\right |$ \n",
    "\n",
    "$\\approx$ 33.0033\n",
    "\n",
    "---\n",
    "\n",
    "At x = 1.4,\n",
    "\n",
    "Relative condition number = $\\left |\\frac{x}{\\hat x - x}\\right |$ \n",
    "\n",
    "= $\\left |\\frac{1.4}{1.54958 - 1.4}\\right |$\n",
    "\n",
    "= $\\frac{1.4}{0.14958}$\n",
    "\n",
    "$\\approx$ 9.3645"
   ]
  },
  {
   "cell_type": "markdown",
   "metadata": {},
   "source": [
    "## (c)\n",
    "Compute the relative condition number of $\\hat f(x)$ near $x=1$ and near $x=1.4$."
   ]
  },
  {
   "cell_type": "markdown",
   "metadata": {},
   "source": [
    "At x = 1,\n",
    "\n",
    "Relative forward error = $\\left |\\frac{\\hat y - y}{y}\\right |$ = $\\left |\\frac{1.6667 - 1.5574}{1.5574}\\right |$ = 0.07018\n",
    "\n",
    "Relative backward error = $\\left |\\frac{\\hat x - x}{x}\\right |$ = $\\left |\\frac{1.03047 - 1}{1}\\right |$ = 0.0303\n",
    "\n",
    "Relative condition number = $\\frac{0.07018}{0.0303}$ $\\approx$ 2.31617\n",
    "\n",
    "---\n",
    "\n",
    "At x = 1.4,\n",
    "\n",
    "Relative forward error = $\\left |\\frac{\\hat y - y}{y}\\right |$ = $\\left |\\frac{47.13334 - 5.79788}{5.79788}\\right |$ = 7.1294\n",
    "\n",
    "Relative backward error = $\\left |\\frac{\\hat x - x}{x}\\right |$ = $\\frac{0.14958}{1.4}$ = 0.10678\n",
    "\n",
    "Relative condition number = $\\frac{7.1294}{0.10678}$ $\\approx$ 66.7671"
   ]
  },
  {
   "cell_type": "markdown",
   "metadata": {},
   "source": [
    "--------\n",
    "# Exercise 2\n",
    "Consider the following finite difference approximations of the second derivative of a function $f(x)$:\n",
    "$$\n",
    "\\text{Centered FD:} \\quad f''(x) \\approx \\frac{f(x+h) - 2f(x) + f(x-h)}{h^2},\n",
    "$$\n",
    "$$\n",
    "\\text{Forward FD:} \\quad f''(x) \\approx \\frac{f(x+2h) - 2f(x+h) + f(x)}{h^2}.\n",
    "$$"
   ]
  },
  {
   "cell_type": "markdown",
   "metadata": {},
   "source": [
    "## (a)\n",
    "Consider the function $f(x) = \\exp(-2x)$ evaluated at $x = 0.5$. Compute both finite difference approximations for the range $h \\in \\{1, 10^{-1}, \\ldots, 10^{-16}\\}$."
   ]
  },
  {
   "cell_type": "code",
   "execution_count": null,
   "metadata": {},
   "outputs": [],
   "source": []
  },
  {
   "cell_type": "markdown",
   "metadata": {},
   "source": [
    "## (b)\n",
    "Using the true second derivative $f''(x)$ at $x=0.5$, plot the total error of the two approximations as a function of $h$, like Figure 1.1 of the book by Heath."
   ]
  },
  {
   "cell_type": "code",
   "execution_count": null,
   "metadata": {},
   "outputs": [],
   "source": []
  },
  {
   "cell_type": "markdown",
   "metadata": {},
   "source": [
    "## (c)\n",
    "Explain, in words, what you see. How do these approximations compare?"
   ]
  },
  {
   "cell_type": "markdown",
   "metadata": {},
   "source": []
  },
  {
   "cell_type": "markdown",
   "metadata": {},
   "source": [
    "----\n",
    "# Exercise 3 (Computer exercise 1.13 from the book)\n",
    "If an amount $a$ is invested at interest rate $r$ compounded $n$ times per year, then the final value $f$ at the end of one year is given by\n",
    "$$\n",
    "  f = a (1 + r/n)^n.\n",
    "$$\n",
    "This is the familiar formula for _compound interest_. When simple interest, $n=1$. Typically, compounding is done quarterly ($n=4$) or daily ($n=365$). Obviously, the more frequent the compounding, the greater the final amount. But how much difference does this frequency actually make?"
   ]
  },
  {
   "cell_type": "markdown",
   "metadata": {},
   "source": [
    "## (a)\n",
    "Write a program that implements the compound interest formula. Test your program using an initial investment of $a=100$, interest rate of 5 percent (so $r=0.05$), and the following values for $n$: $1, 4, 12, 365$.\n",
    "Do not use Pythons `pow` function, but compute $f$ as $a (1 + r/n) \\cdot (1+r/n) \\cdot \\ldots \\cdot (1+r/n)$."
   ]
  },
  {
   "cell_type": "code",
   "execution_count": 38,
   "metadata": {},
   "outputs": [],
   "source": [
    "import math"
   ]
  },
  {
   "cell_type": "code",
   "execution_count": 23,
   "metadata": {},
   "outputs": [],
   "source": [
    "def compound_interest(a, r, n):\n",
    "    term = 1.0\n",
    "    \n",
    "    for i in range(1, n+1):\n",
    "        term = term * (1.0 + float(r/n))\n",
    "    \n",
    "    return (a * term)"
   ]
  },
  {
   "cell_type": "code",
   "execution_count": 32,
   "metadata": {},
   "outputs": [
    {
     "name": "stdout",
     "output_type": "stream",
     "text": [
      "Compound interest with a: 100, n: 1, r: 0.05 is: 105.0\n",
      "Compound interest with a: 100, n: 4, r: 0.05 is: 105.09453369140623\n",
      "Compound interest with a: 100, n: 12, r: 0.05 is: 105.1161897881733\n",
      "Compound interest with a: 100, n: 365, r: 0.05 is: 105.12674964674463\n"
     ]
    }
   ],
   "source": [
    "print(\"Compound interest with a: {}, n: {}, r: {} is: {}\".format(100, 1, 0.05, compound_interest(100, 0.05, 1)) )\n",
    "print(\"Compound interest with a: {}, n: {}, r: {} is: {}\".format(100, 4, 0.05, compound_interest(100, 0.05, 4)) )\n",
    "print(\"Compound interest with a: {}, n: {}, r: {} is: {}\".format(100, 12, 0.05, compound_interest(100, 0.05, 12)) )\n",
    "print(\"Compound interest with a: {}, n: {}, r: {} is: {}\".format(100, 365, 0.05, compound_interest(100, 0.05, 365)) )"
   ]
  },
  {
   "cell_type": "markdown",
   "metadata": {},
   "source": [
    "## (b)\n",
    "We can rewrite $f$ as $f = a \\exp(n \\log(1 + r/n))$. Using this formula, do the same as in (a)."
   ]
  },
  {
   "cell_type": "code",
   "execution_count": 39,
   "metadata": {},
   "outputs": [],
   "source": [
    "def exp_ci(a, r, n):\n",
    "    return (a * math.exp(n * math.log(1.0 + r/n)))"
   ]
  },
  {
   "cell_type": "code",
   "execution_count": 40,
   "metadata": {},
   "outputs": [
    {
     "name": "stdout",
     "output_type": "stream",
     "text": [
      "Compound interest with a: 100, n: 1, r: 0.05 is: 105.0\n",
      "Compound interest with a: 100, n: 4, r: 0.05 is: 105.09453369140623\n",
      "Compound interest with a: 100, n: 12, r: 0.05 is: 105.1161897881733\n",
      "Compound interest with a: 100, n: 365, r: 0.05 is: 105.12674964674473\n"
     ]
    }
   ],
   "source": [
    "print(\"Compound interest with a: {}, n: {}, r: {} is: {}\".format(100, 0.05, 1, exp_ci(100, 0.05, 1)) )\n",
    "print(\"Compound interest with a: {}, n: {}, r: {} is: {}\".format(100, 0.05, 4, exp_ci(100, 0.05, 4)) )\n",
    "print(\"Compound interest with a: {}, n: {}, r: {} is: {}\".format(100, 0.05, 12, exp_ci(100, 0.05, 12)) )\n",
    "print(\"Compound interest with a: {}, n: {}, r: {} is: {}\".format(100, 0.05, 365, exp_ci(100, 0.05, 365)) )"
   ]
  },
  {
   "cell_type": "markdown",
   "metadata": {},
   "source": [
    "## (c)\n",
    "Can you find a value of $n$ such that the formula of (a) becomes unstable? Explain this phenomenon in words."
   ]
  },
  {
   "cell_type": "code",
   "execution_count": 54,
   "metadata": {},
   "outputs": [],
   "source": [
    "# TODO: need to figure this out"
   ]
  },
  {
   "cell_type": "code",
   "execution_count": 52,
   "metadata": {},
   "outputs": [
    {
     "name": "stdout",
     "output_type": "stream",
     "text": [
      "105.12711007119991\n",
      "105.12710959251521\n",
      "105.12710949758417\n",
      "105.12710832424403\n",
      "105.12709649679266\n",
      "105.12697823318902\n"
     ]
    }
   ],
   "source": [
    "print(compound_interest(100, 0.05, 100000000))\n",
    "print(compound_interest(100, 0.05, 10000000))\n",
    "print(compound_interest(100, 0.05, 1000000))\n",
    "print(compound_interest(100, 0.05, 100000))\n",
    "print(compound_interest(100, 0.05, 10000))\n",
    "print(compound_interest(100, 0.05, 1000))"
   ]
  },
  {
   "cell_type": "markdown",
   "metadata": {},
   "source": []
  }
 ],
 "metadata": {
  "kernelspec": {
   "display_name": "Python 3",
   "language": "python",
   "name": "python3"
  },
  "language_info": {
   "codemirror_mode": {
    "name": "ipython",
    "version": 3
   },
   "file_extension": ".py",
   "mimetype": "text/x-python",
   "name": "python",
   "nbconvert_exporter": "python",
   "pygments_lexer": "ipython3",
   "version": "3.6.5"
  }
 },
 "nbformat": 4,
 "nbformat_minor": 2
}
