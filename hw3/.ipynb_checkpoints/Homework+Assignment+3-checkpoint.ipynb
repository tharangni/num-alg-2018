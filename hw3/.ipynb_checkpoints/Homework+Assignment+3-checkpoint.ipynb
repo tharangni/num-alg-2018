{
 "cells": [
  {
   "cell_type": "markdown",
   "metadata": {},
   "source": [
    "Please **submit this Jupyter notebook through Canvas** no later than **Monday November 19, 12:59**, before the start of the lecture.\n",
    "\n",
    "Homework is in **groups of two**, and you are expected to hand in original work. Work that is copied from another group will not be accepted."
   ]
  },
  {
   "cell_type": "markdown",
   "metadata": {},
   "source": [
    "# Exercise 0\n",
    "Write down the names + student ID of the people in your group."
   ]
  },
  {
   "cell_type": "markdown",
   "metadata": {},
   "source": [
    "Tharangni H Sivaji (11611065)"
   ]
  },
  {
   "cell_type": "markdown",
   "metadata": {},
   "source": [
    "-----\n",
    "# Exercise 1"
   ]
  },
  {
   "cell_type": "markdown",
   "metadata": {},
   "source": [
    "# (a)\n",
    "We have the table of data in the next cell.\n",
    "\n",
    "Using `numpy.linalg.lstsq()`, fit a straight line, a quadratic function, and a cubic function to these data. Plot the data and your fitted functions in a graph."
   ]
  },
  {
   "cell_type": "code",
   "execution_count": 1,
   "metadata": {},
   "outputs": [],
   "source": [
    "import sys\n",
    "import matplotlib.pyplot as plt"
   ]
  },
  {
   "cell_type": "code",
   "execution_count": 2,
   "metadata": {},
   "outputs": [],
   "source": [
    "import numpy as np\n",
    "t = np.array([3, 11, 29, 32, 47, 63, 73, 99], dtype=np.float)\n",
    "w = np.array([74, 72, 52, 35, 37, 20, 19, 19], dtype=np.float)"
   ]
  },
  {
   "cell_type": "code",
   "execution_count": 3,
   "metadata": {},
   "outputs": [],
   "source": [
    "def vandermonde_matrix(t, order):\n",
    "    '''\n",
    "    t: data points\n",
    "    order: order of the function to fit the data (1, ..., n)\n",
    "        1: straight line\n",
    "        2: quadratic\n",
    "        3: cubic \n",
    "    returns: v_matrix: respective vandermonde matrix as defined in ch3\n",
    "    '''\n",
    "    v_matrix = np.ones((len(t), order+1), dtype = t.dtype)\n",
    "\n",
    "    for i in range(len(t)):\n",
    "        for j in range(order):\n",
    "            v_matrix[i, j] = np.power(t[i], abs(j-order))\n",
    "    \n",
    "    return v_matrix"
   ]
  },
  {
   "cell_type": "code",
   "execution_count": 4,
   "metadata": {},
   "outputs": [],
   "source": [
    "A1 = vandermonde_matrix(t, 1)\n",
    "a1, b1 = np.linalg.lstsq(A1, w, rcond = None)[0]"
   ]
  },
  {
   "cell_type": "code",
   "execution_count": 5,
   "metadata": {},
   "outputs": [],
   "source": [
    "A2 = vandermonde_matrix(t, 2)\n",
    "a2, b2, c2 = np.linalg.lstsq(A2, w, rcond = None)[0]"
   ]
  },
  {
   "cell_type": "code",
   "execution_count": 6,
   "metadata": {},
   "outputs": [],
   "source": [
    "A3 = vandermonde_matrix(t, 3)\n",
    "a3, b3, c3, d3 = np.linalg.lstsq(A3, w, rcond = None)[0]"
   ]
  },
  {
   "cell_type": "code",
   "execution_count": 20,
   "metadata": {},
   "outputs": [
    {
     "data": {
      "image/png": "[encoded data removed]",
      "text/plain": [
       "<Figure size 432x288 with 1 Axes>"
      ]
     },
     "metadata": {},
     "output_type": "display_data"
    }
   ],
   "source": [
    "plt.plot(t, w, 'D', label='original data', markersize=7)\n",
    "plt.plot(t, a1*t + b1, 'r', label='linear')\n",
    "plt.plot(t, a2*t**2 + b2*t + c2, 'g', label='quadratic')\n",
    "plt.plot(t, a3*t**3 + b3*t**2 + c3*t + d3, 'y', label='cubic')\n",
    "plt.xlabel(\"t\")\n",
    "plt.ylabel(\"w\")\n",
    "plt.legend()\n",
    "plt.show()"
   ]
  },
  {
   "cell_type": "markdown",
   "metadata": {},
   "source": [
    "The quadratic polynomial captures a better trend of the data. Even though both quadratic and cubic appear to fit the data the same way, it's better to choose quadratic since it has fewer terms (unknowns) compared to cubic. "
   ]
  },
  {
   "cell_type": "markdown",
   "metadata": {},
   "source": [
    "## (b)\n",
    "Compute the condition number of the associated Vandermonde matrix in each case."
   ]
  },
  {
   "cell_type": "code",
   "execution_count": 11,
   "metadata": {},
   "outputs": [
    {
     "name": "stdout",
     "output_type": "stream",
     "text": [
      "95.9797884437621\n",
      "10562.214789189069\n",
      "1192946.8771486622\n"
     ]
    }
   ],
   "source": [
    "print(np.linalg.cond(A1, p = 2))\n",
    "print(np.linalg.cond(A2, p = 2))\n",
    "print(np.linalg.cond(A3, p = 2))"
   ]
  },
  {
   "cell_type": "markdown",
   "metadata": {},
   "source": [
    "The vandermonde matrices become more ill conditioned as their size increases."
   ]
  },
  {
   "cell_type": "markdown",
   "metadata": {},
   "source": [
    "----\n",
    "# Exercise 2\n",
    "Planets follow an elliptical orbit, which can be represented in a Cartesian $(x,y)$-coordinate system by the equation\n",
    "$$ ay^2 + bxy + cx + dy + e = x^2. $$"
   ]
  },
  {
   "cell_type": "markdown",
   "metadata": {},
   "source": [
    "## (a)\n",
    "Use `numpy.linalg.lstsq()` to determine the orbital parameters $a,b,c,d,e$ for the table of observations given below.\n",
    "In addition, plot the resulting orbit and the data points in the $(x,y)$-plane."
   ]
  },
  {
   "cell_type": "code",
   "execution_count": 8,
   "metadata": {},
   "outputs": [],
   "source": [
    "x = np.array([1.02, 0.95, 0.87, 0.77, 0.67, 0.56, 0.44, 0.30, 0.16, 0.01], dtype=np.float)\n",
    "y = np.array([0.39, 0.32, 0.27, 0.22, 0.18, 0.15, 0.13, 0.12, 0.13, 0.15], dtype=np.float)"
   ]
  },
  {
   "cell_type": "code",
   "execution_count": 24,
   "metadata": {},
   "outputs": [
    {
     "data": {
      "text/plain": [
       "array([-1.        , -0.97959184, -0.95918367, -0.93877551, -0.91836735,\n",
       "       -0.89795918, -0.87755102, -0.85714286, -0.83673469, -0.81632653,\n",
       "       -0.79591837, -0.7755102 , -0.75510204, -0.73469388, -0.71428571,\n",
       "       -0.69387755, -0.67346939, -0.65306122, -0.63265306, -0.6122449 ,\n",
       "       -0.59183673, -0.57142857, -0.55102041, -0.53061224, -0.51020408,\n",
       "       -0.48979592, -0.46938776, -0.44897959, -0.42857143, -0.40816327,\n",
       "       -0.3877551 , -0.36734694, -0.34693878, -0.32653061, -0.30612245,\n",
       "       -0.28571429, -0.26530612, -0.24489796, -0.2244898 , -0.20408163,\n",
       "       -0.18367347, -0.16326531, -0.14285714, -0.12244898, -0.10204082,\n",
       "       -0.08163265, -0.06122449, -0.04081633, -0.02040816,  0.        ])"
      ]
     },
     "execution_count": 24,
     "metadata": {},
     "output_type": "execute_result"
    }
   ],
   "source": []
  },
  {
   "cell_type": "markdown",
   "metadata": {},
   "source": [
    "## (b)\n",
    "This least squares problem is nearly rank-deficient. To see what effect this has on the solution, perturb the input data slightly by adding random noise between -0.005 and 0.005 (using, for instance, `numpy.random.rand`), and solve the least squares problem with the perturbed data. Compare the new values for the parameters with those from (a). What effect does this difference have on the plot of the orbit?"
   ]
  },
  {
   "cell_type": "code",
   "execution_count": null,
   "metadata": {},
   "outputs": [],
   "source": []
  },
  {
   "cell_type": "markdown",
   "metadata": {},
   "source": [
    "## (c)\n",
    "Can you explain this behaviour?"
   ]
  },
  {
   "cell_type": "markdown",
   "metadata": {},
   "source": []
  },
  {
   "cell_type": "markdown",
   "metadata": {},
   "source": [
    "## (d)\n",
    "Solve the same least squares problem again, for both the original *and* the perturbed data, this time using a routine specifically designed to deal with rank deficiencies. An example is `numpy.linalg.lstsq`, with the argument `rcond` as tolerance. Experiment with various tolerances, say $10^-k$ for $k \\in \\{1, ..., 5\\}$. Compare the behaviour of the two solutions (one for the original input data, one for the perturbed data). How well do the resulting orbits fit the data points as the tolerance varies?"
   ]
  },
  {
   "cell_type": "code",
   "execution_count": null,
   "metadata": {},
   "outputs": [],
   "source": []
  }
 ],
 "metadata": {
  "kernelspec": {
   "display_name": "Python 3",
   "language": "python",
   "name": "python3"
  },
  "language_info": {
   "codemirror_mode": {
    "name": "ipython",
    "version": 3
   },
   "file_extension": ".py",
   "mimetype": "text/x-python",
   "name": "python",
   "nbconvert_exporter": "python",
   "pygments_lexer": "ipython3",
   "version": "3.6.5"
  }
 },
 "nbformat": 4,
 "nbformat_minor": 2
}
