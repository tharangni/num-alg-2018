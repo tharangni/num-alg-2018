{
 "cells": [
  {
   "cell_type": "markdown",
   "metadata": {},
   "source": [
    "Please **submit this Jupyter notebook through Canvas** no later than **Monday November 19, 12:59**, before the start of the lecture.\n",
    "\n",
    "Homework is in **groups of two**, and you are expected to hand in original work. Work that is copied from another group will not be accepted."
   ]
  },
  {
   "cell_type": "markdown",
   "metadata": {},
   "source": [
    "# Exercise 0\n",
    "Write down the names + student ID of the people in your group."
   ]
  },
  {
   "cell_type": "markdown",
   "metadata": {},
   "source": [
    "Tharangni H Sivaji (11611065)"
   ]
  },
  {
   "cell_type": "markdown",
   "metadata": {},
   "source": [
    "-----\n",
    "# Exercise 1"
   ]
  },
  {
   "cell_type": "markdown",
   "metadata": {},
   "source": [
    "# (a)\n",
    "We have the table of data in the next cell.\n",
    "\n",
    "Using `numpy.linalg.lstsq()`, fit a straight line, a quadratic function, and a cubic function to these data. Plot the data and your fitted functions in a graph."
   ]
  },
  {
   "cell_type": "code",
   "execution_count": 1,
   "metadata": {},
   "outputs": [],
   "source": [
    "import sys\n",
    "import random\n",
    "import warnings\n",
    "import numpy as np\n",
    "import matplotlib.pyplot as plt\n",
    "\n",
    "np.random.seed(1000)\n",
    "warnings.simplefilter('ignore', np.RankWarning)"
   ]
  },
  {
   "cell_type": "code",
   "execution_count": 2,
   "metadata": {},
   "outputs": [],
   "source": [
    "t = np.array([3, 11, 29, 32, 47, 63, 73, 99], dtype=np.float)\n",
    "w = np.array([74, 72, 52, 35, 37, 20, 19, 19], dtype=np.float)"
   ]
  },
  {
   "cell_type": "code",
   "execution_count": 3,
   "metadata": {},
   "outputs": [],
   "source": [
    "def vandermonde_matrix(t, order):\n",
    "    '''\n",
    "    t: data points\n",
    "    order: order of the function to fit the data (1, ..., n)\n",
    "        1: straight line\n",
    "        2: quadratic\n",
    "        3: cubic \n",
    "    returns: v_matrix: respective vandermonde matrix as defined in ch3\n",
    "    '''\n",
    "    v_matrix = np.ones((len(t), order+1), dtype = t.dtype)\n",
    "\n",
    "    for i in range(len(t)):\n",
    "        for j in range(order):\n",
    "            v_matrix[i, j] = np.power(t[i], abs(j-order))\n",
    "    \n",
    "    return v_matrix"
   ]
  },
  {
   "cell_type": "code",
   "execution_count": 4,
   "metadata": {},
   "outputs": [],
   "source": [
    "A1 = vandermonde_matrix(t, 1)\n",
    "a1, b1 = np.linalg.lstsq(A1, w, rcond = None)[0]"
   ]
  },
  {
   "cell_type": "code",
   "execution_count": 5,
   "metadata": {},
   "outputs": [],
   "source": [
    "A2 = vandermonde_matrix(t, 2)\n",
    "a2, b2, c2 = np.linalg.lstsq(A2, w, rcond = None)[0]"
   ]
  },
  {
   "cell_type": "code",
   "execution_count": 6,
   "metadata": {},
   "outputs": [],
   "source": [
    "A3 = vandermonde_matrix(t, 3)\n",
    "a3, b3, c3, d3 = np.linalg.lstsq(A3, w, rcond = None)[0]"
   ]
  },
  {
   "cell_type": "code",
   "execution_count": 7,
   "metadata": {},
   "outputs": [
    {
     "data": {
      "image/png": "[encoded data removed]",
      "text/plain": [
       "<Figure size 432x288 with 1 Axes>"
      ]
     },
     "metadata": {},
     "output_type": "display_data"
    }
   ],
   "source": [
    "plt.plot(t, w, 'D', label='original data', markersize=7)\n",
    "plt.plot(t, a1*t + b1, 'r', label='linear')\n",
    "plt.plot(t, a2*t**2 + b2*t + c2, 'g', label='quadratic')\n",
    "plt.plot(t, a3*t**3 + b3*t**2 + c3*t + d3, 'y', label='cubic')\n",
    "plt.xlabel(\"t\")\n",
    "plt.ylabel(\"w\")\n",
    "plt.legend()\n",
    "plt.show()"
   ]
  },
  {
   "cell_type": "markdown",
   "metadata": {},
   "source": [
    "The quadratic polynomial captures a better trend of the data. Even though both quadratic and cubic appear to fit the data the same way, it's better to choose quadratic since it has fewer terms (unknowns) compared to cubic. "
   ]
  },
  {
   "cell_type": "markdown",
   "metadata": {},
   "source": [
    "## (b)\n",
    "Compute the condition number of the associated Vandermonde matrix in each case."
   ]
  },
  {
   "cell_type": "code",
   "execution_count": 8,
   "metadata": {},
   "outputs": [
    {
     "name": "stdout",
     "output_type": "stream",
     "text": [
      "95.9797884437621\n",
      "10562.214789189069\n",
      "1192946.8771486622\n"
     ]
    }
   ],
   "source": [
    "print(np.linalg.cond(A1, p = 2))\n",
    "print(np.linalg.cond(A2, p = 2))\n",
    "print(np.linalg.cond(A3, p = 2))"
   ]
  },
  {
   "cell_type": "markdown",
   "metadata": {},
   "source": [
    "The vandermonde matrix becomes more ill conditioned as size increases."
   ]
  },
  {
   "cell_type": "markdown",
   "metadata": {},
   "source": [
    "----\n",
    "# Exercise 2\n",
    "Planets follow an elliptical orbit, which can be represented in a Cartesian $(x,y)$-coordinate system by the equation\n",
    "$$ ay^2 + bxy + cx + dy + e = x^2. $$"
   ]
  },
  {
   "cell_type": "markdown",
   "metadata": {},
   "source": [
    "## (a)\n",
    "Use `numpy.linalg.lstsq()` to determine the orbital parameters $a,b,c,d,e$ for the table of observations given below.\n",
    "In addition, plot the resulting orbit and the data points in the $(x,y)$-plane."
   ]
  },
  {
   "cell_type": "code",
   "execution_count": 9,
   "metadata": {},
   "outputs": [],
   "source": [
    "x = np.array([1.02, 0.95, 0.87, 0.77, 0.67, 0.56, 0.44, 0.30, 0.16, 0.01], dtype=np.float)\n",
    "y = np.array([0.39, 0.32, 0.27, 0.22, 0.18, 0.15, 0.13, 0.12, 0.13, 0.15], dtype=np.float)"
   ]
  },
  {
   "cell_type": "code",
   "execution_count": 10,
   "metadata": {},
   "outputs": [],
   "source": [
    "N = x.shape[0]"
   ]
  },
  {
   "cell_type": "code",
   "execution_count": 11,
   "metadata": {},
   "outputs": [],
   "source": [
    "def equation(x, y):\n",
    "    '''\n",
    "    takes the input data and returns the respective \n",
    "    LHS-RHS w.r.t the given elliptic equation    \n",
    "    '''\n",
    "    RHS = x**2\n",
    "    LHS = np.ones((N, 5))\n",
    "    LHS[:, 0] = y**2\n",
    "    LHS[:, 1] = x*y\n",
    "    LHS[:, 2] = x\n",
    "    LHS[:, 3] = y\n",
    "    \n",
    "    return LHS, RHS"
   ]
  },
  {
   "cell_type": "code",
   "execution_count": 12,
   "metadata": {},
   "outputs": [],
   "source": [
    "def ABC(a, b, c, d, e, x):\n",
    "    A = a\n",
    "    B = b*x + d\n",
    "    C = -x**2 + c*x + e\n",
    "    return A, B, C"
   ]
  },
  {
   "cell_type": "code",
   "execution_count": 13,
   "metadata": {},
   "outputs": [],
   "source": [
    "def determinant(A, B, C):\n",
    "    '''\n",
    "    roots of an equation: (-B ± √(B²-4AC))/2A\n",
    "    '''\n",
    "    root1 = (-B + np.sqrt(B**2 - 4*A*C))/(2*A)\n",
    "    root2 = (-B - np.sqrt(B**2 - 4*A*C))/(2*A)    \n",
    "    \n",
    "    return (root1, root2)"
   ]
  },
  {
   "cell_type": "code",
   "execution_count": 14,
   "metadata": {},
   "outputs": [],
   "source": [
    "def ellipse_contour(minX, maxX, minY, maxY):\n",
    "    xlin = np.linspace(minX, maxX, 100)\n",
    "    ylin = np.linspace(minY, maxY, 100)\n",
    "    [X,Y] = np.meshgrid(xlin, ylin)\n",
    "    Z = a*Y**2 + b*X*Y + c*X + d*Y + e - X**2\n",
    "    return X, Y, Z"
   ]
  },
  {
   "cell_type": "code",
   "execution_count": 15,
   "metadata": {},
   "outputs": [],
   "source": [
    "LHS, RHS = equation(x, y)"
   ]
  },
  {
   "cell_type": "code",
   "execution_count": 16,
   "metadata": {},
   "outputs": [],
   "source": [
    "# orbital parameters: a, b, c, d, e respectively\n",
    "a, b, c, d, e = np.linalg.lstsq(LHS, RHS, rcond=None)[0]"
   ]
  },
  {
   "cell_type": "code",
   "execution_count": 17,
   "metadata": {},
   "outputs": [
    {
     "data": {
      "text/plain": [
       "(-2.635625483712108,\n",
       " 0.1436461825988934,\n",
       " 0.5514469631403587,\n",
       " 3.2229403381059,\n",
       " -0.4328942702644514)"
      ]
     },
     "execution_count": 17,
     "metadata": {},
     "output_type": "execute_result"
    }
   ],
   "source": [
    "a, b, c, d, e"
   ]
  },
  {
   "cell_type": "code",
   "execution_count": 18,
   "metadata": {},
   "outputs": [],
   "source": [
    "A, B, C = ABC(a, b, c, d, e, x)"
   ]
  },
  {
   "cell_type": "code",
   "execution_count": 19,
   "metadata": {},
   "outputs": [],
   "source": [
    "y1, y2 = determinant(A, B, C)"
   ]
  },
  {
   "cell_type": "code",
   "execution_count": 20,
   "metadata": {
    "scrolled": false
   },
   "outputs": [
    {
     "data": {
      "text/plain": [
       "(array([0.38818562, 0.32384873, 0.2690847 , 0.21787281, 0.18011227,\n",
       "        0.15058866, 0.13046193, 0.12132665, 0.12720981, 0.15128579]),\n",
       " array([0.89024315, 0.95076492, 1.00116881, 1.04693052, 1.07924089,\n",
       "        1.10276931, 1.11635583, 1.11786086, 1.10434746, 1.07209622]))"
      ]
     },
     "execution_count": 20,
     "metadata": {},
     "output_type": "execute_result"
    }
   ],
   "source": [
    "y1, y2"
   ]
  },
  {
   "cell_type": "code",
   "execution_count": 21,
   "metadata": {},
   "outputs": [],
   "source": [
    "# this range was selected manually after numerous trial and errors\n",
    "minX = -0.55 #min(x)\n",
    "maxX = 1.18 #max(x)\n",
    "minY = 0 #min(y)\n",
    "maxY = 1.25 #max(y)"
   ]
  },
  {
   "cell_type": "code",
   "execution_count": 22,
   "metadata": {},
   "outputs": [],
   "source": [
    "X, Y, Z = ellipse_contour(minX, maxX, minY, maxY)"
   ]
  },
  {
   "cell_type": "code",
   "execution_count": 23,
   "metadata": {
    "scrolled": false
   },
   "outputs": [
    {
     "data": {
      "image/png": "[encoded data removed]",
      "text/plain": [
       "<Figure size 1152x360 with 2 Axes>"
      ]
     },
     "metadata": {},
     "output_type": "display_data"
    }
   ],
   "source": [
    "plt.rcParams[\"figure.figsize\"] = (16, 5)\n",
    "fig, ax = plt.subplots(1, 2, True)\n",
    "\n",
    "ax[0].plot(x, y1, label = \"y1\")\n",
    "ax[0].plot(x, y, 'D', label = \"original data\", markersize=7)\n",
    "ax[0].plot(x, y2, label = \"y2\")\n",
    "ax[0].set_xlabel(\"x\")\n",
    "ax[0].set_ylabel(\"y\")\n",
    "ax[0].set_title(\"Elliptical orbit path from solved y\")\n",
    "ax[0].legend()\n",
    "\n",
    "ax[1].plot(x, y1, \"#ffd100\", label = \"y1\", linewidth=2.5)\n",
    "ax[1].plot(x, y, \"x\", label = \"original data\", markersize=8, markeredgewidth=2.5)\n",
    "ax[1].plot(x, y2, \"#00ff00\", label = \"y2\", linewidth=2.5)\n",
    "ax[1].contour(X,Y,Z,[0], linestyles = \"dashed\")\n",
    "ax[1].set_xlabel(\"x\")\n",
    "ax[1].set_ylabel(\"y\")\n",
    "ax[1].set_title(\"Elliptical orbit path from solved y and interpolated ellipse\")\n",
    "ax[1].legend()\n",
    "\n",
    "plt.show()"
   ]
  },
  {
   "cell_type": "markdown",
   "metadata": {},
   "source": [
    "## (b)\n",
    "This least squares problem is nearly rank-deficient. To see what effect this has on the solution, perturb the input data slightly by adding random noise between -0.005 and 0.005 (using, for instance, `numpy.random.rand`), and solve the least squares problem with the perturbed data. Compare the new values for the parameters with those from (a). What effect does this difference have on the plot of the orbit?"
   ]
  },
  {
   "cell_type": "code",
   "execution_count": 24,
   "metadata": {},
   "outputs": [],
   "source": [
    "noise = 0.01 * np.random.rand(N,) - 0.005"
   ]
  },
  {
   "cell_type": "code",
   "execution_count": 25,
   "metadata": {},
   "outputs": [
    {
     "data": {
      "text/plain": [
       "array([ 0.0015359 , -0.00384993,  0.00450283, -0.00017809,  0.00372475,\n",
       "       -0.00287667, -0.0045929 , -0.00102806, -0.00266868,  0.00341741])"
      ]
     },
     "execution_count": 25,
     "metadata": {},
     "output_type": "execute_result"
    }
   ],
   "source": [
    "noise"
   ]
  },
  {
   "cell_type": "code",
   "execution_count": 26,
   "metadata": {},
   "outputs": [],
   "source": [
    "x_perturb = x + noise\n",
    "y_perturb = y + noise "
   ]
  },
  {
   "cell_type": "code",
   "execution_count": 27,
   "metadata": {},
   "outputs": [],
   "source": [
    "LHS_p, RHS_p = equation(x_perturb, y_perturb)"
   ]
  },
  {
   "cell_type": "code",
   "execution_count": 28,
   "metadata": {},
   "outputs": [],
   "source": [
    "aa, bb, cc, dd, ee = np.linalg.lstsq(LHS_p, RHS_p, rcond = None)[0]"
   ]
  },
  {
   "cell_type": "code",
   "execution_count": 29,
   "metadata": {},
   "outputs": [
    {
     "data": {
      "text/plain": [
       "(-2.635625483712108,\n",
       " 0.1436461825988934,\n",
       " 0.5514469631403587,\n",
       " 3.2229403381059,\n",
       " -0.4328942702644514)"
      ]
     },
     "execution_count": 29,
     "metadata": {},
     "output_type": "execute_result"
    }
   ],
   "source": [
    "a, b, c, d, e"
   ]
  },
  {
   "cell_type": "code",
   "execution_count": 30,
   "metadata": {},
   "outputs": [
    {
     "data": {
      "text/plain": [
       "(-2.9437488221451384,\n",
       " 0.6663088191187155,\n",
       " 0.4922639314312506,\n",
       " 2.809986196688716,\n",
       " -0.37209125026152234)"
      ]
     },
     "execution_count": 30,
     "metadata": {},
     "output_type": "execute_result"
    }
   ],
   "source": [
    "aa, bb, cc, dd, ee"
   ]
  },
  {
   "cell_type": "code",
   "execution_count": 31,
   "metadata": {},
   "outputs": [
    {
     "data": {
      "text/plain": [
       "(0.30812333843303064,\n",
       " -0.5226626365198221,\n",
       " 0.0591830317091081,\n",
       " 0.41295414141718423,\n",
       " -0.06080302000292903)"
      ]
     },
     "execution_count": 31,
     "metadata": {},
     "output_type": "execute_result"
    }
   ],
   "source": [
    "#difference between the parameters\n",
    "(a-aa), (b-bb), (c-cc), (d-dd), (e-ee)"
   ]
  },
  {
   "cell_type": "code",
   "execution_count": 32,
   "metadata": {},
   "outputs": [],
   "source": [
    "AA, BB, CC = ABC(aa, bb, cc, dd, ee, x_perturb)"
   ]
  },
  {
   "cell_type": "code",
   "execution_count": 33,
   "metadata": {},
   "outputs": [],
   "source": [
    "y_p1, y_p2 = determinant(AA, BB, CC)"
   ]
  },
  {
   "cell_type": "code",
   "execution_count": 34,
   "metadata": {},
   "outputs": [
    {
     "data": {
      "text/plain": [
       "array([False, False, False, False, False, False, False, False, False,\n",
       "       False])"
      ]
     },
     "execution_count": 34,
     "metadata": {},
     "output_type": "execute_result"
    }
   ],
   "source": [
    "y1==y_p1"
   ]
  },
  {
   "cell_type": "code",
   "execution_count": 35,
   "metadata": {},
   "outputs": [
    {
     "data": {
      "image/png": "[encoded data removed]",
      "text/plain": [
       "<Figure size 576x432 with 1 Axes>"
      ]
     },
     "metadata": {},
     "output_type": "display_data"
    }
   ],
   "source": [
    "plt.rcParams[\"figure.figsize\"] = (8, 6)\n",
    "\n",
    "plt.plot(x_perturb, y_p1, \"#ffd100\", label = \"y_p1\", linewidth=2.5)\n",
    "plt.plot(x_perturb, y_perturb, \"x\", label = \"perturbed data\", markersize=8, markeredgewidth=2.5)\n",
    "plt.plot(x_perturb, y_p2, \"#00ff00\", label = \"y_p2\", linewidth=2.5)\n",
    "plt.contour(X,Y,Z,[0], linestyles = \"dashed\")\n",
    "plt.xlabel(\"x_perturb\")\n",
    "plt.ylabel(\"y_perturb\")\n",
    "plt.title(\"Elliptical orbit path from solved y_perturbed and interpolated ellipse(y)\")\n",
    "plt.legend()\n",
    "\n",
    "plt.show()"
   ]
  },
  {
   "cell_type": "markdown",
   "metadata": {},
   "source": [
    "## (c)\n",
    "Can you explain this behaviour?"
   ]
  },
  {
   "cell_type": "markdown",
   "metadata": {},
   "source": []
  },
  {
   "cell_type": "markdown",
   "metadata": {},
   "source": [
    "## (d)\n",
    "Solve the same least squares problem again, for both the original *and* the perturbed data, this time using a routine specifically designed to deal with rank deficiencies. An example is `numpy.linalg.lstsq`, with the argument `rcond` as tolerance. Experiment with various tolerances, say $10^-k$ for $k \\in \\{1, ..., 5\\}$. Compare the behaviour of the two solutions (one for the original input data, one for the perturbed data). How well do the resulting orbits fit the data points as the tolerance varies?"
   ]
  },
  {
   "cell_type": "code",
   "execution_count": null,
   "metadata": {},
   "outputs": [],
   "source": []
  }
 ],
 "metadata": {
  "kernelspec": {
   "display_name": "Python 3",
   "language": "python",
   "name": "python3"
  },
  "language_info": {
   "codemirror_mode": {
    "name": "ipython",
    "version": 3
   },
   "file_extension": ".py",
   "mimetype": "text/x-python",
   "name": "python",
   "nbconvert_exporter": "python",
   "pygments_lexer": "ipython3",
   "version": "3.6.5"
  }
 },
 "nbformat": 4,
 "nbformat_minor": 2
}
