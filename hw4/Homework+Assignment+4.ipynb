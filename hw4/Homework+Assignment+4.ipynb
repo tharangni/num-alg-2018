{
 "cells": [
  {
   "cell_type": "markdown",
   "metadata": {},
   "source": [
    "Please **submit this Jupyter notebook through Canvas** no later than **Monday November 26, 12:59**, before the start of the lecture.\n",
    "\n",
    "Homework is in **groups of two**, and you are expected to hand in original work. Work that is copied from another group will not be accepted."
   ]
  },
  {
   "cell_type": "markdown",
   "metadata": {},
   "source": [
    "# Exercise 0\n",
    "Write down the names + student ID of the people in your group."
   ]
  },
  {
   "cell_type": "markdown",
   "metadata": {},
   "source": [
    "Tharangni H Sivaji (11611065)"
   ]
  },
  {
   "cell_type": "code",
   "execution_count": 1,
   "metadata": {},
   "outputs": [],
   "source": [
    "import numpy as np\n",
    "from scipy.sparse import diags\n",
    "\n",
    "np.random.seed(1000)"
   ]
  },
  {
   "cell_type": "markdown",
   "metadata": {},
   "source": [
    "-------------\n",
    "# Exercise 1\n",
    "# (a)\n",
    "Let $Q$ be a real, square orthogonal matrix. Show that all eigenvalues of $Q$ satisfy $|\\lambda |=1$."
   ]
  },
  {
   "cell_type": "markdown",
   "metadata": {},
   "source": []
  },
  {
   "cell_type": "markdown",
   "metadata": {},
   "source": [
    "\n",
    "# (b)\n",
    "A projection matrix is a matrix $P$ for which $P^2=P$. Find the eigenvalues of a projection matrix."
   ]
  },
  {
   "cell_type": "markdown",
   "metadata": {},
   "source": []
  },
  {
   "cell_type": "markdown",
   "metadata": {},
   "source": [
    "-----------\n",
    "# Exercise 2\n",
    "Generate a symmetric $4 × 4$ matrix $A$ randomly, e.g. as below.\n",
    "Implement Rayleigh quotient iteration (Algorithm 4.4) to compute the largest eigenvalue and corresponding eigenvector of $A$. Use a suitable stopping criterion for your iterations (and explain why you think it is suitable). You may use `scipy.linalg.solve`."
   ]
  },
  {
   "cell_type": "markdown",
   "metadata": {},
   "source": [
    "B = np.random.randn(4,4)\n",
    "A = B+B.T\n",
    "x0 = np.ones((B.shape[0], 1))"
   ]
  },
  {
   "cell_type": "code",
   "execution_count": 25,
   "metadata": {},
   "outputs": [],
   "source": [
    "A = np.matrix([[3, 1], [1, 3]])\n",
    "x, sigma = np.ones((2, 11)), np.zeros((2, 11))"
   ]
  },
  {
   "cell_type": "code",
   "execution_count": 26,
   "metadata": {},
   "outputs": [],
   "source": [
    "w, v = np.linalg.eigh(A)"
   ]
  },
  {
   "cell_type": "code",
   "execution_count": 27,
   "metadata": {},
   "outputs": [],
   "source": [
    "lambda1 = max(w)"
   ]
  },
  {
   "cell_type": "code",
   "execution_count": 28,
   "metadata": {},
   "outputs": [],
   "source": [
    "## power iteration method\n",
    "# print(\"k\\t x.T \\t\\t\\t ratio\")\n",
    "\n",
    "# x[:,0] = [0, 1]\n",
    "# k = 1\n",
    "# r = 1\n",
    "# while(round(r, 2) != lambda1):\n",
    "#     y = np.dot(A, x[:, k-1])\n",
    "#     x[:, k] = y\n",
    "#     r = x[1, k]/x[1, k-1]\n",
    "#     print(\"{}\\t {} \\t\\t {}\".format(k, x[:, k], r))    \n",
    "#     k = k+1"
   ]
  },
  {
   "cell_type": "code",
   "execution_count": 30,
   "metadata": {},
   "outputs": [
    {
     "data": {
      "text/plain": [
       "array([[0., 1., 1., 1., 1., 1., 1., 1., 1., 1., 1.],\n",
       "       [1., 1., 1., 1., 1., 1., 1., 1., 1., 1., 1.]])"
      ]
     },
     "execution_count": 30,
     "metadata": {},
     "output_type": "execute_result"
    }
   ],
   "source": [
    "x"
   ]
  },
  {
   "cell_type": "code",
   "execution_count": 32,
   "metadata": {},
   "outputs": [
    {
     "data": {
      "text/plain": [
       "1.0"
      ]
     },
     "execution_count": 32,
     "metadata": {},
     "output_type": "execute_result"
    }
   ],
   "source": [
    "(x[:, 0].T @ x[:, 0])"
   ]
  },
  {
   "cell_type": "code",
   "execution_count": 29,
   "metadata": {},
   "outputs": [
    {
     "name": "stderr",
     "output_type": "stream",
     "text": [
      "/home/tharangni/Documents/misc/lib/python3.6/site-packages/ipykernel_launcher.py:7: RuntimeWarning: divide by zero encountered in true_divide\n",
      "  import sys\n"
     ]
    }
   ],
   "source": [
    "# rayleigh quotient iteration\n",
    "\n",
    "# starting non zero vector\n",
    "x[:, 0] = [0, 1]\n",
    "for k in range(1, 10):\n",
    "    # compute shift\n",
    "    sigma[:, k] = np.dot(np.dot(x[:, k-1].T ,A), x[:, k-1]) /(x[:, k-1].T * x[:, k-1])"
   ]
  },
  {
   "cell_type": "markdown",
   "metadata": {},
   "source": [
    "-------------\n",
    "# Exercise 3\n",
    "Let $A$ be a $n × n$ tridiagonal matrix that results (up to an overall constant scaling factor) from an\n",
    "$n$-point spatial discretization of the Laplace operator in $1$ spatial dimension. Specifically, all diagonal\n",
    "elements of $A$ have the value $-2$, all elements just below or above the diagonal have value $1$.\n",
    "\n",
    "$${\\displaystyle A = \\left( \\begin{array}{rrrrr} -2 &  1  &  0 &  0& \\ldots \\\\ 1  & -2 & 1 & 0 &\\ldots   \\\\ 0 & 1 & -2 &  1 &\\ldots \\\\ \\vdots & & & & \\ddots \\end{array} \\right) \\,}$$\n",
    "\n",
    "\n",
    "\n",
    "Take $n = 150$. Use `scipy.linalg.qr` to implement Algorithm 4.7 from the book and compute the full eigenvalue spectrum of $A$. Compare against\n",
    "the eigenvalues obtained by the built-in routine `scipy.linalg.eig(A)`. Show in a figure the (approximate)\n",
    "eigenvalues after 10, 100 and 500 QR iterations, as well as the eigenvalues obtained with `eig(A)`.\n"
   ]
  },
  {
   "cell_type": "code",
   "execution_count": 7,
   "metadata": {},
   "outputs": [],
   "source": [
    "from scipy.sparse import diags\n"
   ]
  }
 ],
 "metadata": {
  "kernelspec": {
   "display_name": "Python 3",
   "language": "python",
   "name": "python3"
  },
  "language_info": {
   "codemirror_mode": {
    "name": "ipython",
    "version": 3
   },
   "file_extension": ".py",
   "mimetype": "text/x-python",
   "name": "python",
   "nbconvert_exporter": "python",
   "pygments_lexer": "ipython3",
   "version": "3.6.5"
  }
 },
 "nbformat": 4,
 "nbformat_minor": 2
}
