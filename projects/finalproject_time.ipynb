{
 "cells": [
  {
   "cell_type": "markdown",
   "metadata": {},
   "source": [
    "Please **submit this Jupyter notebook through Canvas** no later than **Friday December 14, 10:59**, before the start of the lecture.\n",
    "\n",
    "The final project is in **groups of three**, and you are expected to hand in original work. Work that is copied from another group will not be accepted.\n",
    "\n",
    "A single, jointly written report for each group is fine. All members in a group will receive the same grade."
   ]
  },
  {
   "cell_type": "markdown",
   "metadata": {},
   "source": [
    "# Exercise 0\n",
    "Write down the names + student ID of the people in your group."
   ]
  },
  {
   "cell_type": "markdown",
   "metadata": {},
   "source": []
  },
  {
   "cell_type": "markdown",
   "metadata": {},
   "source": [
    "----\n",
    "# Project keywords\n",
    "ODEs, time integration"
   ]
  },
  {
   "cell_type": "markdown",
   "metadata": {},
   "source": [
    "----\n",
    "# Project description\n",
    "There is a wide variety of mathematical models for time-evolving systems formulated as sets of coupled ordinary differential equations (ODEs). Examples range from meteorology and population dynamics to celestial mechanics and chemical reactions. In many cases, these ODEs cannot be solved analytically, and instead they are simulated by means of numerical time integration. In this assignment we will explore various various time integration methods.\n",
    "\n",
    "\n",
    "\n",
    "We consider a very simple system, one where we know the exact (analytical) solution so that we can easily compare results from numerical integration with the exact solution. The set of ODEs\n",
    "$$\\begin{array}{rcl}\n",
    "\\frac{dx}{dt} & = & y, \\\\\n",
    "\\frac{dy}{dt} & = & -\\omega^2 \\, x\n",
    "\\end{array}$$\n",
    "are the equations for the \\textit{harmonic oscillator}. This is a Hamiltonian system for which the Hamiltonian (or total energy) is given by $H=\\tfrac12 (y^2 + \\omega^2 \\, x^2)$. "
   ]
  },
  {
   "cell_type": "markdown",
   "metadata": {},
   "source": [
    "----\n",
    "# Project exercises\n",
    "## Exercise 1\n",
    "Read sections 9.1-9.3 from the book by Heath.\n",
    "\n",
    "## Exercise 2\n",
    "Solve the ODEs for the harmonic oscillator. Write down exact expressions for $x(t)$ and $y(t)$ given an arbitrary initial condition $x(t=0)=x_0, \\, y(t=0)=y_0$. Make sure you solution is correct, as this will be your benchmark to compare numerical solutions against.\n",
    "\n",
    "## Exercise 3\n",
    "Prove that the Hamiltonian is a conserved quantity, i.e. $H$ remains constant in time.\n",
    "\n",
    "## Exercise 4\n",
    "Set $\\omega=1$. Use the forward Euler scheme to integrate the ODEs in time, from $t=0$ to $t=50$, with initial condition e.g. $(x_0,y_0)=(1,0)$. What is you time step $\\Delta t$? Compare your numerical solution with the exact solution: make a plot of $x(t)$ versus $t$ for both solutions, and plot $H$ versus $t$. Pick a set of initial conditions (e.g. the corners of a square, $(x_0, y_0) = (1\\pm 0.5, \\pm 0.5)$), integrate these forward up to $t=10$, and plot the paths $(x(t),y(t))$. Compare with the exact solution.\n",
    "\n",
    "## Exercise 5\n",
    "Experiment with changing the integration time step $\\Delta t$. Assess the convergence by plotting the norm of the error (at some fixed time, e.g. $t=1$) versus $\\Delta t$, over several orders of magnitude of $\\Delta t$. Can you see that Euler's method is 1st order accurate?\n",
    "\n",
    "## Exercise 6\n",
    "Repeat the experiments above, but now with the backward Euler scheme.\n",
    "\n",
    "## Exercise 7\n",
    "Experiment with an integration schemes that gives higher order accuracy. Can you verify the order of accuracy with your numerical experiments? Does it conserve the Hamiltonian?\n",
    "\n",
    "## Exercise 8\n",
    "It is far from trivial that a time integration method respects conservation properties of the systems of ODEs, such as energy conservation. The topic of \\textit{geometric numerical integration} deals with integration methods that are structure-preserving; preserving the Hamiltonian structure (and thereby the Hamiltonian itself) is one example.\n",
    "\n",
    "\n",
    "\n",
    "The St\\\"{o}rmer -Verlet (SV) scheme preserves the symplectic structure of Hamiltonian systems. For a general set of ODEs given by $dx/dt = f(y), \\,\\, dy/dt = g(x)$, the SV scheme with time step $\\Delta t$ reads\n",
    "$$\\begin{array}{rcl}\n",
    "    y^* & = & y_k + \\frac{1}{2} \\Delta t \\cdot g(x_k) \\\\\n",
    "    x_{k+1} & = & x_k + \\Delta t \\cdot f(y^*) \\\\\n",
    "    y_{k+1} & = & y^* + \\frac{1}{2} \\Delta t \\cdot g(x_{k+1}).\n",
    "\\end{array}$$\n",
    "\n",
    "Use this scheme to integrate the ODEs of the harmonic oscillator. Compare with the results from other integration schemes.\n",
    "\n",
    "What happens with the Hamiltonian when using the SV scheme? What is the order of accuracy of the SV scheme?"
   ]
  },
  {
   "cell_type": "code",
   "execution_count": null,
   "metadata": {},
   "outputs": [],
   "source": []
  }
 ],
 "metadata": {
  "kernelspec": {
   "display_name": "Python 3",
   "language": "python",
   "name": "python3"
  },
  "language_info": {
   "codemirror_mode": {
    "name": "ipython",
    "version": 3
   },
   "file_extension": ".py",
   "mimetype": "text/x-python",
   "name": "python",
   "nbconvert_exporter": "python",
   "pygments_lexer": "ipython3",
   "version": "3.7.0"
  }
 },
 "nbformat": 4,
 "nbformat_minor": 2
}
