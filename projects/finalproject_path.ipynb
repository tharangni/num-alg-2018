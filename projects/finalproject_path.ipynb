{
 "cells": [
  {
   "cell_type": "markdown",
   "metadata": {},
   "source": [
    "Please **submit this Jupyter notebook through Canvas** no later than **Friday December 14, 10:59**, before the start of the lecture.\n",
    "\n",
    "The final project is in **groups of three**, and you are expected to hand in original work. Work that is copied from another group will not be accepted.\n",
    "\n",
    "A single, jointly written report for each group is fine. All members in a group will receive the same grade."
   ]
  },
  {
   "cell_type": "markdown",
   "metadata": {},
   "source": [
    "# Exercise 0\n",
    "Write down the names + student ID of the people in your group."
   ]
  },
  {
   "cell_type": "markdown",
   "metadata": {},
   "source": []
  },
  {
   "cell_type": "markdown",
   "metadata": {},
   "source": [
    "----\n",
    "# Project keywords\n",
    "Optimization, time integration"
   ]
  },
  {
   "cell_type": "markdown",
   "metadata": {},
   "source": [
    "----\n",
    "# Project description\n",
    "In various fields of application (e.g. physics, chemistry, biology), modeling systems as noise-driven motion in a potential landscape has been very successful. Such systems can spend most of their time in or near the bottom of a potential well, and are occasionally triggered by the noise to \"hop over\" to another well. How frequently such transitions occur depends on the noise amplitude. With small noise, transitions occur very infrequently (\"rare events\"), and the potential wells correspond to preferred states or metastable states of the system. Think of the phenomenon of protein folding, with the folded and unfolded states as metastable states.\n",
    "\n",
    "If the noise is small and the potential smooth, transitions typically follow \\textit{minimum energy paths}. An important question is what these paths look like. Answering this question by forward time integration is impractical or even impossible if the transitions are rare (in which case excessively long integrations would be needed to observe just one or a few transitions). Instead, one can try to compute the paths directly using minimization.\n",
    "\n",
    "The following potential, with $(x_1,x_2) = \\mathbf{x} \\in \\mathbb{R}^2$, is frequently used in this context:\n",
    "$$V(x_1,x_2) = \\sum_{i=1}^4 A_i \\, \\exp \\left( a_i(x_1-\\bar x_1^{(i)})^2 + b_i(x_1-\\bar x_1^{(i)})(x_2-\\bar x_2^{(i)} ) + c_i (x_2-\\bar x_2^{(i)})^2 \\right)$$\n",
    "with constants \n",
    "$$\\{A_i \\}=(-200,-100,-170,15), \\{a_i \\} = (-1, -1, -6.5, 0.7), \\{ b_i \\}=(0, 0, 11, 0.6), $$\n",
    "$$\\{ c_i \\} = (-10, -10, -6.5, 0.7), \\{ \\bar x_1^{(i)} \\} = (1, 0, -0.5, -1), \\{ \\bar x_2^{(i)} \\} = (0, 0.5, 1.5, 1).$$\n",
    "\n",
    "This potential has three local minima, these can be found by minimization. If we have two states $\\mathbf{A}$ and $\\mathbf{B}$ and we want to compute the minimum energy path that connects them, we can create a chain of $N+1$ states $\\{ \\mathbf{x}_0, \\mathbf{x}_1, ..., \\mathbf{x}_N \\}$ with $\\mathbf{x}_0=\\mathbf{A}$ and $\\mathbf{x}_N=\\mathbf{B}$, and define the energy of the chain as\n",
    "$$E(\\mathbf{x}_0, \\mathbf{x}_1, ..., \\mathbf{x}_N) = \\sum_{j=0}^N V(\\mathbf{x}_j) + \\frac12 k \\sum_{j=1}^N \\| \\mathbf{x}_j-\\mathbf{x}_{j-1} \\|_2^2.$$\n",
    "\n",
    "By minimizing $E$ over the coordinates of the states $\\mathbf{x}_1, ..., \\mathbf{x}_{N-1}$, we can approximate the minimum energy path as the path $\\mathbf{x}_0 \\rightarrow \\mathbf{x}_1 \\rightarrow ... \\rightarrow \\mathbf{x}_{N}$. This method is sometimes referred to as the \"elastic band\" method."
   ]
  },
  {
   "cell_type": "markdown",
   "metadata": {},
   "source": [
    "----\n",
    "# Project exercises\n",
    "## Exercise 1\n",
    "Read section 6.5 from the book by Heath.\n",
    "\n",
    "## Exercise 2\n",
    "Locate the minima of the potential $V$ by minimization. Discuss the algorithm that you use for this.\n",
    "\n",
    "## Exercise 3\n",
    "Make a figure of the potential $V(\\mathbf{x})$ for $(x_1,x_2) \\in [-1.5, 1.5]\\times [-0.5,2]$. Indicate the locations of the minima.\n",
    "\n",
    "## Exercise 4\n",
    "What are the free variables of the chain energy $E$  (there should be $2N-2$ in total)?\n",
    "\n",
    "What is the gradient of $E$ with respect to all these variables?\n",
    "\n",
    "## Exercise 5\n",
    "Formulate the steepest descent method to minimize $E$ under variation of the free variables.\n",
    "\n",
    "## Exercise 6\n",
    "Fix the number of states on the chain (e.g. $N=20$), and pick a value for the parameter $k$ (e.g. $k=500$). Choose two different minima of $V$ to be the begin and end states of the chain ($\\mathbf x_0$ and $\\mathbf x_N$) and minimize $E$. As initialization, you can use chain states on a straight line from $\\mathbf x_0$ to $\\mathbf x_N$.\n",
    "\n",
    "## Exercise 7\n",
    "Show the path $\\mathbf{x}_0 \\rightarrow \\mathbf{x}_1 \\rightarrow ... \\rightarrow \\mathbf{x}_{N}$ at several stages during the minimization of $E$ (initialization, final result, some intermediate stages).\n",
    "\n",
    "## Exercise 8\n",
    "Explore what happens with larger values of $N$ and different choices for $k$. How can we interpret $k$?\n",
    "\n",
    "## Exercise 9\n",
    "The states of the chain that results from the steepest descent minimization typically group together in a few clusters, giving a poor representation of the minimum energy path. Check if this happens in your algorithm.\n",
    "\n",
    "Think of a way to improve this, and experiment with your idea. Things to try:\n",
    "- modify the definition of the chain energy to include a term that \"pulls toward\" uniform line length;\n",
    "- modify the gradient for the steepest descent method to always be normal (perpendicular) to the chain."
   ]
  }
 ],
 "metadata": {
  "kernelspec": {
   "display_name": "Python 3",
   "language": "python",
   "name": "python3"
  },
  "language_info": {
   "codemirror_mode": {
    "name": "ipython",
    "version": 3
   },
   "file_extension": ".py",
   "mimetype": "text/x-python",
   "name": "python",
   "nbconvert_exporter": "python",
   "pygments_lexer": "ipython3",
   "version": "3.7.0"
  }
 },
 "nbformat": 4,
 "nbformat_minor": 2
}
